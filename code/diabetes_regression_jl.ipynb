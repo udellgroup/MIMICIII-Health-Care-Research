{
 "cells": [
  {
   "cell_type": "markdown",
   "metadata": {},
   "source": [
    "## Linear Regression"
   ]
  },
  {
   "cell_type": "code",
   "execution_count": 3,
   "metadata": {
    "scrolled": false
   },
   "outputs": [],
   "source": [
    "using DataFrames\n",
    "using CSV\n",
    "using Plots\n",
    "using Lathe\n",
    "using GLM\n",
    "using Statistics\n",
    "using StatsPlots\n",
    "using MLBase"
   ]
  },
  {
   "cell_type": "code",
   "execution_count": null,
   "metadata": {},
   "outputs": [],
   "source": [
    "# Enable printing of 1000 columns\n",
    "ENV[\"COLUMNS\"] = 1000"
   ]
  },
  {
   "cell_type": "markdown",
   "metadata": {},
   "source": [
    "### Import Data"
   ]
  },
  {
   "cell_type": "code",
   "execution_count": 4,
   "metadata": {
    "scrolled": true
   },
   "outputs": [
    {
     "data": {
      "text/html": [
       "<table class=\"data-frame\"><thead><tr><th></th><th>Column1</th><th>SUBJECT_ID</th><th>LOS</th><th>HOSPITALIZATION</th><th>ELECTIVE</th><th>EMERGENCY</th><th>NEWBORN</th><th>URGENT</th></tr><tr><th></th><th>Int64</th><th>Int64</th><th>Float64</th><th>Int64</th><th>Int64</th><th>Int64</th><th>Int64</th><th>Int64</th></tr></thead><tbody><p>10,310 rows × 931 columns (omitted printing of 923 columns)</p><tr><th>1</th><td>0</td><td>13</td><td>3.666</td><td>1</td><td>0</td><td>1</td><td>0</td><td>0</td></tr><tr><th>2</th><td>1</td><td>18</td><td>1.2885</td><td>1</td><td>0</td><td>1</td><td>0</td><td>0</td></tr><tr><th>3</th><td>2</td><td>20</td><td>1.0508</td><td>1</td><td>1</td><td>0</td><td>0</td><td>0</td></tr><tr><th>4</th><td>3</td><td>21</td><td>14.2664</td><td>2</td><td>0</td><td>1</td><td>0</td><td>0</td></tr><tr><th>5</th><td>4</td><td>24</td><td>0.5124</td><td>1</td><td>0</td><td>1</td><td>0</td><td>0</td></tr><tr><th>6</th><td>5</td><td>25</td><td>3.5466</td><td>1</td><td>0</td><td>1</td><td>0</td><td>0</td></tr><tr><th>7</th><td>6</td><td>28</td><td>1.1224</td><td>1</td><td>1</td><td>0</td><td>0</td><td>0</td></tr><tr><th>8</th><td>7</td><td>35</td><td>5.3757</td><td>1</td><td>1</td><td>0</td><td>0</td><td>0</td></tr><tr><th>9</th><td>8</td><td>37</td><td>1.1397</td><td>1</td><td>0</td><td>1</td><td>0</td><td>0</td></tr><tr><th>10</th><td>9</td><td>55</td><td>1.9138</td><td>1</td><td>0</td><td>1</td><td>0</td><td>0</td></tr><tr><th>11</th><td>10</td><td>59</td><td>2.2017</td><td>1</td><td>0</td><td>1</td><td>0</td><td>0</td></tr><tr><th>12</th><td>11</td><td>75</td><td>1.2469</td><td>1</td><td>1</td><td>0</td><td>0</td><td>0</td></tr><tr><th>13</th><td>12</td><td>83</td><td>2.3141</td><td>1</td><td>0</td><td>0</td><td>0</td><td>1</td></tr><tr><th>14</th><td>13</td><td>117</td><td>14.5181</td><td>2</td><td>0</td><td>1</td><td>0</td><td>0</td></tr><tr><th>15</th><td>14</td><td>123</td><td>1.4941</td><td>1</td><td>0</td><td>1</td><td>0</td><td>0</td></tr><tr><th>16</th><td>15</td><td>130</td><td>17.4592</td><td>2</td><td>0</td><td>1</td><td>0</td><td>0</td></tr><tr><th>17</th><td>16</td><td>135</td><td>1.346</td><td>2</td><td>1</td><td>1</td><td>0</td><td>0</td></tr><tr><th>18</th><td>17</td><td>137</td><td>5.1326</td><td>1</td><td>0</td><td>1</td><td>0</td><td>0</td></tr><tr><th>19</th><td>18</td><td>141</td><td>3.4765</td><td>1</td><td>0</td><td>1</td><td>0</td><td>0</td></tr><tr><th>20</th><td>19</td><td>157</td><td>6.1813</td><td>2</td><td>0</td><td>1</td><td>0</td><td>0</td></tr><tr><th>21</th><td>20</td><td>173</td><td>1.3722</td><td>1</td><td>1</td><td>0</td><td>0</td><td>0</td></tr><tr><th>22</th><td>21</td><td>184</td><td>5.0941</td><td>2</td><td>0</td><td>1</td><td>0</td><td>0</td></tr><tr><th>23</th><td>22</td><td>186</td><td>3.7078</td><td>1</td><td>0</td><td>1</td><td>0</td><td>0</td></tr><tr><th>24</th><td>23</td><td>188</td><td>26.919</td><td>7</td><td>0</td><td>1</td><td>0</td><td>0</td></tr><tr><th>25</th><td>24</td><td>191</td><td>10.1558</td><td>2</td><td>0</td><td>1</td><td>0</td><td>0</td></tr><tr><th>26</th><td>25</td><td>192</td><td>1.084</td><td>1</td><td>1</td><td>0</td><td>0</td><td>0</td></tr><tr><th>27</th><td>26</td><td>199</td><td>7.1739</td><td>2</td><td>0</td><td>1</td><td>0</td><td>1</td></tr><tr><th>28</th><td>27</td><td>205</td><td>2.9076</td><td>1</td><td>0</td><td>0</td><td>0</td><td>1</td></tr><tr><th>29</th><td>28</td><td>209</td><td>8.3211</td><td>2</td><td>0</td><td>1</td><td>0</td><td>0</td></tr><tr><th>30</th><td>29</td><td>210</td><td>1.0253</td><td>1</td><td>0</td><td>1</td><td>0</td><td>0</td></tr><tr><th>&vellip;</th><td>&vellip;</td><td>&vellip;</td><td>&vellip;</td><td>&vellip;</td><td>&vellip;</td><td>&vellip;</td><td>&vellip;</td><td>&vellip;</td></tr></tbody></table>"
      ],
      "text/latex": [
       "\\begin{tabular}{r|ccccccccc}\n",
       "\t& Column1 & SUBJECT\\_ID & LOS & HOSPITALIZATION & ELECTIVE & EMERGENCY & NEWBORN & URGENT & \\\\\n",
       "\t\\hline\n",
       "\t& Int64 & Int64 & Float64 & Int64 & Int64 & Int64 & Int64 & Int64 & \\\\\n",
       "\t\\hline\n",
       "\t1 & 0 & 13 & 3.666 & 1 & 0 & 1 & 0 & 0 & $\\dots$ \\\\\n",
       "\t2 & 1 & 18 & 1.2885 & 1 & 0 & 1 & 0 & 0 & $\\dots$ \\\\\n",
       "\t3 & 2 & 20 & 1.0508 & 1 & 1 & 0 & 0 & 0 & $\\dots$ \\\\\n",
       "\t4 & 3 & 21 & 14.2664 & 2 & 0 & 1 & 0 & 0 & $\\dots$ \\\\\n",
       "\t5 & 4 & 24 & 0.5124 & 1 & 0 & 1 & 0 & 0 & $\\dots$ \\\\\n",
       "\t6 & 5 & 25 & 3.5466 & 1 & 0 & 1 & 0 & 0 & $\\dots$ \\\\\n",
       "\t7 & 6 & 28 & 1.1224 & 1 & 1 & 0 & 0 & 0 & $\\dots$ \\\\\n",
       "\t8 & 7 & 35 & 5.3757 & 1 & 1 & 0 & 0 & 0 & $\\dots$ \\\\\n",
       "\t9 & 8 & 37 & 1.1397 & 1 & 0 & 1 & 0 & 0 & $\\dots$ \\\\\n",
       "\t10 & 9 & 55 & 1.9138 & 1 & 0 & 1 & 0 & 0 & $\\dots$ \\\\\n",
       "\t11 & 10 & 59 & 2.2017 & 1 & 0 & 1 & 0 & 0 & $\\dots$ \\\\\n",
       "\t12 & 11 & 75 & 1.2469 & 1 & 1 & 0 & 0 & 0 & $\\dots$ \\\\\n",
       "\t13 & 12 & 83 & 2.3141 & 1 & 0 & 0 & 0 & 1 & $\\dots$ \\\\\n",
       "\t14 & 13 & 117 & 14.5181 & 2 & 0 & 1 & 0 & 0 & $\\dots$ \\\\\n",
       "\t15 & 14 & 123 & 1.4941 & 1 & 0 & 1 & 0 & 0 & $\\dots$ \\\\\n",
       "\t16 & 15 & 130 & 17.4592 & 2 & 0 & 1 & 0 & 0 & $\\dots$ \\\\\n",
       "\t17 & 16 & 135 & 1.346 & 2 & 1 & 1 & 0 & 0 & $\\dots$ \\\\\n",
       "\t18 & 17 & 137 & 5.1326 & 1 & 0 & 1 & 0 & 0 & $\\dots$ \\\\\n",
       "\t19 & 18 & 141 & 3.4765 & 1 & 0 & 1 & 0 & 0 & $\\dots$ \\\\\n",
       "\t20 & 19 & 157 & 6.1813 & 2 & 0 & 1 & 0 & 0 & $\\dots$ \\\\\n",
       "\t21 & 20 & 173 & 1.3722 & 1 & 1 & 0 & 0 & 0 & $\\dots$ \\\\\n",
       "\t22 & 21 & 184 & 5.0941 & 2 & 0 & 1 & 0 & 0 & $\\dots$ \\\\\n",
       "\t23 & 22 & 186 & 3.7078 & 1 & 0 & 1 & 0 & 0 & $\\dots$ \\\\\n",
       "\t24 & 23 & 188 & 26.919 & 7 & 0 & 1 & 0 & 0 & $\\dots$ \\\\\n",
       "\t25 & 24 & 191 & 10.1558 & 2 & 0 & 1 & 0 & 0 & $\\dots$ \\\\\n",
       "\t26 & 25 & 192 & 1.084 & 1 & 1 & 0 & 0 & 0 & $\\dots$ \\\\\n",
       "\t27 & 26 & 199 & 7.1739 & 2 & 0 & 1 & 0 & 1 & $\\dots$ \\\\\n",
       "\t28 & 27 & 205 & 2.9076 & 1 & 0 & 0 & 0 & 1 & $\\dots$ \\\\\n",
       "\t29 & 28 & 209 & 8.3211 & 2 & 0 & 1 & 0 & 0 & $\\dots$ \\\\\n",
       "\t30 & 29 & 210 & 1.0253 & 1 & 0 & 1 & 0 & 0 & $\\dots$ \\\\\n",
       "\t$\\dots$ & $\\dots$ & $\\dots$ & $\\dots$ & $\\dots$ & $\\dots$ & $\\dots$ & $\\dots$ & $\\dots$ &  \\\\\n",
       "\\end{tabular}\n"
      ],
      "text/plain": [
       "10310×931 DataFrame. Omitted printing of 926 columns\n",
       "│ Row   │ Column1 │ SUBJECT_ID │ LOS     │ HOSPITALIZATION │ ELECTIVE │\n",
       "│       │ \u001b[90mInt64\u001b[39m   │ \u001b[90mInt64\u001b[39m      │ \u001b[90mFloat64\u001b[39m │ \u001b[90mInt64\u001b[39m           │ \u001b[90mInt64\u001b[39m    │\n",
       "├───────┼─────────┼────────────┼─────────┼─────────────────┼──────────┤\n",
       "│ 1     │ 0       │ 13         │ 3.666   │ 1               │ 0        │\n",
       "│ 2     │ 1       │ 18         │ 1.2885  │ 1               │ 0        │\n",
       "│ 3     │ 2       │ 20         │ 1.0508  │ 1               │ 1        │\n",
       "│ 4     │ 3       │ 21         │ 14.2664 │ 2               │ 0        │\n",
       "│ 5     │ 4       │ 24         │ 0.5124  │ 1               │ 0        │\n",
       "│ 6     │ 5       │ 25         │ 3.5466  │ 1               │ 0        │\n",
       "│ 7     │ 6       │ 28         │ 1.1224  │ 1               │ 1        │\n",
       "│ 8     │ 7       │ 35         │ 5.3757  │ 1               │ 1        │\n",
       "│ 9     │ 8       │ 37         │ 1.1397  │ 1               │ 0        │\n",
       "│ 10    │ 9       │ 55         │ 1.9138  │ 1               │ 0        │\n",
       "⋮\n",
       "│ 10300 │ 10299   │ 99899      │ 9.1439  │ 1               │ 0        │\n",
       "│ 10301 │ 10300   │ 99901      │ 6.1242  │ 1               │ 0        │\n",
       "│ 10302 │ 10301   │ 99903      │ 1.0388  │ 1               │ 0        │\n",
       "│ 10303 │ 10302   │ 99913      │ 3.1669  │ 1               │ 0        │\n",
       "│ 10304 │ 10303   │ 99928      │ 0.9902  │ 1               │ 0        │\n",
       "│ 10305 │ 10304   │ 99938      │ 7.2813  │ 1               │ 0        │\n",
       "│ 10306 │ 10305   │ 99955      │ 5.6719  │ 1               │ 0        │\n",
       "│ 10307 │ 10306   │ 99957      │ 2.8684  │ 1               │ 0        │\n",
       "│ 10308 │ 10307   │ 99991      │ 3.1426  │ 1               │ 1        │\n",
       "│ 10309 │ 10308   │ 99995      │ 2.1615  │ 1               │ 1        │\n",
       "│ 10310 │ 10309   │ 99999      │ 1.1242  │ 1               │ 1        │"
      ]
     },
     "execution_count": 4,
     "metadata": {},
     "output_type": "execute_result"
    }
   ],
   "source": [
    "df = DataFrame(CSV.File(\"../data/diabetes_matrix.csv\"))"
   ]
  },
  {
   "cell_type": "code",
   "execution_count": 18,
   "metadata": {
    "scrolled": true
   },
   "outputs": [
    {
     "data": {
      "text/plain": [
       "931-element Array{Symbol,1}:\n",
       " :Column1\n",
       " :SUBJECT_ID\n",
       " :LOS\n",
       " :HOSPITALIZATION\n",
       " :ELECTIVE\n",
       " :EMERGENCY\n",
       " :NEWBORN\n",
       " :URGENT\n",
       " :Government\n",
       " :Medicaid\n",
       " :Medicare\n",
       " :Private\n",
       " Symbol(\"Self Pay\")\n",
       " ⋮\n",
       " Symbol(\"HISPANIC/LATINO - COLOMBIAN\")\n",
       " Symbol(\"WHITE - BRAZILIAN\")\n",
       " Symbol(\"NATIVE HAWAIIAN OR OTHER PACIFIC ISLANDER\")\n",
       " Symbol(\"HISPANIC/LATINO - CENTRAL AMERICAN (OTHER)\")\n",
       " Symbol(\"ASIAN - JAPANESE\")\n",
       " Symbol(\"ASIAN - THAI\")\n",
       " Symbol(\"HISPANIC/LATINO - HONDURAN\")\n",
       " Symbol(\"HISPANIC/LATINO - CUBAN\")\n",
       " Symbol(\"MIDDLE EASTERN\")\n",
       " Symbol(\"ASIAN - OTHER\")\n",
       " Symbol(\"HISPANIC/LATINO - MEXICAN\")\n",
       " Symbol(\"AMERICAN INDIAN/ALASKA NATIVE FEDERALLY RECOGNIZED TRIBE\")"
      ]
     },
     "execution_count": 18,
     "metadata": {},
     "output_type": "execute_result"
    }
   ],
   "source": [
    "names(df)"
   ]
  },
  {
   "cell_type": "markdown",
   "metadata": {},
   "source": [
    "### Fix Column Names "
   ]
  },
  {
   "cell_type": "code",
   "execution_count": 18,
   "metadata": {
    "scrolled": false
   },
   "outputs": [
    {
     "ename": "MethodError",
     "evalue": "MethodError: Cannot `convert` an object of type String to an object of type Symbol\nClosest candidates are:\n  convert(::Type{S}, !Matched::T) where {S, T<:(Union{CategoricalString{R}, CategoricalValue{T,R} where T} where R)} at /Users/rayeliu/.julia/packages/CategoricalArrays/dmrjI/src/value.jl:103\n  convert(::Type{T}, !Matched::T) where T at essentials.jl:171\n  Symbol(::String) at boot.jl:436\n  ...",
     "output_type": "error",
     "traceback": [
      "MethodError: Cannot `convert` an object of type String to an object of type Symbol\nClosest candidates are:\n  convert(::Type{S}, !Matched::T) where {S, T<:(Union{CategoricalString{R}, CategoricalValue{T,R} where T} where R)} at /Users/rayeliu/.julia/packages/CategoricalArrays/dmrjI/src/value.jl:103\n  convert(::Type{T}, !Matched::T) where T at essentials.jl:171\n  Symbol(::String) at boot.jl:436\n  ...",
      "",
      "Stacktrace:",
      " [1] push!(::Array{Symbol,1}, ::String) at ./array.jl:913",
      " [2] top-level scope at ./In[18]:3"
     ]
    }
   ],
   "source": [
    "colnames = Symbol[]\n",
    "for i in string.(names(df))\n",
    "    push!(colnames, Symbol(replace(replace(replace(replace(\n",
    "                        replace(strip(i),\" \" => \"_\"),\"-\" => \"_\"), \"/\" => \"_or_\"),\"(\" => \"_\"), \")\" => \"_\")))\n",
    "end\n",
    "\n",
    "#rename!(df, colnames);"
   ]
  },
  {
   "cell_type": "code",
   "execution_count": 17,
   "metadata": {
    "scrolled": true
   },
   "outputs": [
    {
     "name": "stdout",
     "output_type": "stream",
     "text": [
      "[:Column1, :SUBJECT_ID, :LOS, :HOSPITALIZATION, :ELECTIVE, :EMERGENCY, :NEWBORN, :URGENT, :Government, :Medicaid, :Medicare, :Private, :Self_Pay, :DIVORCED, :LIFE_PARTNER, :MARRIED, :NAN, :SEPARATED, :SINGLE, :UNKNOWN, :WIDOWED, :GENDER, Symbol(\"003\"), Symbol(\"004\"), Symbol(\"005\"), Symbol(\"007\"), Symbol(\"008\"), Symbol(\"009\"), Symbol(\"010\"), Symbol(\"011\"), Symbol(\"012\"), Symbol(\"013\"), Symbol(\"014\"), Symbol(\"018\"), Symbol(\"027\"), Symbol(\"031\"), Symbol(\"032\"), Symbol(\"034\"), Symbol(\"035\"), Symbol(\"038\"), Symbol(\"039\"), Symbol(\"040\"), Symbol(\"041\"), Symbol(\"042\"), Symbol(\"046\"), Symbol(\"047\"), Symbol(\"048\"), Symbol(\"049\"), Symbol(\"052\"), Symbol(\"053\"), Symbol(\"054\"), Symbol(\"057\"), Symbol(\"058\"), Symbol(\"066\"), Symbol(\"070\"), Symbol(\"075\"), Symbol(\"078\"), Symbol(\"079\"), Symbol(\"082\"), Symbol(\"086\"), Symbol(\"088\"), Symbol(\"094\"), Symbol(\"096\"), Symbol(\"097\"), Symbol(\"110\"), Symbol(\"111\"), Symbol(\"112\"), Symbol(\"117\"), Symbol(\"120\"), Symbol(\"121\"), Symbol(\"127\"), Symbol(\"130\"), Symbol(\"131\"), Symbol(\"135\"), Symbol(\"136\"), Symbol(\"137\"), Symbol(\"138\"), Symbol(\"139\"), Symbol(\"140\"), Symbol(\"141\"), Symbol(\"142\"), Symbol(\"144\"), Symbol(\"145\"), Symbol(\"146\"), Symbol(\"147\"), Symbol(\"148\"), Symbol(\"149\"), Symbol(\"150\"), Symbol(\"151\"), Symbol(\"152\"), Symbol(\"153\"), Symbol(\"154\"), Symbol(\"155\"), Symbol(\"156\"), Symbol(\"157\"), Symbol(\"158\"), Symbol(\"159\"), Symbol(\"161\"), Symbol(\"162\"), Symbol(\"163\"), Symbol(\"164\"), Symbol(\"171\"), Symbol(\"172\"), Symbol(\"173\"), Symbol(\"174\"), Symbol(\"175\"), Symbol(\"176\"), Symbol(\"180\"), Symbol(\"182\"), Symbol(\"183\"), Symbol(\"184\"), Symbol(\"185\"), Symbol(\"186\"), Symbol(\"187\"), Symbol(\"188\"), Symbol(\"189\"), Symbol(\"191\"), Symbol(\"192\"), Symbol(\"193\"), Symbol(\"194\"), Symbol(\"195\"), Symbol(\"196\"), Symbol(\"197\"), Symbol(\"198\"), Symbol(\"199\"), Symbol(\"200\"), Symbol(\"201\"), Symbol(\"202\"), Symbol(\"203\"), Symbol(\"204\"), Symbol(\"205\"), Symbol(\"207\"), Symbol(\"208\"), Symbol(\"209\"), Symbol(\"210\"), Symbol(\"211\"), Symbol(\"212\"), Symbol(\"213\"), Symbol(\"214\"), Symbol(\"215\"), Symbol(\"216\"), Symbol(\"217\"), Symbol(\"218\"), Symbol(\"220\"), Symbol(\"221\"), Symbol(\"223\"), Symbol(\"225\"), Symbol(\"226\"), Symbol(\"227\"), Symbol(\"228\"), Symbol(\"229\"), Symbol(\"230\"), Symbol(\"232\"), Symbol(\"233\"), Symbol(\"235\"), Symbol(\"236\"), Symbol(\"237\"), Symbol(\"238\"), Symbol(\"239\"), Symbol(\"240\"), Symbol(\"241\"), Symbol(\"242\"), Symbol(\"244\"), Symbol(\"245\"), Symbol(\"246\"), Symbol(\"249\"), Symbol(\"250\"), Symbol(\"251\"), Symbol(\"252\"), Symbol(\"253\"), Symbol(\"254\"), Symbol(\"255\"), Symbol(\"256\"), Symbol(\"257\"), Symbol(\"258\"), Symbol(\"259\"), Symbol(\"261\"), Symbol(\"262\"), Symbol(\"263\"), Symbol(\"265\"), Symbol(\"266\"), Symbol(\"268\"), Symbol(\"269\"), Symbol(\"270\"), Symbol(\"271\"), Symbol(\"272\"), Symbol(\"273\"), Symbol(\"274\"), Symbol(\"275\"), Symbol(\"276\"), Symbol(\"277\"), Symbol(\"278\"), Symbol(\"279\"), Symbol(\"280\"), Symbol(\"281\"), Symbol(\"282\"), Symbol(\"283\"), Symbol(\"284\"), Symbol(\"285\"), Symbol(\"286\"), Symbol(\"287\"), Symbol(\"288\"), Symbol(\"289\"), Symbol(\"290\"), Symbol(\"291\"), Symbol(\"292\"), Symbol(\"293\"), Symbol(\"294\"), Symbol(\"295\"), Symbol(\"296\"), Symbol(\"297\"), Symbol(\"298\"), Symbol(\"299\"), Symbol(\"300\"), Symbol(\"301\"), Symbol(\"303\"), Symbol(\"304\"), Symbol(\"305\"), Symbol(\"306\"), Symbol(\"307\"), Symbol(\"308\"), Symbol(\"309\"), Symbol(\"310\"), Symbol(\"311\"), Symbol(\"312\"), Symbol(\"313\"), Symbol(\"314\"), Symbol(\"315\"), Symbol(\"317\"), Symbol(\"318\"), Symbol(\"319\"), Symbol(\"320\"), Symbol(\"321\"), Symbol(\"322\"), Symbol(\"323\"), Symbol(\"324\"), Symbol(\"325\"), Symbol(\"327\"), Symbol(\"331\"), Symbol(\"332\"), Symbol(\"333\"), Symbol(\"334\"), Symbol(\"335\"), Symbol(\"336\"), Symbol(\"337\"), Symbol(\"338\"), Symbol(\"339\"), Symbol(\"340\"), Symbol(\"341\"), Symbol(\"342\"), Symbol(\"343\"), Symbol(\"344\"), Symbol(\"345\"), Symbol(\"346\"), Symbol(\"347\"), Symbol(\"348\"), Symbol(\"349\"), Symbol(\"350\"), Symbol(\"351\"), Symbol(\"352\"), Symbol(\"353\"), Symbol(\"354\"), Symbol(\"355\"), Symbol(\"356\"), Symbol(\"357\"), Symbol(\"358\"), Symbol(\"359\"), Symbol(\"360\"), Symbol(\"361\"), Symbol(\"362\"), Symbol(\"363\"), Symbol(\"364\"), Symbol(\"365\"), Symbol(\"366\"), Symbol(\"367\"), Symbol(\"368\"), Symbol(\"369\"), Symbol(\"370\"), Symbol(\"371\"), Symbol(\"372\"), Symbol(\"373\"), Symbol(\"374\"), Symbol(\"375\"), Symbol(\"376\"), Symbol(\"377\"), Symbol(\"378\"), Symbol(\"379\"), Symbol(\"380\"), Symbol(\"382\"), Symbol(\"383\"), Symbol(\"385\"), Symbol(\"386\"), Symbol(\"387\"), Symbol(\"388\"), Symbol(\"389\"), Symbol(\"390\"), Symbol(\"391\"), Symbol(\"394\"), Symbol(\"395\"), Symbol(\"396\"), Symbol(\"397\"), Symbol(\"398\"), Symbol(\"401\"), Symbol(\"402\"), Symbol(\"403\"), Symbol(\"404\"), Symbol(\"405\"), Symbol(\"410\"), Symbol(\"411\"), Symbol(\"412\"), Symbol(\"413\"), Symbol(\"414\"), Symbol(\"415\"), Symbol(\"416\"), Symbol(\"417\"), Symbol(\"420\"), Symbol(\"421\"), Symbol(\"422\"), Symbol(\"423\"), Symbol(\"424\"), Symbol(\"425\"), Symbol(\"426\"), Symbol(\"427\"), Symbol(\"428\"), Symbol(\"429\"), Symbol(\"430\"), Symbol(\"431\"), Symbol(\"432\"), Symbol(\"433\"), Symbol(\"434\"), Symbol(\"435\"), Symbol(\"436\"), Symbol(\"437\"), Symbol(\"438\"), Symbol(\"440\"), Symbol(\"441\"), Symbol(\"442\"), Symbol(\"443\"), Symbol(\"444\"), Symbol(\"445\"), Symbol(\"446\"), Symbol(\"447\"), Symbol(\"448\"), Symbol(\"449\"), Symbol(\"451\"), Symbol(\"452\"), Symbol(\"453\"), Symbol(\"454\"), Symbol(\"455\"), Symbol(\"456\"), Symbol(\"457\"), Symbol(\"458\"), Symbol(\"459\"), Symbol(\"461\"), Symbol(\"462\"), Symbol(\"463\"), Symbol(\"464\"), Symbol(\"465\"), Symbol(\"466\"), Symbol(\"471\"), Symbol(\"472\"), Symbol(\"473\"), Symbol(\"475\"), Symbol(\"477\"), Symbol(\"478\"), Symbol(\"480\"), Symbol(\"481\"), Symbol(\"482\"), Symbol(\"483\"), Symbol(\"484\"), Symbol(\"485\"), Symbol(\"486\"), Symbol(\"487\"), Symbol(\"488\"), Symbol(\"490\"), Symbol(\"491\"), Symbol(\"492\"), Symbol(\"493\"), Symbol(\"494\"), Symbol(\"495\"), Symbol(\"496\"), Symbol(\"500\"), Symbol(\"501\"), Symbol(\"502\"), Symbol(\"506\"), Symbol(\"507\"), Symbol(\"508\"), Symbol(\"510\"), Symbol(\"511\"), Symbol(\"512\"), Symbol(\"513\"), Symbol(\"514\"), Symbol(\"515\"), Symbol(\"516\"), Symbol(\"517\"), Symbol(\"518\"), Symbol(\"519\"), Symbol(\"520\"), Symbol(\"521\"), Symbol(\"522\"), Symbol(\"523\"), Symbol(\"524\"), Symbol(\"525\"), Symbol(\"526\"), Symbol(\"527\"), Symbol(\"528\"), Symbol(\"529\"), Symbol(\"530\"), Symbol(\"531\"), Symbol(\"532\"), Symbol(\"533\"), Symbol(\"534\"), Symbol(\"535\"), Symbol(\"536\"), Symbol(\"537\"), Symbol(\"538\"), Symbol(\"540\"), Symbol(\"541\"), Symbol(\"542\"), Symbol(\"543\"), Symbol(\"550\"), Symbol(\"551\"), Symbol(\"552\"), Symbol(\"553\"), Symbol(\"555\"), Symbol(\"556\"), Symbol(\"557\"), Symbol(\"558\"), Symbol(\"560\"), Symbol(\"562\"), Symbol(\"564\"), Symbol(\"565\"), Symbol(\"566\"), Symbol(\"567\"), Symbol(\"568\"), Symbol(\"569\"), Symbol(\"570\"), Symbol(\"571\"), Symbol(\"572\"), Symbol(\"573\"), Symbol(\"574\"), Symbol(\"575\"), Symbol(\"576\"), Symbol(\"577\"), Symbol(\"578\"), Symbol(\"579\"), Symbol(\"580\"), Symbol(\"581\"), Symbol(\"582\"), Symbol(\"583\"), Symbol(\"584\"), Symbol(\"585\"), Symbol(\"586\"), Symbol(\"587\"), Symbol(\"588\"), Symbol(\"590\"), Symbol(\"591\"), Symbol(\"592\"), Symbol(\"593\"), Symbol(\"594\"), Symbol(\"595\"), Symbol(\"596\"), Symbol(\"597\"), Symbol(\"598\"), Symbol(\"599\"), Symbol(\"600\"), Symbol(\"601\"), Symbol(\"602\"), Symbol(\"603\"), Symbol(\"604\"), Symbol(\"605\"), Symbol(\"607\"), Symbol(\"608\"), Symbol(\"611\"), Symbol(\"614\"), Symbol(\"615\"), Symbol(\"616\"), Symbol(\"617\"), Symbol(\"618\"), Symbol(\"619\"), Symbol(\"620\"), Symbol(\"621\"), Symbol(\"622\"), Symbol(\"623\"), Symbol(\"624\"), Symbol(\"625\"), Symbol(\"626\"), Symbol(\"627\"), Symbol(\"628\"), Symbol(\"629\"), Symbol(\"632\"), Symbol(\"633\"), Symbol(\"634\"), Symbol(\"642\"), Symbol(\"644\"), Symbol(\"646\"), Symbol(\"647\"), Symbol(\"648\"), Symbol(\"649\"), Symbol(\"652\"), Symbol(\"654\"), Symbol(\"666\"), Symbol(\"670\"), Symbol(\"674\"), Symbol(\"680\"), Symbol(\"681\"), Symbol(\"682\"), Symbol(\"683\"), Symbol(\"684\"), Symbol(\"685\"), Symbol(\"686\"), Symbol(\"690\"), Symbol(\"692\"), Symbol(\"693\"), Symbol(\"694\"), Symbol(\"695\"), Symbol(\"696\"), Symbol(\"697\"), Symbol(\"698\"), Symbol(\"700\"), Symbol(\"701\"), Symbol(\"702\"), Symbol(\"703\"), Symbol(\"704\"), Symbol(\"705\"), Symbol(\"706\"), Symbol(\"707\"), Symbol(\"708\"), Symbol(\"709\"), Symbol(\"710\"), Symbol(\"711\"), Symbol(\"712\"), Symbol(\"713\"), Symbol(\"714\"), Symbol(\"715\"), Symbol(\"716\"), Symbol(\"718\"), Symbol(\"719\"), Symbol(\"720\"), Symbol(\"721\"), Symbol(\"722\"), Symbol(\"723\"), Symbol(\"724\"), Symbol(\"725\"), Symbol(\"726\"), Symbol(\"727\"), Symbol(\"728\"), Symbol(\"729\"), Symbol(\"730\"), Symbol(\"731\"), Symbol(\"732\"), Symbol(\"733\"), Symbol(\"734\"), Symbol(\"735\"), Symbol(\"736\"), Symbol(\"737\"), Symbol(\"738\"), Symbol(\"741\"), Symbol(\"742\"), Symbol(\"745\"), Symbol(\"746\"), Symbol(\"747\"), Symbol(\"748\"), Symbol(\"750\"), Symbol(\"751\"), Symbol(\"752\"), Symbol(\"753\"), Symbol(\"754\"), Symbol(\"755\"), Symbol(\"756\"), Symbol(\"757\"), Symbol(\"758\"), Symbol(\"759\"), Symbol(\"765\"), Symbol(\"766\"), Symbol(\"770\"), Symbol(\"774\"), Symbol(\"775\"), Symbol(\"780\"), Symbol(\"781\"), Symbol(\"782\"), Symbol(\"783\"), Symbol(\"784\"), Symbol(\"785\"), Symbol(\"786\"), Symbol(\"787\"), Symbol(\"788\"), Symbol(\"789\"), Symbol(\"790\"), Symbol(\"791\"), Symbol(\"792\"), Symbol(\"793\"), Symbol(\"794\"), Symbol(\"795\"), Symbol(\"796\"), Symbol(\"799\"), Symbol(\"800\"), Symbol(\"801\"), Symbol(\"802\"), Symbol(\"803\"), Symbol(\"804\"), Symbol(\"805\"), Symbol(\"806\"), Symbol(\"807\"), Symbol(\"808\"), Symbol(\"810\"), Symbol(\"811\"), Symbol(\"812\"), Symbol(\"813\"), Symbol(\"814\"), Symbol(\"815\"), Symbol(\"816\"), Symbol(\"817\"), Symbol(\"820\"), Symbol(\"821\"), Symbol(\"822\"), Symbol(\"823\"), Symbol(\"824\"), Symbol(\"825\"), Symbol(\"826\"), Symbol(\"830\"), Symbol(\"831\"), Symbol(\"833\"), Symbol(\"834\"), Symbol(\"835\"), Symbol(\"836\"), Symbol(\"839\"), Symbol(\"840\"), Symbol(\"842\"), Symbol(\"845\"), Symbol(\"846\"), Symbol(\"847\"), Symbol(\"850\"), Symbol(\"851\"), Symbol(\"852\"), Symbol(\"853\"), Symbol(\"854\"), Symbol(\"860\"), Symbol(\"861\"), Symbol(\"862\"), Symbol(\"863\"), Symbol(\"864\"), Symbol(\"865\"), Symbol(\"866\"), Symbol(\"867\"), Symbol(\"868\"), Symbol(\"869\"), Symbol(\"870\"), Symbol(\"872\"), Symbol(\"873\"), Symbol(\"874\"), Symbol(\"875\"), Symbol(\"879\"), Symbol(\"880\"), Symbol(\"881\"), Symbol(\"882\"), Symbol(\"883\"), Symbol(\"884\"), Symbol(\"886\"), Symbol(\"887\"), Symbol(\"890\"), Symbol(\"891\"), Symbol(\"892\"), Symbol(\"893\"), Symbol(\"894\"), Symbol(\"896\"), Symbol(\"897\"), Symbol(\"900\"), Symbol(\"901\"), Symbol(\"902\"), Symbol(\"903\"), Symbol(\"904\"), Symbol(\"905\"), Symbol(\"906\"), Symbol(\"907\"), Symbol(\"908\"), Symbol(\"909\"), Symbol(\"910\"), Symbol(\"911\"), Symbol(\"912\"), Symbol(\"913\"), Symbol(\"914\"), Symbol(\"916\"), Symbol(\"917\"), Symbol(\"918\"), Symbol(\"919\"), Symbol(\"920\"), Symbol(\"921\"), Symbol(\"922\"), "
     ]
    },
    {
     "name": "stdout",
     "output_type": "stream",
     "text": [
      "Symbol(\"923\"), Symbol(\"924\"), Symbol(\"926\"), Symbol(\"927\"), Symbol(\"933\"), Symbol(\"934\"), Symbol(\"935\"), Symbol(\"936\"), Symbol(\"937\"), Symbol(\"939\"), Symbol(\"941\"), Symbol(\"942\"), Symbol(\"944\"), Symbol(\"945\"), Symbol(\"947\"), Symbol(\"948\"), Symbol(\"950\"), Symbol(\"951\"), Symbol(\"952\"), Symbol(\"953\"), Symbol(\"954\"), Symbol(\"955\"), Symbol(\"956\"), Symbol(\"958\"), Symbol(\"959\"), Symbol(\"961\"), Symbol(\"962\"), Symbol(\"964\"), Symbol(\"965\"), Symbol(\"966\"), Symbol(\"967\"), Symbol(\"968\"), Symbol(\"969\"), Symbol(\"970\"), Symbol(\"971\"), Symbol(\"972\"), Symbol(\"974\"), Symbol(\"975\"), Symbol(\"977\"), Symbol(\"983\"), Symbol(\"987\"), Symbol(\"989\"), Symbol(\"990\"), Symbol(\"991\"), Symbol(\"992\"), Symbol(\"994\"), Symbol(\"995\"), Symbol(\"996\"), Symbol(\"997\"), Symbol(\"998\"), Symbol(\"999\"), :E812, :E813, :E814, :E815, :E816, :E817, :E818, :E819, :E821, :E822, :E823, :E824, :E825, :E826, :E838, :E848, :E849, :E850, :E851, :E852, :E853, :E854, :E855, :E857, :E858, :E866, :E869, :E870, :E871, :E874, :E876, :E878, :E879, :E880, :E881, :E882, :E884, :E885, :E887, :E888, :E890, :E899, :E900, :E901, :E906, :E910, :E911, :E912, :E915, :E916, :E917, :E918, :E920, :E922, :E924, :E927, :E928, :E929, :E930, :E931, :E932, :E933, :E934, :E935, :E936, :E937, :E938, :E939, :E940, :E941, :E942, :E943, :E944, :E945, :E946, :E947, :E950, :E953, :E955, :E956, :E957, :E958, :E960, :E965, :E966, :E967, :E968, :E969, :E980, :E988, :E989, :V01, :V02, :V03, :V04, :V05, :V06, :V07, :V08, :V09, :V10, :V11, :V12, :V13, :V14, :V15, :V16, :V17, :V18, :V19, :V23, :V26, :V27, :V29, :V30, :V42, :V43, :V44, :V45, :V46, :V49, :V50, :V53, :V54, :V55, :V56, :V58, :V60, :V61, :V62, :V63, :V64, :V65, :V66, :V69, :V70, :V72, :V74, :V76, :DEAD, Symbol(\"AGE:_0_10\"), Symbol(\"AGE:_11_20\"), Symbol(\"AGE:_21_30\"), Symbol(\"AGE:_31_40\"), Symbol(\"AGE:_41_50\"), Symbol(\"AGE:_51_60\"), Symbol(\"AGE:_61_70\"), Symbol(\"AGE:_71_80\"), Symbol(\"AGE:_81_89\"), Symbol(\"AGE:_90+\"), :ASIAN, :WHITE, :UNKNOWN_or_NOT_SPECIFIED, :BLACK_or_AFRICAN_AMERICAN, :PATIENT_DECLINED_TO_ANSWER, :OTHER, :HISPANIC_OR_LATINO, :HISPANIC_or_LATINO___GUATEMALAN, :ASIAN___CHINESE, :HISPANIC_or_LATINO___PUERTO_RICAN, :ASIAN___ASIAN_INDIAN, :ASIAN___VIETNAMESE, :MULTI_RACE_ETHNICITY, :HISPANIC_or_LATINO___DOMINICAN, :AMERICAN_INDIAN_or_ALASKA_NATIVE, :WHITE___RUSSIAN, :BLACK_or_AFRICAN, :HISPANIC_or_LATINO___SALVADORAN, :UNABLE_TO_OBTAIN, :BLACK_or_CAPE_VERDEAN, :BLACK_or_HAITIAN, :WHITE___OTHER_EUROPEAN, :PORTUGUESE, :ASIAN___CAMBODIAN, :SOUTH_AMERICAN, :WHITE___EASTERN_EUROPEAN, :ASIAN___FILIPINO, :CARIBBEAN_ISLAND, :ASIAN___KOREAN, :HISPANIC_or_LATINO___COLOMBIAN, :WHITE___BRAZILIAN, :NATIVE_HAWAIIAN_OR_OTHER_PACIFIC_ISLANDER, :HISPANIC_or_LATINO___CENTRAL_AMERICAN__OTHER_, :ASIAN___JAPANESE, :ASIAN___THAI, :HISPANIC_or_LATINO___HONDURAN, :HISPANIC_or_LATINO___CUBAN, :MIDDLE_EASTERN, :ASIAN___OTHER, :HISPANIC_or_LATINO___MEXICAN, :AMERICAN_INDIAN_or_ALASKA_NATIVE_FEDERALLY_RECOGNIZED_TRIBE]\n"
     ]
    }
   ],
   "source": [
    "println(colnames)"
   ]
  },
  {
   "cell_type": "code",
   "execution_count": null,
   "metadata": {},
   "outputs": [],
   "source": [
    "for c in colnames:\n",
    "    println()"
   ]
  },
  {
   "cell_type": "code",
   "execution_count": 12,
   "metadata": {},
   "outputs": [
    {
     "ename": "MethodError",
     "evalue": "MethodError: no method matching iterate(::Symbol)\nClosest candidates are:\n  iterate(!Matched::Core.SimpleVector) at essentials.jl:603\n  iterate(!Matched::Core.SimpleVector, !Matched::Any) at essentials.jl:603\n  iterate(!Matched::ExponentialBackOff) at error.jl:253\n  ...",
     "output_type": "error",
     "traceback": [
      "MethodError: no method matching iterate(::Symbol)\nClosest candidates are:\n  iterate(!Matched::Core.SimpleVector) at essentials.jl:603\n  iterate(!Matched::Core.SimpleVector, !Matched::Any) at essentials.jl:603\n  iterate(!Matched::ExponentialBackOff) at error.jl:253\n  ...",
      "",
      "Stacktrace:",
      " [1] indexed_iterate(::Symbol, ::Int64) at ./tuple.jl:84",
      " [2] rename! at /Users/rayeliu/.julia/packages/DataFrames/yH0f6/src/other/index.jl:49 [inlined]",
      " [3] rename!(::DataFrame, ::Array{Symbol,1}) at /Users/rayeliu/.julia/packages/DataFrames/yH0f6/src/abstractdataframe/abstractdataframe.jl:117",
      " [4] top-level scope at In[12]:1"
     ]
    }
   ],
   "source": [
    "rename!(df, colnames);"
   ]
  },
  {
   "cell_type": "code",
   "execution_count": null,
   "metadata": {},
   "outputs": [],
   "source": [
    "println(size(df))\n",
    "describe(df)"
   ]
  },
  {
   "cell_type": "code",
   "execution_count": null,
   "metadata": {},
   "outputs": [],
   "source": [
    "scaled_feature = Lathe.preprocess.OneHotEncode(df,:Status)\n",
    "select!(df, Not([:Status,:Country]))\n",
    "first(df,5)"
   ]
  },
  {
   "cell_type": "code",
   "execution_count": null,
   "metadata": {},
   "outputs": [],
   "source": [
    "using Lathe.preprocess: TrainTestSplit\n",
    "train, test = TrainTestSplit(df,.75)"
   ]
  },
  {
   "cell_type": "code",
   "execution_count": null,
   "metadata": {},
   "outputs": [],
   "source": [
    "fm = @formula(Life_expectancy ~ Adult_Mortality)\n",
    "linearRegressor = lm(fm, train)"
   ]
  }
 ],
 "metadata": {
  "kernelspec": {
   "display_name": "Julia 1.4.2",
   "language": "julia",
   "name": "julia-1.4"
  },
  "language_info": {
   "file_extension": ".jl",
   "mimetype": "application/julia",
   "name": "julia",
   "version": "1.4.2"
  }
 },
 "nbformat": 4,
 "nbformat_minor": 2
}
