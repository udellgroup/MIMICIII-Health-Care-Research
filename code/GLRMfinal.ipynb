{
 "cells": [
  {
   "cell_type": "code",
   "execution_count": 28,
   "metadata": {},
   "outputs": [
    {
     "name": "stderr",
     "output_type": "stream",
     "text": [
      "\u001b[32m\u001b[1m  Resolving\u001b[22m\u001b[39m package versions...\n",
      "\u001b[32m\u001b[1m   Updating\u001b[22m\u001b[39m `~/.julia/environments/v1.4/Project.toml`\n",
      "\u001b[90m [no changes]\u001b[39m\n",
      "\u001b[32m\u001b[1m   Updating\u001b[22m\u001b[39m `~/.julia/environments/v1.4/Manifest.toml`\n",
      "\u001b[90m [no changes]\u001b[39m\n"
     ]
    }
   ],
   "source": [
    "import Pkg; Pkg.add(\"DataArrays\")"
   ]
  },
  {
   "cell_type": "code",
   "execution_count": 1,
   "metadata": {
    "scrolled": false
   },
   "outputs": [
    {
     "name": "stderr",
     "output_type": "stream",
     "text": [
      "┌ Info: Precompiling DataArrays [0fe7c1db-08c2-54a3-a222-6d1d3b7a471a]\n",
      "└ @ Base loading.jl:1260\n",
      "ERROR: LoadError: LoadError: UndefVarError: start not defined\n",
      "Stacktrace:\n",
      " [1] getproperty(::Module, ::Symbol) at ./Base.jl:26\n",
      " [2] top-level scope at /Users/kathy908000/.julia/packages/DataArrays/mcLPH/src/abstractdataarray.jl:27\n",
      " [3] include(::Module, ::String) at ./Base.jl:377\n",
      " [4] include(::String) at /Users/kathy908000/.julia/packages/DataArrays/mcLPH/src/DataArrays.jl:3\n",
      " [5] top-level scope at /Users/kathy908000/.julia/packages/DataArrays/mcLPH/src/DataArrays.jl:45\n",
      " [6] include(::Module, ::String) at ./Base.jl:377\n",
      " [7] top-level scope at none:2\n",
      " [8] eval at ./boot.jl:331 [inlined]\n",
      " [9] eval(::Expr) at ./client.jl:449\n",
      " [10] top-level scope at ./none:3\n",
      "in expression starting at /Users/kathy908000/.julia/packages/DataArrays/mcLPH/src/abstractdataarray.jl:27\n",
      "in expression starting at /Users/kathy908000/.julia/packages/DataArrays/mcLPH/src/DataArrays.jl:45\n"
     ]
    },
    {
     "ename": "ErrorException",
     "evalue": "Failed to precompile DataArrays [0fe7c1db-08c2-54a3-a222-6d1d3b7a471a] to /Users/kathy908000/.julia/compiled/v1.4/DataArrays/ZAWTY_H8Xgu.ji.",
     "output_type": "error",
     "traceback": [
      "Failed to precompile DataArrays [0fe7c1db-08c2-54a3-a222-6d1d3b7a471a] to /Users/kathy908000/.julia/compiled/v1.4/DataArrays/ZAWTY_H8Xgu.ji.",
      "",
      "Stacktrace:",
      " [1] error(::String) at ./error.jl:33",
      " [2] compilecache(::Base.PkgId, ::String) at ./loading.jl:1272",
      " [3] _require(::Base.PkgId) at ./loading.jl:1029",
      " [4] require(::Base.PkgId) at ./loading.jl:927",
      " [5] require(::Module, ::Symbol) at ./loading.jl:922",
      " [6] top-level scope at In[1]:8"
     ]
    }
   ],
   "source": [
    "using LowRankModels\n",
    "using CSV\n",
    "using DataFrames\n",
    "using Pkg\n",
    "using StatsBase\n",
    "\n",
    "using Random, SparseArrays\n",
    "using DataArrays"
   ]
  },
  {
   "cell_type": "code",
   "execution_count": 2,
   "metadata": {},
   "outputs": [],
   "source": [
    "#Pkg.add(\"CSV\")\n",
    "#Pkg.add(\"StatsBase\")"
   ]
  },
  {
   "cell_type": "code",
   "execution_count": 3,
   "metadata": {
    "scrolled": true
   },
   "outputs": [
    {
     "data": {
      "text/html": [
       "<table class=\"data-frame\"><thead><tr><th></th><th>Column1</th><th>SUBJECT_ID</th><th>LOS</th><th>HOSPITALIZATION</th><th>ORDINAL_AGE</th><th>ELECTIVE</th><th>EMERGENCY</th></tr><tr><th></th><th>Int64</th><th>Int64</th><th>Float64</th><th>Int64</th><th>Int64</th><th>Int64</th><th>Int64</th></tr></thead><tbody><p>10,310 rows × 922 columns (omitted printing of 915 columns)</p><tr><th>1</th><td>0</td><td>13</td><td>3.666</td><td>1</td><td>4</td><td>0</td><td>1</td></tr><tr><th>2</th><td>1</td><td>18</td><td>1.2885</td><td>1</td><td>6</td><td>0</td><td>1</td></tr><tr><th>3</th><td>2</td><td>20</td><td>1.0508</td><td>1</td><td>8</td><td>1</td><td>0</td></tr><tr><th>4</th><td>3</td><td>21</td><td>14.2664</td><td>2</td><td>9</td><td>0</td><td>1</td></tr><tr><th>5</th><td>4</td><td>24</td><td>0.5124</td><td>1</td><td>4</td><td>0</td><td>1</td></tr><tr><th>6</th><td>5</td><td>25</td><td>3.5466</td><td>1</td><td>6</td><td>0</td><td>1</td></tr><tr><th>7</th><td>6</td><td>28</td><td>1.1224</td><td>1</td><td>8</td><td>1</td><td>0</td></tr><tr><th>8</th><td>7</td><td>35</td><td>5.3757</td><td>1</td><td>7</td><td>1</td><td>0</td></tr><tr><th>9</th><td>8</td><td>37</td><td>1.1397</td><td>1</td><td>7</td><td>0</td><td>1</td></tr><tr><th>10</th><td>9</td><td>55</td><td>1.9138</td><td>1</td><td>7</td><td>0</td><td>1</td></tr><tr><th>11</th><td>10</td><td>59</td><td>2.2017</td><td>1</td><td>9</td><td>0</td><td>1</td></tr><tr><th>12</th><td>11</td><td>75</td><td>1.2469</td><td>1</td><td>8</td><td>1</td><td>0</td></tr><tr><th>13</th><td>12</td><td>83</td><td>2.3141</td><td>1</td><td>7</td><td>0</td><td>0</td></tr><tr><th>14</th><td>13</td><td>117</td><td>14.5181</td><td>2</td><td>5</td><td>0</td><td>1</td></tr><tr><th>15</th><td>14</td><td>123</td><td>1.4941</td><td>1</td><td>6</td><td>0</td><td>1</td></tr><tr><th>16</th><td>15</td><td>130</td><td>17.4592</td><td>2</td><td>7</td><td>0</td><td>1</td></tr><tr><th>17</th><td>16</td><td>135</td><td>1.346</td><td>2</td><td>6</td><td>1</td><td>1</td></tr><tr><th>18</th><td>17</td><td>137</td><td>5.1326</td><td>1</td><td>8</td><td>0</td><td>1</td></tr><tr><th>19</th><td>18</td><td>141</td><td>3.4765</td><td>1</td><td>9</td><td>0</td><td>1</td></tr><tr><th>20</th><td>19</td><td>157</td><td>6.1813</td><td>2</td><td>9</td><td>0</td><td>1</td></tr><tr><th>21</th><td>20</td><td>173</td><td>1.3722</td><td>1</td><td>7</td><td>1</td><td>0</td></tr><tr><th>22</th><td>21</td><td>184</td><td>5.0941</td><td>2</td><td>6</td><td>0</td><td>1</td></tr><tr><th>23</th><td>22</td><td>186</td><td>3.7078</td><td>1</td><td>8</td><td>0</td><td>1</td></tr><tr><th>24</th><td>23</td><td>188</td><td>26.919</td><td>7</td><td>6</td><td>0</td><td>1</td></tr><tr><th>25</th><td>24</td><td>191</td><td>10.1558</td><td>2</td><td>8</td><td>0</td><td>1</td></tr><tr><th>26</th><td>25</td><td>192</td><td>1.084</td><td>1</td><td>7</td><td>1</td><td>0</td></tr><tr><th>27</th><td>26</td><td>199</td><td>7.1739</td><td>2</td><td>5</td><td>0</td><td>1</td></tr><tr><th>28</th><td>27</td><td>205</td><td>2.9076</td><td>1</td><td>8</td><td>0</td><td>0</td></tr><tr><th>29</th><td>28</td><td>209</td><td>8.3211</td><td>2</td><td>8</td><td>0</td><td>1</td></tr><tr><th>30</th><td>29</td><td>210</td><td>1.0253</td><td>1</td><td>6</td><td>0</td><td>1</td></tr><tr><th>&vellip;</th><td>&vellip;</td><td>&vellip;</td><td>&vellip;</td><td>&vellip;</td><td>&vellip;</td><td>&vellip;</td><td>&vellip;</td></tr></tbody></table>"
      ],
      "text/latex": [
       "\\begin{tabular}{r|cccccccc}\n",
       "\t& Column1 & SUBJECT\\_ID & LOS & HOSPITALIZATION & ORDINAL\\_AGE & ELECTIVE & EMERGENCY & \\\\\n",
       "\t\\hline\n",
       "\t& Int64 & Int64 & Float64 & Int64 & Int64 & Int64 & Int64 & \\\\\n",
       "\t\\hline\n",
       "\t1 & 0 & 13 & 3.666 & 1 & 4 & 0 & 1 & $\\dots$ \\\\\n",
       "\t2 & 1 & 18 & 1.2885 & 1 & 6 & 0 & 1 & $\\dots$ \\\\\n",
       "\t3 & 2 & 20 & 1.0508 & 1 & 8 & 1 & 0 & $\\dots$ \\\\\n",
       "\t4 & 3 & 21 & 14.2664 & 2 & 9 & 0 & 1 & $\\dots$ \\\\\n",
       "\t5 & 4 & 24 & 0.5124 & 1 & 4 & 0 & 1 & $\\dots$ \\\\\n",
       "\t6 & 5 & 25 & 3.5466 & 1 & 6 & 0 & 1 & $\\dots$ \\\\\n",
       "\t7 & 6 & 28 & 1.1224 & 1 & 8 & 1 & 0 & $\\dots$ \\\\\n",
       "\t8 & 7 & 35 & 5.3757 & 1 & 7 & 1 & 0 & $\\dots$ \\\\\n",
       "\t9 & 8 & 37 & 1.1397 & 1 & 7 & 0 & 1 & $\\dots$ \\\\\n",
       "\t10 & 9 & 55 & 1.9138 & 1 & 7 & 0 & 1 & $\\dots$ \\\\\n",
       "\t11 & 10 & 59 & 2.2017 & 1 & 9 & 0 & 1 & $\\dots$ \\\\\n",
       "\t12 & 11 & 75 & 1.2469 & 1 & 8 & 1 & 0 & $\\dots$ \\\\\n",
       "\t13 & 12 & 83 & 2.3141 & 1 & 7 & 0 & 0 & $\\dots$ \\\\\n",
       "\t14 & 13 & 117 & 14.5181 & 2 & 5 & 0 & 1 & $\\dots$ \\\\\n",
       "\t15 & 14 & 123 & 1.4941 & 1 & 6 & 0 & 1 & $\\dots$ \\\\\n",
       "\t16 & 15 & 130 & 17.4592 & 2 & 7 & 0 & 1 & $\\dots$ \\\\\n",
       "\t17 & 16 & 135 & 1.346 & 2 & 6 & 1 & 1 & $\\dots$ \\\\\n",
       "\t18 & 17 & 137 & 5.1326 & 1 & 8 & 0 & 1 & $\\dots$ \\\\\n",
       "\t19 & 18 & 141 & 3.4765 & 1 & 9 & 0 & 1 & $\\dots$ \\\\\n",
       "\t20 & 19 & 157 & 6.1813 & 2 & 9 & 0 & 1 & $\\dots$ \\\\\n",
       "\t21 & 20 & 173 & 1.3722 & 1 & 7 & 1 & 0 & $\\dots$ \\\\\n",
       "\t22 & 21 & 184 & 5.0941 & 2 & 6 & 0 & 1 & $\\dots$ \\\\\n",
       "\t23 & 22 & 186 & 3.7078 & 1 & 8 & 0 & 1 & $\\dots$ \\\\\n",
       "\t24 & 23 & 188 & 26.919 & 7 & 6 & 0 & 1 & $\\dots$ \\\\\n",
       "\t25 & 24 & 191 & 10.1558 & 2 & 8 & 0 & 1 & $\\dots$ \\\\\n",
       "\t26 & 25 & 192 & 1.084 & 1 & 7 & 1 & 0 & $\\dots$ \\\\\n",
       "\t27 & 26 & 199 & 7.1739 & 2 & 5 & 0 & 1 & $\\dots$ \\\\\n",
       "\t28 & 27 & 205 & 2.9076 & 1 & 8 & 0 & 0 & $\\dots$ \\\\\n",
       "\t29 & 28 & 209 & 8.3211 & 2 & 8 & 0 & 1 & $\\dots$ \\\\\n",
       "\t30 & 29 & 210 & 1.0253 & 1 & 6 & 0 & 1 & $\\dots$ \\\\\n",
       "\t$\\dots$ & $\\dots$ & $\\dots$ & $\\dots$ & $\\dots$ & $\\dots$ & $\\dots$ & $\\dots$ &  \\\\\n",
       "\\end{tabular}\n"
      ],
      "text/plain": [
       "10310×922 DataFrame. Omitted printing of 917 columns\n",
       "│ Row   │ Column1 │ SUBJECT_ID │ LOS     │ HOSPITALIZATION │ ORDINAL_AGE │\n",
       "│       │ \u001b[90mInt64\u001b[39m   │ \u001b[90mInt64\u001b[39m      │ \u001b[90mFloat64\u001b[39m │ \u001b[90mInt64\u001b[39m           │ \u001b[90mInt64\u001b[39m       │\n",
       "├───────┼─────────┼────────────┼─────────┼─────────────────┼─────────────┤\n",
       "│ 1     │ 0       │ 13         │ 3.666   │ 1               │ 4           │\n",
       "│ 2     │ 1       │ 18         │ 1.2885  │ 1               │ 6           │\n",
       "│ 3     │ 2       │ 20         │ 1.0508  │ 1               │ 8           │\n",
       "│ 4     │ 3       │ 21         │ 14.2664 │ 2               │ 9           │\n",
       "│ 5     │ 4       │ 24         │ 0.5124  │ 1               │ 4           │\n",
       "│ 6     │ 5       │ 25         │ 3.5466  │ 1               │ 6           │\n",
       "│ 7     │ 6       │ 28         │ 1.1224  │ 1               │ 8           │\n",
       "│ 8     │ 7       │ 35         │ 5.3757  │ 1               │ 7           │\n",
       "│ 9     │ 8       │ 37         │ 1.1397  │ 1               │ 7           │\n",
       "│ 10    │ 9       │ 55         │ 1.9138  │ 1               │ 7           │\n",
       "⋮\n",
       "│ 10300 │ 10299   │ 99899      │ 9.1439  │ 1               │ 9           │\n",
       "│ 10301 │ 10300   │ 99901      │ 6.1242  │ 1               │ 7           │\n",
       "│ 10302 │ 10301   │ 99903      │ 1.0388  │ 1               │ 6           │\n",
       "│ 10303 │ 10302   │ 99913      │ 3.1669  │ 1               │ 8           │\n",
       "│ 10304 │ 10303   │ 99928      │ 0.9902  │ 1               │ 3           │\n",
       "│ 10305 │ 10304   │ 99938      │ 7.2813  │ 1               │ 9           │\n",
       "│ 10306 │ 10305   │ 99955      │ 5.6719  │ 1               │ 7           │\n",
       "│ 10307 │ 10306   │ 99957      │ 2.8684  │ 1               │ 7           │\n",
       "│ 10308 │ 10307   │ 99991      │ 3.1426  │ 1               │ 5           │\n",
       "│ 10309 │ 10308   │ 99995      │ 2.1615  │ 1               │ 9           │\n",
       "│ 10310 │ 10309   │ 99999      │ 1.1242  │ 1               │ 7           │"
      ]
     },
     "execution_count": 3,
     "metadata": {},
     "output_type": "execute_result"
    }
   ],
   "source": [
    "#df2 = CSV.read(\"diabetes_matrix.csv\")\n",
    "df2 = CSV.read(\"/Users/kathy908000/github/health-care-research/data/diabetes_matrix.csv\")\n",
    "df3 = CSV.read(\"/Users/kathy908000/github/health-care-research/data/Diabetes_Numerical.csv\")\n",
    "df3\n",
    "#first 3 col numerical\n",
    "#other col boolean"
   ]
  },
  {
   "cell_type": "code",
   "execution_count": 4,
   "metadata": {
    "scrolled": true
   },
   "outputs": [
    {
     "data": {
      "text/html": [
       "<table class=\"data-frame\"><thead><tr><th></th><th>LOS</th><th>HOSPITALIZATION</th><th>ORDINAL_AGE</th><th>ELECTIVE</th><th>EMERGENCY</th><th>NEWBORN</th><th>URGENT</th><th>Government</th></tr><tr><th></th><th>Float64</th><th>Int64</th><th>Int64</th><th>Int64</th><th>Int64</th><th>Int64</th><th>Int64</th><th>Int64</th></tr></thead><tbody><p>10,310 rows × 920 columns (omitted printing of 912 columns)</p><tr><th>1</th><td>3.666</td><td>1</td><td>4</td><td>0</td><td>1</td><td>0</td><td>0</td><td>0</td></tr><tr><th>2</th><td>1.2885</td><td>1</td><td>6</td><td>0</td><td>1</td><td>0</td><td>0</td><td>0</td></tr><tr><th>3</th><td>1.0508</td><td>1</td><td>8</td><td>1</td><td>0</td><td>0</td><td>0</td><td>0</td></tr><tr><th>4</th><td>14.2664</td><td>2</td><td>9</td><td>0</td><td>1</td><td>0</td><td>0</td><td>0</td></tr><tr><th>5</th><td>0.5124</td><td>1</td><td>4</td><td>0</td><td>1</td><td>0</td><td>0</td><td>0</td></tr><tr><th>6</th><td>3.5466</td><td>1</td><td>6</td><td>0</td><td>1</td><td>0</td><td>0</td><td>0</td></tr><tr><th>7</th><td>1.1224</td><td>1</td><td>8</td><td>1</td><td>0</td><td>0</td><td>0</td><td>0</td></tr><tr><th>8</th><td>5.3757</td><td>1</td><td>7</td><td>1</td><td>0</td><td>0</td><td>0</td><td>0</td></tr><tr><th>9</th><td>1.1397</td><td>1</td><td>7</td><td>0</td><td>1</td><td>0</td><td>0</td><td>0</td></tr><tr><th>10</th><td>1.9138</td><td>1</td><td>7</td><td>0</td><td>1</td><td>0</td><td>0</td><td>0</td></tr><tr><th>11</th><td>2.2017</td><td>1</td><td>9</td><td>0</td><td>1</td><td>0</td><td>0</td><td>0</td></tr><tr><th>12</th><td>1.2469</td><td>1</td><td>8</td><td>1</td><td>0</td><td>0</td><td>0</td><td>0</td></tr><tr><th>13</th><td>2.3141</td><td>1</td><td>7</td><td>0</td><td>0</td><td>0</td><td>1</td><td>0</td></tr><tr><th>14</th><td>14.5181</td><td>2</td><td>5</td><td>0</td><td>1</td><td>0</td><td>0</td><td>0</td></tr><tr><th>15</th><td>1.4941</td><td>1</td><td>6</td><td>0</td><td>1</td><td>0</td><td>0</td><td>1</td></tr><tr><th>16</th><td>17.4592</td><td>2</td><td>7</td><td>0</td><td>1</td><td>0</td><td>0</td><td>0</td></tr><tr><th>17</th><td>1.346</td><td>2</td><td>6</td><td>1</td><td>1</td><td>0</td><td>0</td><td>0</td></tr><tr><th>18</th><td>5.1326</td><td>1</td><td>8</td><td>0</td><td>1</td><td>0</td><td>0</td><td>0</td></tr><tr><th>19</th><td>3.4765</td><td>1</td><td>9</td><td>0</td><td>1</td><td>0</td><td>0</td><td>0</td></tr><tr><th>20</th><td>6.1813</td><td>2</td><td>9</td><td>0</td><td>1</td><td>0</td><td>0</td><td>0</td></tr><tr><th>21</th><td>1.3722</td><td>1</td><td>7</td><td>1</td><td>0</td><td>0</td><td>0</td><td>0</td></tr><tr><th>22</th><td>5.0941</td><td>2</td><td>6</td><td>0</td><td>1</td><td>0</td><td>0</td><td>0</td></tr><tr><th>23</th><td>3.7078</td><td>1</td><td>8</td><td>0</td><td>1</td><td>0</td><td>0</td><td>0</td></tr><tr><th>24</th><td>26.919</td><td>7</td><td>6</td><td>0</td><td>1</td><td>0</td><td>0</td><td>0</td></tr><tr><th>25</th><td>10.1558</td><td>2</td><td>8</td><td>0</td><td>1</td><td>0</td><td>0</td><td>0</td></tr><tr><th>26</th><td>1.084</td><td>1</td><td>7</td><td>1</td><td>0</td><td>0</td><td>0</td><td>0</td></tr><tr><th>27</th><td>7.1739</td><td>2</td><td>5</td><td>0</td><td>1</td><td>0</td><td>1</td><td>1</td></tr><tr><th>28</th><td>2.9076</td><td>1</td><td>8</td><td>0</td><td>0</td><td>0</td><td>1</td><td>0</td></tr><tr><th>29</th><td>8.3211</td><td>2</td><td>8</td><td>0</td><td>1</td><td>0</td><td>0</td><td>0</td></tr><tr><th>30</th><td>1.0253</td><td>1</td><td>6</td><td>0</td><td>1</td><td>0</td><td>0</td><td>0</td></tr><tr><th>&vellip;</th><td>&vellip;</td><td>&vellip;</td><td>&vellip;</td><td>&vellip;</td><td>&vellip;</td><td>&vellip;</td><td>&vellip;</td><td>&vellip;</td></tr></tbody></table>"
      ],
      "text/latex": [
       "\\begin{tabular}{r|ccccccccc}\n",
       "\t& LOS & HOSPITALIZATION & ORDINAL\\_AGE & ELECTIVE & EMERGENCY & NEWBORN & URGENT & Government & \\\\\n",
       "\t\\hline\n",
       "\t& Float64 & Int64 & Int64 & Int64 & Int64 & Int64 & Int64 & Int64 & \\\\\n",
       "\t\\hline\n",
       "\t1 & 3.666 & 1 & 4 & 0 & 1 & 0 & 0 & 0 & $\\dots$ \\\\\n",
       "\t2 & 1.2885 & 1 & 6 & 0 & 1 & 0 & 0 & 0 & $\\dots$ \\\\\n",
       "\t3 & 1.0508 & 1 & 8 & 1 & 0 & 0 & 0 & 0 & $\\dots$ \\\\\n",
       "\t4 & 14.2664 & 2 & 9 & 0 & 1 & 0 & 0 & 0 & $\\dots$ \\\\\n",
       "\t5 & 0.5124 & 1 & 4 & 0 & 1 & 0 & 0 & 0 & $\\dots$ \\\\\n",
       "\t6 & 3.5466 & 1 & 6 & 0 & 1 & 0 & 0 & 0 & $\\dots$ \\\\\n",
       "\t7 & 1.1224 & 1 & 8 & 1 & 0 & 0 & 0 & 0 & $\\dots$ \\\\\n",
       "\t8 & 5.3757 & 1 & 7 & 1 & 0 & 0 & 0 & 0 & $\\dots$ \\\\\n",
       "\t9 & 1.1397 & 1 & 7 & 0 & 1 & 0 & 0 & 0 & $\\dots$ \\\\\n",
       "\t10 & 1.9138 & 1 & 7 & 0 & 1 & 0 & 0 & 0 & $\\dots$ \\\\\n",
       "\t11 & 2.2017 & 1 & 9 & 0 & 1 & 0 & 0 & 0 & $\\dots$ \\\\\n",
       "\t12 & 1.2469 & 1 & 8 & 1 & 0 & 0 & 0 & 0 & $\\dots$ \\\\\n",
       "\t13 & 2.3141 & 1 & 7 & 0 & 0 & 0 & 1 & 0 & $\\dots$ \\\\\n",
       "\t14 & 14.5181 & 2 & 5 & 0 & 1 & 0 & 0 & 0 & $\\dots$ \\\\\n",
       "\t15 & 1.4941 & 1 & 6 & 0 & 1 & 0 & 0 & 1 & $\\dots$ \\\\\n",
       "\t16 & 17.4592 & 2 & 7 & 0 & 1 & 0 & 0 & 0 & $\\dots$ \\\\\n",
       "\t17 & 1.346 & 2 & 6 & 1 & 1 & 0 & 0 & 0 & $\\dots$ \\\\\n",
       "\t18 & 5.1326 & 1 & 8 & 0 & 1 & 0 & 0 & 0 & $\\dots$ \\\\\n",
       "\t19 & 3.4765 & 1 & 9 & 0 & 1 & 0 & 0 & 0 & $\\dots$ \\\\\n",
       "\t20 & 6.1813 & 2 & 9 & 0 & 1 & 0 & 0 & 0 & $\\dots$ \\\\\n",
       "\t21 & 1.3722 & 1 & 7 & 1 & 0 & 0 & 0 & 0 & $\\dots$ \\\\\n",
       "\t22 & 5.0941 & 2 & 6 & 0 & 1 & 0 & 0 & 0 & $\\dots$ \\\\\n",
       "\t23 & 3.7078 & 1 & 8 & 0 & 1 & 0 & 0 & 0 & $\\dots$ \\\\\n",
       "\t24 & 26.919 & 7 & 6 & 0 & 1 & 0 & 0 & 0 & $\\dots$ \\\\\n",
       "\t25 & 10.1558 & 2 & 8 & 0 & 1 & 0 & 0 & 0 & $\\dots$ \\\\\n",
       "\t26 & 1.084 & 1 & 7 & 1 & 0 & 0 & 0 & 0 & $\\dots$ \\\\\n",
       "\t27 & 7.1739 & 2 & 5 & 0 & 1 & 0 & 1 & 1 & $\\dots$ \\\\\n",
       "\t28 & 2.9076 & 1 & 8 & 0 & 0 & 0 & 1 & 0 & $\\dots$ \\\\\n",
       "\t29 & 8.3211 & 2 & 8 & 0 & 1 & 0 & 0 & 0 & $\\dots$ \\\\\n",
       "\t30 & 1.0253 & 1 & 6 & 0 & 1 & 0 & 0 & 0 & $\\dots$ \\\\\n",
       "\t$\\dots$ & $\\dots$ & $\\dots$ & $\\dots$ & $\\dots$ & $\\dots$ & $\\dots$ & $\\dots$ & $\\dots$ &  \\\\\n",
       "\\end{tabular}\n"
      ],
      "text/plain": [
       "10310×920 DataFrame. Omitted printing of 915 columns\n",
       "│ Row   │ LOS     │ HOSPITALIZATION │ ORDINAL_AGE │ ELECTIVE │ EMERGENCY │\n",
       "│       │ \u001b[90mFloat64\u001b[39m │ \u001b[90mInt64\u001b[39m           │ \u001b[90mInt64\u001b[39m       │ \u001b[90mInt64\u001b[39m    │ \u001b[90mInt64\u001b[39m     │\n",
       "├───────┼─────────┼─────────────────┼─────────────┼──────────┼───────────┤\n",
       "│ 1     │ 3.666   │ 1               │ 4           │ 0        │ 1         │\n",
       "│ 2     │ 1.2885  │ 1               │ 6           │ 0        │ 1         │\n",
       "│ 3     │ 1.0508  │ 1               │ 8           │ 1        │ 0         │\n",
       "│ 4     │ 14.2664 │ 2               │ 9           │ 0        │ 1         │\n",
       "│ 5     │ 0.5124  │ 1               │ 4           │ 0        │ 1         │\n",
       "│ 6     │ 3.5466  │ 1               │ 6           │ 0        │ 1         │\n",
       "│ 7     │ 1.1224  │ 1               │ 8           │ 1        │ 0         │\n",
       "│ 8     │ 5.3757  │ 1               │ 7           │ 1        │ 0         │\n",
       "│ 9     │ 1.1397  │ 1               │ 7           │ 0        │ 1         │\n",
       "│ 10    │ 1.9138  │ 1               │ 7           │ 0        │ 1         │\n",
       "⋮\n",
       "│ 10300 │ 9.1439  │ 1               │ 9           │ 0        │ 1         │\n",
       "│ 10301 │ 6.1242  │ 1               │ 7           │ 0        │ 1         │\n",
       "│ 10302 │ 1.0388  │ 1               │ 6           │ 0        │ 1         │\n",
       "│ 10303 │ 3.1669  │ 1               │ 8           │ 0        │ 1         │\n",
       "│ 10304 │ 0.9902  │ 1               │ 3           │ 0        │ 1         │\n",
       "│ 10305 │ 7.2813  │ 1               │ 9           │ 0        │ 1         │\n",
       "│ 10306 │ 5.6719  │ 1               │ 7           │ 0        │ 1         │\n",
       "│ 10307 │ 2.8684  │ 1               │ 7           │ 0        │ 0         │\n",
       "│ 10308 │ 3.1426  │ 1               │ 5           │ 1        │ 0         │\n",
       "│ 10309 │ 2.1615  │ 1               │ 9           │ 1        │ 0         │\n",
       "│ 10310 │ 1.1242  │ 1               │ 7           │ 1        │ 0         │"
      ]
     },
     "execution_count": 4,
     "metadata": {},
     "output_type": "execute_result"
    }
   ],
   "source": [
    "#drop columns\n",
    "#df2 = select!(df2, Not(:Column1))\n",
    "#df2 = select!(df2, Not(:SUBJECT_ID )) \n",
    "\n",
    "#drop columns\n",
    "df3 = select!(df3, Not(:Column1))\n",
    "df3 = select!(df3, Not(:SUBJECT_ID )) \n",
    "df3"
   ]
  },
  {
   "cell_type": "code",
   "execution_count": 33,
   "metadata": {},
   "outputs": [
    {
     "name": "stdout",
     "output_type": "stream",
     "text": [
      ":LOS, :HOSPITALIZATION, :ORDINAL_AGE, :ELECTIVE, :EMERGENCY, :NEWBORN, :URGENT, :Government, :Medicaid, :Medicare, :Private, :Self Pay, :DIVORCED, :LIFE PARTNER, :MARRIED, :NAN, :SEPARATED, :SINGLE, :UNKNOWN, :WIDOWED, :GENDER, :003, :004, :005, :007, :008, :009, :010, :011, :012, :013, :014, :018, :027, :031, :032, :034, :035, :038, :039, :040, :041, :042, :046, :047, :048, :049, :052, :053, :054, :057, :058, :066, :070, :075, :078, :079, :082, :086, :088, :094, :096, :097, :110, :111, :112, :117, :120, :121, :127, :130, :131, :135, :136, :137, :138, :139, :140, :141, :142, :144, :145, :146, :147, :148, :149, :150, :151, :152, :153, :154, :155, :156, :157, :158, :159, :161, :162, :163, :164, :171, :172, :173, :174, :175, :176, :180, :182, :183, :184, :185, :186, :187, :188, :189, :191, :192, :193, :194, :195, :196, :197, :198, :199, :200, :201, :202, :203, :204, :205, :207, :208, :209, :210, :211, :212, :213, :214, :215, :216, :217, :218, :220, :221, :223, :225, :226, :227, :228, :229, :230, :232, :233, :235, :236, :237, :238, :239, :240, :241, :242, :244, :245, :246, :249, :250, :251, :252, :253, :254, :255, :256, :257, :258, :259, :261, :262, :263, :265, :266, :268, :269, :270, :271, :272, :273, :274, :275, :276, :277, :278, :279, :280, :281, :282, :283, :284, :285, :286, :287, :288, :289, :290, :291, :292, :293, :294, :295, :296, :297, :298, :299, :300, :301, :303, :304, :305, :306, :307, :308, :309, :310, :311, :312, :313, :314, :315, :317, :318, :319, :320, :321, :322, :323, :324, :325, :327, :331, :332, :333, :334, :335, :336, :337, :338, :339, :340, :341, :342, :343, :344, :345, :346, :347, :348, :349, :350, :351, :352, :353, :354, :355, :356, :357, :358, :359, :360, :361, :362, :363, :364, :365, :366, :367, :368, :369, :370, :371, :372, :373, :374, :375, :376, :377, :378, :379, :380, :382, :383, :385, :386, :387, :388, :389, :390, :391, :394, :395, :396, :397, :398, :401, :402, :403, :404, :405, :410, :411, :412, :413, :414, :415, :416, :417, :420, :421, :422, :423, :424, :425, :426, :427, :428, :429, :430, :431, :432, :433, :434, :435, :436, :437, :438, :440, :441, :442, :443, :444, :445, :446, :447, :448, :449, :451, :452, :453, :454, :455, :456, :457, :458, :459, :461, :462, :463, :464, :465, :466, :471, :472, :473, :475, :477, :478, :480, :481, :482, :483, :484, :485, :486, :487, :488, :490, :491, :492, :493, :494, :495, :496, :500, :501, :502, :506, :507, :508, :510, :511, :512, :513, :514, :515, :516, :517, :518, :519, :520, :521, :522, :523, :524, :525, :526, :527, :528, :529, :530, :531, :532, :533, :534, :535, :536, :537, :538, :540, :541, :542, :543, :550, :551, :552, :553, :555, :556, :557, :558, :560, :562, :564, :565, :566, :567, :568, :569, :570, :571, :572, :573, :574, :575, :576, :577, :578, :579, :580, :581, :582, :583, :584, :585, :586, :587, :588, :590, :591, :592, :593, :594, :595, :596, :597, :598, :599, :600, :601, :602, :603, :604, :605, :607, :608, :611, :614, :615, :616, :617, :618, :619, :620, :621, :622, :623, :624, :625, :626, :627, :628, :629, :632, :633, :634, :642, :644, :646, :647, :648, :649, :652, :654, :666, :670, :674, :680, :681, :682, :683, :684, :685, :686, :690, :692, :693, :694, :695, :696, :697, :698, :700, :701, :702, :703, :704, :705, :706, :707, :708, :709, :710, :711, :712, :713, :714, :715, :716, :718, :719, :720, :721, :722, :723, :724, :725, :726, :727, :728, :729, :730, :731, :732, :733, :734, :735, :736, :737, :738, :741, :742, :745, :746, :747, :748, :750, :751, :752, :753, :754, :755, :756, :757, :758, :759, :765, :766, :770, :774, :775, :780, :781, :782, :783, :784, :785, :786, :787, :788, :789, :790, :791, :792, :793, :794, :795, :796, :799, :800, :801, :802, :803, :804, :805, :806, :807, :808, :810, :811, :812, :813, :814, :815, :816, :817, :820, :821, :822, :823, :824, :825, :826, :830, :831, :833, :834, :835, :836, :839, :840, :842, :845, :846, :847, :850, :851, :852, :853, :854, :860, :861, :862, :863, :864, :865, :866, :867, :868, :869, :870, :872, :873, :874, :875, :879, :880, :881, :882, :883, :884, :886, :887, :890, :891, :892, :893, :894, :896, :897, :900, :901, :902, :903, :904, :905, :906, :907, :908, :909, :910, :911, :912, :913, :914, :916, :917, :918, :919, :920, :921, :922, :923, :924, :926, :927, :933, :934, :935, :936, :937, :939, :941, :942, :944, :945, :947, :948, :950, :951, :952, :953, :954, :955, :956, :958, :959, :961, :962, :964, :965, :966, :967, :968, :969, :970, :971, :972, :974, :975, :977, :983, :987, :989, :990, :991, :992, :994, :995, :996, :997, :998, :999, :E812, :E813, :E814, :E815, :E816, :E817, :E818, :E819, :E821, :E822, :E823, :E824, :E825, :E826, :E838, :E848, :E849, :E850, :E851, :E852, :E853, :E854, :E855, :E857, :E858, :E866, :E869, :E870, :E871, :E874, :E876, :E878, :E879, :E880, :E881, :E882, :E884, :E885, :E887, :E888, :E890, :E899, :E900, :E901, :E906, :E910, :E911, :E912, :E915, :E916, :E917, :E918, :E920, :E922, :E924, :E927, :E928, :E929, :E930, :E931, :E932, :E933, :E934, :E935, :E936, :E937, :E938, :E939, :E940, :E941, :E942, :E943, :E944, :E945, :E946, :E947, :E950, :E953, :E955, :E956, :E957, :E958, :E960, :E965, :E966, :E967, :E968, :E969, :E980, :E988, :E989, :V01, :V02, :V03, :V04, :V05, :V06, :V07, :V08, :V09, :V10, :V11, :V12, :V13, :V14, :V15, :V16, :V17, :V18, :V19, :V23, :V26, :V27, :V29, :V30, :V42, :V43, :V44, :V45, :V46, :V49, :V50, :V53, :V54, :V55, :V56, :V58, :V60, :V61, :V62, :V63, :V64, :V65, :V66, :V69, :V70, :V72, :V74, :V76, :DEAD, :ASIAN, :WHITE, :UNKNOWN/NOT SPECIFIED, :BLACK/AFRICAN AMERICAN, :PATIENT DECLINED TO ANSWER, :OTHER, :HISPANIC OR LATINO, :HISPANIC/LATINO - GUATEMALAN, :ASIAN - CHINESE, :HISPANIC/LATINO - PUERTO RICAN, :ASIAN - ASIAN INDIAN, :ASIAN - VIETNAMESE, :MULTI RACE ETHNICITY, :HISPANIC/LATINO - DOMINICAN, :AMERICAN INDIAN/ALASKA NATIVE, :WHITE - RUSSIAN, :BLACK/AFRICAN, :HISPANIC/LATINO - SALVADORAN, :UNABLE TO OBTAIN, :BLACK/CAPE VERDEAN, :BLACK/HAITIAN, :WHITE - OTHER EUROPEAN, :PORTUGUESE, :ASIAN - CAMBODIAN, :SOUTH AMERICAN, :WHITE - EASTERN EUROPEAN, :ASIAN - FILIPINO, :CARIBBEAN ISLAND, :ASIAN - KOREAN, :HISPANIC/LATINO - COLOMBIAN, :WHITE - BRAZILIAN, :NATIVE HAWAIIAN OR OTHER PACIFIC ISLANDER, :HISPANIC/LATINO - CENTRAL AMERICAN (OTHER), :ASIAN - JAPANESE, :ASIAN - THAI, :HISPANIC/LATINO - HONDURAN, :HISPANIC/LATINO - CUBAN, :MIDDLE EASTERN, :ASIAN - OTHER, :HISPANIC/LATINO - MEXICAN, :AMERICAN INDIAN/ALASKA NATIVE FEDERALLY RECOGNIZED TRIBE, "
     ]
    }
   ],
   "source": [
    "#columns\n",
    "   for name in names(df3)\n",
    "       print(\":\", name, \", \")\n",
    "   end\n"
   ]
  },
  {
   "cell_type": "code",
   "execution_count": 34,
   "metadata": {},
   "outputs": [
    {
     "data": {
      "text/html": [
       "<table class=\"data-frame\"><thead><tr><th></th><th>variable</th><th>mean</th><th>min</th><th>median</th><th>max</th><th>nunique</th><th>nmissing</th><th>eltype</th></tr><tr><th></th><th>Symbol</th><th>Float64</th><th>Real</th><th>Float64</th><th>Real</th><th>Nothing</th><th>Nothing</th><th>DataType</th></tr></thead><tbody><p>920 rows × 8 columns</p><tr><th>1</th><td>LOS</td><td>6.70283</td><td>0.0006</td><td>3.0851</td><td>207.131</td><td></td><td></td><td>Float64</td></tr><tr><th>2</th><td>HOSPITALIZATION</td><td>1.50621</td><td>1</td><td>1.0</td><td>42</td><td></td><td></td><td>Int64</td></tr><tr><th>3</th><td>ORDINAL_AGE</td><td>7.27886</td><td>1</td><td>7.0</td><td>10</td><td></td><td></td><td>Int64</td></tr><tr><th>4</th><td>ELECTIVE</td><td>0.186712</td><td>0</td><td>0.0</td><td>1</td><td></td><td></td><td>Int64</td></tr><tr><th>5</th><td>EMERGENCY</td><td>0.850921</td><td>0</td><td>1.0</td><td>1</td><td></td><td></td><td>Int64</td></tr><tr><th>6</th><td>NEWBORN</td><td>9.69932e-5</td><td>0</td><td>0.0</td><td>1</td><td></td><td></td><td>Int64</td></tr><tr><th>7</th><td>URGENT</td><td>0.0393792</td><td>0</td><td>0.0</td><td>1</td><td></td><td></td><td>Int64</td></tr><tr><th>8</th><td>Government</td><td>0.0244423</td><td>0</td><td>0.0</td><td>1</td><td></td><td></td><td>Int64</td></tr><tr><th>9</th><td>Medicaid</td><td>0.0791465</td><td>0</td><td>0.0</td><td>1</td><td></td><td></td><td>Int64</td></tr><tr><th>10</th><td>Medicare</td><td>0.650533</td><td>0</td><td>1.0</td><td>1</td><td></td><td></td><td>Int64</td></tr><tr><th>11</th><td>Private</td><td>0.275849</td><td>0</td><td>0.0</td><td>1</td><td></td><td></td><td>Int64</td></tr><tr><th>12</th><td>Self Pay</td><td>0.00688652</td><td>0</td><td>0.0</td><td>1</td><td></td><td></td><td>Int64</td></tr><tr><th>13</th><td>DIVORCED</td><td>0.0677983</td><td>0</td><td>0.0</td><td>1</td><td></td><td></td><td>Int64</td></tr><tr><th>14</th><td>LIFE PARTNER</td><td>9.69932e-5</td><td>0</td><td>0.0</td><td>1</td><td></td><td></td><td>Int64</td></tr><tr><th>15</th><td>MARRIED</td><td>0.50291</td><td>0</td><td>1.0</td><td>1</td><td></td><td></td><td>Int64</td></tr><tr><th>16</th><td>NAN</td><td>0.0417071</td><td>0</td><td>0.0</td><td>1</td><td></td><td></td><td>Int64</td></tr><tr><th>17</th><td>SEPARATED</td><td>0.0129971</td><td>0</td><td>0.0</td><td>1</td><td></td><td></td><td>Int64</td></tr><tr><th>18</th><td>SINGLE</td><td>0.217459</td><td>0</td><td>0.0</td><td>1</td><td></td><td></td><td>Int64</td></tr><tr><th>19</th><td>UNKNOWN</td><td>0.00892338</td><td>0</td><td>0.0</td><td>1</td><td></td><td></td><td>Int64</td></tr><tr><th>20</th><td>WIDOWED</td><td>0.159748</td><td>0</td><td>0.0</td><td>1</td><td></td><td></td><td>Int64</td></tr><tr><th>21</th><td>GENDER</td><td>0.571678</td><td>0</td><td>1.0</td><td>1</td><td></td><td></td><td>Int64</td></tr><tr><th>22</th><td>003</td><td>9.69932e-5</td><td>0</td><td>0.0</td><td>1</td><td></td><td></td><td>Int64</td></tr><tr><th>23</th><td>004</td><td>9.69932e-5</td><td>0</td><td>0.0</td><td>1</td><td></td><td></td><td>Int64</td></tr><tr><th>24</th><td>005</td><td>9.69932e-5</td><td>0</td><td>0.0</td><td>1</td><td></td><td></td><td>Int64</td></tr><tr><th>25</th><td>007</td><td>9.69932e-5</td><td>0</td><td>0.0</td><td>1</td><td></td><td></td><td>Int64</td></tr><tr><th>26</th><td>008</td><td>0.0502425</td><td>0</td><td>0.0</td><td>1</td><td></td><td></td><td>Int64</td></tr><tr><th>27</th><td>009</td><td>0.0014549</td><td>0</td><td>0.0</td><td>1</td><td></td><td></td><td>Int64</td></tr><tr><th>28</th><td>010</td><td>9.69932e-5</td><td>0</td><td>0.0</td><td>1</td><td></td><td></td><td>Int64</td></tr><tr><th>29</th><td>011</td><td>0.000387973</td><td>0</td><td>0.0</td><td>1</td><td></td><td></td><td>Int64</td></tr><tr><th>30</th><td>012</td><td>9.69932e-5</td><td>0</td><td>0.0</td><td>1</td><td></td><td></td><td>Int64</td></tr><tr><th>&vellip;</th><td>&vellip;</td><td>&vellip;</td><td>&vellip;</td><td>&vellip;</td><td>&vellip;</td><td>&vellip;</td><td>&vellip;</td><td>&vellip;</td></tr></tbody></table>"
      ],
      "text/latex": [
       "\\begin{tabular}{r|cccccccc}\n",
       "\t& variable & mean & min & median & max & nunique & nmissing & eltype\\\\\n",
       "\t\\hline\n",
       "\t& Symbol & Float64 & Real & Float64 & Real & Nothing & Nothing & DataType\\\\\n",
       "\t\\hline\n",
       "\t1 & LOS & 6.70283 & 0.0006 & 3.0851 & 207.131 &  &  & Float64 \\\\\n",
       "\t2 & HOSPITALIZATION & 1.50621 & 1 & 1.0 & 42 &  &  & Int64 \\\\\n",
       "\t3 & ORDINAL\\_AGE & 7.27886 & 1 & 7.0 & 10 &  &  & Int64 \\\\\n",
       "\t4 & ELECTIVE & 0.186712 & 0 & 0.0 & 1 &  &  & Int64 \\\\\n",
       "\t5 & EMERGENCY & 0.850921 & 0 & 1.0 & 1 &  &  & Int64 \\\\\n",
       "\t6 & NEWBORN & 9.69932e-5 & 0 & 0.0 & 1 &  &  & Int64 \\\\\n",
       "\t7 & URGENT & 0.0393792 & 0 & 0.0 & 1 &  &  & Int64 \\\\\n",
       "\t8 & Government & 0.0244423 & 0 & 0.0 & 1 &  &  & Int64 \\\\\n",
       "\t9 & Medicaid & 0.0791465 & 0 & 0.0 & 1 &  &  & Int64 \\\\\n",
       "\t10 & Medicare & 0.650533 & 0 & 1.0 & 1 &  &  & Int64 \\\\\n",
       "\t11 & Private & 0.275849 & 0 & 0.0 & 1 &  &  & Int64 \\\\\n",
       "\t12 & Self Pay & 0.00688652 & 0 & 0.0 & 1 &  &  & Int64 \\\\\n",
       "\t13 & DIVORCED & 0.0677983 & 0 & 0.0 & 1 &  &  & Int64 \\\\\n",
       "\t14 & LIFE PARTNER & 9.69932e-5 & 0 & 0.0 & 1 &  &  & Int64 \\\\\n",
       "\t15 & MARRIED & 0.50291 & 0 & 1.0 & 1 &  &  & Int64 \\\\\n",
       "\t16 & NAN & 0.0417071 & 0 & 0.0 & 1 &  &  & Int64 \\\\\n",
       "\t17 & SEPARATED & 0.0129971 & 0 & 0.0 & 1 &  &  & Int64 \\\\\n",
       "\t18 & SINGLE & 0.217459 & 0 & 0.0 & 1 &  &  & Int64 \\\\\n",
       "\t19 & UNKNOWN & 0.00892338 & 0 & 0.0 & 1 &  &  & Int64 \\\\\n",
       "\t20 & WIDOWED & 0.159748 & 0 & 0.0 & 1 &  &  & Int64 \\\\\n",
       "\t21 & GENDER & 0.571678 & 0 & 1.0 & 1 &  &  & Int64 \\\\\n",
       "\t22 & 003 & 9.69932e-5 & 0 & 0.0 & 1 &  &  & Int64 \\\\\n",
       "\t23 & 004 & 9.69932e-5 & 0 & 0.0 & 1 &  &  & Int64 \\\\\n",
       "\t24 & 005 & 9.69932e-5 & 0 & 0.0 & 1 &  &  & Int64 \\\\\n",
       "\t25 & 007 & 9.69932e-5 & 0 & 0.0 & 1 &  &  & Int64 \\\\\n",
       "\t26 & 008 & 0.0502425 & 0 & 0.0 & 1 &  &  & Int64 \\\\\n",
       "\t27 & 009 & 0.0014549 & 0 & 0.0 & 1 &  &  & Int64 \\\\\n",
       "\t28 & 010 & 9.69932e-5 & 0 & 0.0 & 1 &  &  & Int64 \\\\\n",
       "\t29 & 011 & 0.000387973 & 0 & 0.0 & 1 &  &  & Int64 \\\\\n",
       "\t30 & 012 & 9.69932e-5 & 0 & 0.0 & 1 &  &  & Int64 \\\\\n",
       "\t$\\dots$ & $\\dots$ & $\\dots$ & $\\dots$ & $\\dots$ & $\\dots$ & $\\dots$ & $\\dots$ & $\\dots$ \\\\\n",
       "\\end{tabular}\n"
      ],
      "text/plain": [
       "920×8 DataFrame. Omitted printing of 6 columns\n",
       "│ Row │ variable                                                 │ mean        │\n",
       "│     │ \u001b[90mSymbol\u001b[39m                                                   │ \u001b[90mFloat64\u001b[39m     │\n",
       "├─────┼──────────────────────────────────────────────────────────┼─────────────┤\n",
       "│ 1   │ LOS                                                      │ 6.70283     │\n",
       "│ 2   │ HOSPITALIZATION                                          │ 1.50621     │\n",
       "│ 3   │ ORDINAL_AGE                                              │ 7.27886     │\n",
       "│ 4   │ ELECTIVE                                                 │ 0.186712    │\n",
       "│ 5   │ EMERGENCY                                                │ 0.850921    │\n",
       "│ 6   │ NEWBORN                                                  │ 9.69932e-5  │\n",
       "│ 7   │ URGENT                                                   │ 0.0393792   │\n",
       "│ 8   │ Government                                               │ 0.0244423   │\n",
       "│ 9   │ Medicaid                                                 │ 0.0791465   │\n",
       "│ 10  │ Medicare                                                 │ 0.650533    │\n",
       "⋮\n",
       "│ 910 │ WHITE - BRAZILIAN                                        │ 0.000484966 │\n",
       "│ 911 │ NATIVE HAWAIIAN OR OTHER PACIFIC ISLANDER                │ 0.000193986 │\n",
       "│ 912 │ HISPANIC/LATINO - CENTRAL AMERICAN (OTHER)               │ 0.000581959 │\n",
       "│ 913 │ ASIAN - JAPANESE                                         │ 0.000193986 │\n",
       "│ 914 │ ASIAN - THAI                                             │ 9.69932e-5  │\n",
       "│ 915 │ HISPANIC/LATINO - HONDURAN                               │ 0.0         │\n",
       "│ 916 │ HISPANIC/LATINO - CUBAN                                  │ 0.000581959 │\n",
       "│ 917 │ MIDDLE EASTERN                                           │ 0.000775946 │\n",
       "│ 918 │ ASIAN - OTHER                                            │ 0.000387973 │\n",
       "│ 919 │ HISPANIC/LATINO - MEXICAN                                │ 0.00029098  │\n",
       "│ 920 │ AMERICAN INDIAN/ALASKA NATIVE FEDERALLY RECOGNIZED TRIBE │ 0.0         │"
      ]
     },
     "execution_count": 34,
     "metadata": {},
     "output_type": "execute_result"
    }
   ],
   "source": [
    "describe(df3)"
   ]
  },
  {
   "cell_type": "markdown",
   "metadata": {},
   "source": [
    "# k-means k=5"
   ]
  },
  {
   "cell_type": "code",
   "execution_count": 35,
   "metadata": {},
   "outputs": [
    {
     "data": {
      "text/plain": [
       "GLRM(10310×920 DataFrame. Omitted printing of 915 columns\n",
       "│ Row   │ LOS     │ HOSPITALIZATION │ ORDINAL_AGE │ ELECTIVE │ EMERGENCY │\n",
       "│       │ \u001b[90mFloat64\u001b[39m │ \u001b[90mInt64\u001b[39m           │ \u001b[90mInt64\u001b[39m       │ \u001b[90mInt64\u001b[39m    │ \u001b[90mInt64\u001b[39m     │\n",
       "├───────┼─────────┼─────────────────┼─────────────┼──────────┼───────────┤\n",
       "│ 1     │ 3.666   │ 1               │ 4           │ 0        │ 1         │\n",
       "│ 2     │ 1.2885  │ 1               │ 6           │ 0        │ 1         │\n",
       "│ 3     │ 1.0508  │ 1               │ 8           │ 1        │ 0         │\n",
       "│ 4     │ 14.2664 │ 2               │ 9           │ 0        │ 1         │\n",
       "│ 5     │ 0.5124  │ 1               │ 4           │ 0        │ 1         │\n",
       "│ 6     │ 3.5466  │ 1               │ 6           │ 0        │ 1         │\n",
       "│ 7     │ 1.1224  │ 1               │ 8           │ 1        │ 0         │\n",
       "│ 8     │ 5.3757  │ 1               │ 7           │ 1        │ 0         │\n",
       "│ 9     │ 1.1397  │ 1               │ 7           │ 0        │ 1         │\n",
       "│ 10    │ 1.9138  │ 1               │ 7           │ 0        │ 1         │\n",
       "⋮\n",
       "│ 10300 │ 9.1439  │ 1               │ 9           │ 0        │ 1         │\n",
       "│ 10301 │ 6.1242  │ 1               │ 7           │ 0        │ 1         │\n",
       "│ 10302 │ 1.0388  │ 1               │ 6           │ 0        │ 1         │\n",
       "│ 10303 │ 3.1669  │ 1               │ 8           │ 0        │ 1         │\n",
       "│ 10304 │ 0.9902  │ 1               │ 3           │ 0        │ 1         │\n",
       "│ 10305 │ 7.2813  │ 1               │ 9           │ 0        │ 1         │\n",
       "│ 10306 │ 5.6719  │ 1               │ 7           │ 0        │ 1         │\n",
       "│ 10307 │ 2.8684  │ 1               │ 7           │ 0        │ 0         │\n",
       "│ 10308 │ 3.1426  │ 1               │ 5           │ 1        │ 0         │\n",
       "│ 10309 │ 2.1615  │ 1               │ 9           │ 1        │ 0         │\n",
       "│ 10310 │ 1.1242  │ 1               │ 7           │ 1        │ 0         │, Loss[QuadLoss(1.0, RealDomain()), QuadLoss(1.0, RealDomain()), QuadLoss(1.0, RealDomain()), QuadLoss(1.0, RealDomain()), QuadLoss(1.0, RealDomain()), QuadLoss(1.0, RealDomain()), QuadLoss(1.0, RealDomain()), QuadLoss(1.0, RealDomain()), QuadLoss(1.0, RealDomain()), QuadLoss(1.0, RealDomain())  …  QuadLoss(1.0, RealDomain()), QuadLoss(1.0, RealDomain()), QuadLoss(1.0, RealDomain()), QuadLoss(1.0, RealDomain()), QuadLoss(1.0, RealDomain()), QuadLoss(1.0, RealDomain()), QuadLoss(1.0, RealDomain()), QuadLoss(1.0, RealDomain()), QuadLoss(1.0, RealDomain()), QuadLoss(1.0, RealDomain())], Regularizer[UnitOneSparseConstraint(), UnitOneSparseConstraint(), UnitOneSparseConstraint(), UnitOneSparseConstraint(), UnitOneSparseConstraint(), UnitOneSparseConstraint(), UnitOneSparseConstraint(), UnitOneSparseConstraint(), UnitOneSparseConstraint(), UnitOneSparseConstraint()  …  UnitOneSparseConstraint(), UnitOneSparseConstraint(), UnitOneSparseConstraint(), UnitOneSparseConstraint(), UnitOneSparseConstraint(), UnitOneSparseConstraint(), UnitOneSparseConstraint(), UnitOneSparseConstraint(), UnitOneSparseConstraint(), UnitOneSparseConstraint()], Regularizer[ZeroReg(), ZeroReg(), ZeroReg(), ZeroReg(), ZeroReg(), ZeroReg(), ZeroReg(), ZeroReg(), ZeroReg(), ZeroReg()  …  ZeroReg(), ZeroReg(), ZeroReg(), ZeroReg(), ZeroReg(), ZeroReg(), ZeroReg(), ZeroReg(), ZeroReg(), ZeroReg()], 5, UnitRange{Int64}[1:920, 1:920, 1:920, 1:920, 1:920, 1:920, 1:920, 1:920, 1:920, 1:920  …  1:920, 1:920, 1:920, 1:920, 1:920, 1:920, 1:920, 1:920, 1:920, 1:920], UnitRange{Int64}[1:10310, 1:10310, 1:10310, 1:10310, 1:10310, 1:10310, 1:10310, 1:10310, 1:10310, 1:10310  …  1:10310, 1:10310, 1:10310, 1:10310, 1:10310, 1:10310, 1:10310, 1:10310, 1:10310, 1:10310], [0.9535017497178713 -0.04591142123140937 … 0.5506267400230856 -1.2663148086747444; -0.3883793896926541 0.29847182281878887 … 2.42682138150139 1.373047416115905; … ; -1.6571319873014565 -0.5977796271642939 … 0.43410388203513195 0.8850654757315696; -1.5927796505789336 -0.5212861712233379 … -0.8853097652175794 1.1177897305656894], [-0.4608203693377544 -0.5739868603921393 … 0.15953936593514328 -0.6676774162012544; 2.055529291816863 0.651612315506119 … -0.6933230857071832 -1.6494714136471176; … ; -0.8598200449075746 0.26689109753012885 … -0.2618040233749121 1.1087374596733524; 0.30591823820003267 -0.4334757271515092 … 0.8790861031609495 0.287187627572791])"
      ]
     },
     "execution_count": 35,
     "metadata": {},
     "output_type": "execute_result"
    }
   ],
   "source": [
    "k = 5\n",
    "A= df3\n",
    "losses = QuadLoss() # minimize squared distance to cluster centroids\n",
    "rx = UnitOneSparseConstraint() # each row is assigned to exactly one cluster\n",
    "ry = ZeroReg() # no regularization on the cluster centroids\n",
    "glrm1 = GLRM(A,losses,rx,ry,k)"
   ]
  },
  {
   "cell_type": "code",
   "execution_count": 36,
   "metadata": {},
   "outputs": [
    {
     "name": "stdout",
     "output_type": "stream",
     "text": [
      "Fitting GLRM\n",
      "Iteration 10: objective value = 1.3303803517460977e6\n"
     ]
    },
    {
     "data": {
      "text/plain": [
       "([0.0 0.0 … 0.0 1.0; 0.0 0.0 … 0.0 0.0; … ; 0.0 1.0 … 0.0 0.0; 1.0 0.0 … 0.0 0.0], [6.119443125261649 1.4993686127650592 … 3.079673881709742e-5 -0.00012888534989657593; 9.445027099944129 1.6856400364941884 … 0.00014160912378287024 -0.0008762813771889132; … ; 6.119256315326836 1.4839718105961208 … -6.129050295650432e-5 0.0002595646761806105; 6.248495565135758 1.44998801091894 … 0.0010024405178617154 0.0003274861393807903], ConvergenceHistory(\"ProxGradGLRM\", [Inf, 5.121044494099407e6, 2.6104909697223864e6, 1.7394339555004553e6, 1.4533001107042404e6, 1.3649847208677928e6, 1.3394605812559007e6, 1.3325813039244786e6, 1.330860845114511e6, 1.3304640702681735e6, 1.3303803517460977e6, 1.3303643499612333e6], Float64[], [0.0, 0.0, 0.0, 0.0, 0.0, 0.0, 0.0, 0.0, 0.0, 0.0, 0.0, 0.0], [0.0, 0.0, 0.0, 0.0, 0.0, 0.0, 0.0, 0.0, 0.0, 0.0, 0.0, 0.0], [0.0, 17.433332920074463, 62.14431381225586, 74.26863074302673, 87.1279547214508, 101.70060563087463, 115.47818875312805, 128.27117586135864, 140.55088067054749, 152.59606266021729, 164.91464567184448, 177.21526169776917], [0.0, 0.0, 0.0, 0.0, 0.0, 0.0, 0.0, 0.0, 0.0, 0.0, 0.0, 0.0], 0))"
      ]
     },
     "execution_count": 36,
     "metadata": {},
     "output_type": "execute_result"
    }
   ],
   "source": [
    "X1,Y1,ch1 = fit!(glrm1)"
   ]
  },
  {
   "cell_type": "code",
   "execution_count": 37,
   "metadata": {},
   "outputs": [
    {
     "data": {
      "text/plain": [
       "5×10310 Array{Float64,2}:\n",
       " 0.0  0.0  0.0  1.0  0.0  0.0  0.0  0.0  …  0.0  0.0  0.0  0.0  0.0  0.0  1.0\n",
       " 0.0  0.0  0.0  0.0  0.0  0.0  0.0  0.0     1.0  0.0  0.0  1.0  0.0  0.0  0.0\n",
       " 0.0  0.0  1.0  0.0  0.0  0.0  0.0  0.0     0.0  0.0  0.0  0.0  0.0  1.0  0.0\n",
       " 0.0  1.0  0.0  0.0  1.0  1.0  0.0  0.0     0.0  1.0  0.0  0.0  1.0  0.0  0.0\n",
       " 1.0  0.0  0.0  0.0  0.0  0.0  1.0  1.0     0.0  0.0  1.0  0.0  0.0  0.0  0.0"
      ]
     },
     "execution_count": 37,
     "metadata": {},
     "output_type": "execute_result"
    }
   ],
   "source": [
    "X1"
   ]
  },
  {
   "cell_type": "code",
   "execution_count": 38,
   "metadata": {
    "scrolled": true
   },
   "outputs": [
    {
     "data": {
      "text/plain": [
       "5×920 Array{Float64,2}:\n",
       " 6.11944  1.49937  7.32947  0.175639  0.853593  …   3.07967e-5   -0.000128885\n",
       " 9.44503  1.68564  7.26929  0.197855  0.857023      0.000141609  -0.000876281\n",
       " 5.78871  1.42181  7.24807  0.178673  0.851204      0.000895309  -8.63779e-5\n",
       " 6.11926  1.48397  7.2411   0.185783  0.857245     -6.12905e-5    0.000259565\n",
       " 6.2485   1.44999  7.2957   0.198618  0.833965      0.00100244    0.000327486"
      ]
     },
     "execution_count": 38,
     "metadata": {},
     "output_type": "execute_result"
    }
   ],
   "source": [
    "Y1"
   ]
  },
  {
   "cell_type": "code",
   "execution_count": 39,
   "metadata": {
    "scrolled": true
   },
   "outputs": [
    {
     "data": {
      "text/plain": [
       "ConvergenceHistory(\"ProxGradGLRM\", [Inf, 5.121044494099407e6, 2.6104909697223864e6, 1.7394339555004553e6, 1.4533001107042404e6, 1.3649847208677928e6, 1.3394605812559007e6, 1.3325813039244786e6, 1.330860845114511e6, 1.3304640702681735e6, 1.3303803517460977e6, 1.3303643499612333e6], Float64[], [0.0, 0.0, 0.0, 0.0, 0.0, 0.0, 0.0, 0.0, 0.0, 0.0, 0.0, 0.0], [0.0, 0.0, 0.0, 0.0, 0.0, 0.0, 0.0, 0.0, 0.0, 0.0, 0.0, 0.0], [0.0, 17.433332920074463, 62.14431381225586, 74.26863074302673, 87.1279547214508, 101.70060563087463, 115.47818875312805, 128.27117586135864, 140.55088067054749, 152.59606266021729, 164.91464567184448, 177.21526169776917], [0.0, 0.0, 0.0, 0.0, 0.0, 0.0, 0.0, 0.0, 0.0, 0.0, 0.0, 0.0], 0)"
      ]
     },
     "execution_count": 39,
     "metadata": {},
     "output_type": "execute_result"
    }
   ],
   "source": [
    "ch1"
   ]
  },
  {
   "cell_type": "code",
   "execution_count": 40,
   "metadata": {},
   "outputs": [
    {
     "name": "stdout",
     "output_type": "stream",
     "text": [
      "Computing cross validation error for each fold\n",
      "flattening observations\n",
      "computing CV folds\n",
      "\n",
      "forming train and test GLRM for fold 1\n",
      "training model on 7113203 samples and testing on 2371997\n",
      "fitting train GLRM for fold 1\n",
      "Fitting GLRM\n",
      "Iteration 10: objective value = 996331.7292338327\n",
      "computing train and test error for fold 1:\n",
      "\ttrain error: 0.14006794535596645\n",
      "\ttest error:  0.14085391139877998\n",
      "\n",
      "forming train and test GLRM for fold 2\n",
      "training model on 7112480 samples and testing on 2372720\n",
      "fitting train GLRM for fold 2\n",
      "Fitting GLRM\n",
      "Iteration 10: objective value = 1.0115084900832322e6\n",
      "computing train and test error for fold 2:\n",
      "\ttrain error: 0.14221600481399804\n",
      "\ttest error:  0.13441328313820872\n",
      "\n",
      "forming train and test GLRM for fold 3\n",
      "training model on 7115093 samples and testing on 2370107\n",
      "fitting train GLRM for fold 3\n",
      "Fitting GLRM\n",
      "Iteration 10: objective value = 976175.7121030281\n",
      "computing train and test error for fold 3:\n",
      "\ttrain error: 0.13719788512104153\n",
      "\ttest error:  0.14947435685639326\n",
      "\n",
      "forming train and test GLRM for fold 4\n",
      "training model on 7114824 samples and testing on 2370376\n",
      "fitting train GLRM for fold 4\n",
      "Fitting GLRM\n",
      "Iteration 10: objective value = 1.0067625438493672e6\n",
      "computing train and test error for fold 4:\n",
      "\ttrain error: 0.1415021008861829\n",
      "\ttest error:  0.13659126694864732\n"
     ]
    },
    {
     "data": {
      "text/html": [
       "<table class=\"data-frame\"><thead><tr><th></th><th>train_error</th><th>test_error</th></tr><tr><th></th><th>Float64</th><th>Float64</th></tr></thead><tbody><p>4 rows × 2 columns</p><tr><th>1</th><td>0.140068</td><td>0.140854</td></tr><tr><th>2</th><td>0.142216</td><td>0.134413</td></tr><tr><th>3</th><td>0.137198</td><td>0.149474</td></tr><tr><th>4</th><td>0.141502</td><td>0.136591</td></tr></tbody></table>"
      ],
      "text/latex": [
       "\\begin{tabular}{r|cc}\n",
       "\t& train\\_error & test\\_error\\\\\n",
       "\t\\hline\n",
       "\t& Float64 & Float64\\\\\n",
       "\t\\hline\n",
       "\t1 & 0.140068 & 0.140854 \\\\\n",
       "\t2 & 0.142216 & 0.134413 \\\\\n",
       "\t3 & 0.137198 & 0.149474 \\\\\n",
       "\t4 & 0.141502 & 0.136591 \\\\\n",
       "\\end{tabular}\n"
      ],
      "text/plain": [
       "4×2 DataFrame\n",
       "│ Row │ train_error │ test_error │\n",
       "│     │ \u001b[90mFloat64\u001b[39m     │ \u001b[90mFloat64\u001b[39m    │\n",
       "├─────┼─────────────┼────────────┤\n",
       "│ 1   │ 0.140068    │ 0.140854   │\n",
       "│ 2   │ 0.142216    │ 0.134413   │\n",
       "│ 3   │ 0.137198    │ 0.149474   │\n",
       "│ 4   │ 0.141502    │ 0.136591   │"
      ]
     },
     "execution_count": 40,
     "metadata": {},
     "output_type": "execute_result"
    }
   ],
   "source": [
    "println(\"Computing cross validation error for each fold\")\n",
    "params = Params(1.0, max_iter=100, abs_tol=0.0, min_stepsize=.001)\n",
    "train_error, test_error, train_glrms, test_glrms = cross_validate(glrm1, nfolds=4, params=params)\n",
    "df = DataFrame(train_error = train_error, test_error = test_error)"
   ]
  },
  {
   "cell_type": "markdown",
   "metadata": {},
   "source": [
    "println(\"Computing training and testing error as a function of iteration number\")\n",
    "train_error, test_error = cv_by_iter(glrm)\n",
    "df = DataFrame(train_error = train_error, test_error = test_error)"
   ]
  },
  {
   "cell_type": "code",
   "execution_count": 41,
   "metadata": {},
   "outputs": [
    {
     "data": {
      "text/html": [
       "<table class=\"data-frame\"><thead><tr><th></th><th>x1</th><th>x2</th><th>x3</th><th>x4</th><th>x5</th><th>x6</th><th>x7</th><th>x8</th><th>x9</th></tr><tr><th></th><th>Float64</th><th>Float64</th><th>Float64</th><th>Float64</th><th>Float64</th><th>Float64</th><th>Float64</th><th>Float64</th><th>Float64</th></tr></thead><tbody><p>5 rows × 10,310 columns (omitted printing of 10301 columns)</p><tr><th>1</th><td>0.0</td><td>0.0</td><td>0.0</td><td>1.0</td><td>0.0</td><td>0.0</td><td>0.0</td><td>0.0</td><td>0.0</td></tr><tr><th>2</th><td>0.0</td><td>0.0</td><td>0.0</td><td>0.0</td><td>0.0</td><td>0.0</td><td>0.0</td><td>0.0</td><td>0.0</td></tr><tr><th>3</th><td>0.0</td><td>0.0</td><td>1.0</td><td>0.0</td><td>0.0</td><td>0.0</td><td>0.0</td><td>0.0</td><td>0.0</td></tr><tr><th>4</th><td>0.0</td><td>1.0</td><td>0.0</td><td>0.0</td><td>1.0</td><td>1.0</td><td>0.0</td><td>0.0</td><td>1.0</td></tr><tr><th>5</th><td>1.0</td><td>0.0</td><td>0.0</td><td>0.0</td><td>0.0</td><td>0.0</td><td>1.0</td><td>1.0</td><td>0.0</td></tr></tbody></table>"
      ],
      "text/latex": [
       "\\begin{tabular}{r|cccccccccc}\n",
       "\t& x1 & x2 & x3 & x4 & x5 & x6 & x7 & x8 & x9 & \\\\\n",
       "\t\\hline\n",
       "\t& Float64 & Float64 & Float64 & Float64 & Float64 & Float64 & Float64 & Float64 & Float64 & \\\\\n",
       "\t\\hline\n",
       "\t1 & 0.0 & 0.0 & 0.0 & 1.0 & 0.0 & 0.0 & 0.0 & 0.0 & 0.0 & $\\dots$ \\\\\n",
       "\t2 & 0.0 & 0.0 & 0.0 & 0.0 & 0.0 & 0.0 & 0.0 & 0.0 & 0.0 & $\\dots$ \\\\\n",
       "\t3 & 0.0 & 0.0 & 1.0 & 0.0 & 0.0 & 0.0 & 0.0 & 0.0 & 0.0 & $\\dots$ \\\\\n",
       "\t4 & 0.0 & 1.0 & 0.0 & 0.0 & 1.0 & 1.0 & 0.0 & 0.0 & 1.0 & $\\dots$ \\\\\n",
       "\t5 & 1.0 & 0.0 & 0.0 & 0.0 & 0.0 & 0.0 & 1.0 & 1.0 & 0.0 & $\\dots$ \\\\\n",
       "\\end{tabular}\n"
      ],
      "text/plain": [
       "5×10310 DataFrame. Omitted printing of 10303 columns\n",
       "│ Row │ x1      │ x2      │ x3      │ x4      │ x5      │ x6      │ x7      │\n",
       "│     │ \u001b[90mFloat64\u001b[39m │ \u001b[90mFloat64\u001b[39m │ \u001b[90mFloat64\u001b[39m │ \u001b[90mFloat64\u001b[39m │ \u001b[90mFloat64\u001b[39m │ \u001b[90mFloat64\u001b[39m │ \u001b[90mFloat64\u001b[39m │\n",
       "├─────┼─────────┼─────────┼─────────┼─────────┼─────────┼─────────┼─────────┤\n",
       "│ 1   │ 0.0     │ 0.0     │ 0.0     │ 1.0     │ 0.0     │ 0.0     │ 0.0     │\n",
       "│ 2   │ 0.0     │ 0.0     │ 0.0     │ 0.0     │ 0.0     │ 0.0     │ 0.0     │\n",
       "│ 3   │ 0.0     │ 0.0     │ 1.0     │ 0.0     │ 0.0     │ 0.0     │ 0.0     │\n",
       "│ 4   │ 0.0     │ 1.0     │ 0.0     │ 0.0     │ 1.0     │ 1.0     │ 0.0     │\n",
       "│ 5   │ 1.0     │ 0.0     │ 0.0     │ 0.0     │ 0.0     │ 0.0     │ 1.0     │"
      ]
     },
     "execution_count": 41,
     "metadata": {},
     "output_type": "execute_result"
    }
   ],
   "source": [
    " GLRMdiabetes = convert(DataFrame, X1)"
   ]
  },
  {
   "cell_type": "code",
   "execution_count": 42,
   "metadata": {},
   "outputs": [
    {
     "data": {
      "text/html": [
       "<table class=\"data-frame\"><thead><tr><th></th><th>x1</th><th>x2</th><th>x3</th><th>x4</th><th>x5</th><th>x6</th><th>x7</th><th>x8</th><th>x9</th></tr><tr><th></th><th>Float64</th><th>Float64</th><th>Float64</th><th>Float64</th><th>Float64</th><th>Float64</th><th>Float64</th><th>Float64</th><th>Float64</th></tr></thead><tbody><p>5 rows × 10,310 columns (omitted printing of 10301 columns)</p><tr><th>1</th><td>0.0</td><td>0.0</td><td>0.0</td><td>1.0</td><td>0.0</td><td>0.0</td><td>0.0</td><td>0.0</td><td>0.0</td></tr><tr><th>2</th><td>0.0</td><td>0.0</td><td>0.0</td><td>0.0</td><td>0.0</td><td>0.0</td><td>0.0</td><td>0.0</td><td>0.0</td></tr><tr><th>3</th><td>0.0</td><td>0.0</td><td>1.0</td><td>0.0</td><td>0.0</td><td>0.0</td><td>0.0</td><td>0.0</td><td>0.0</td></tr><tr><th>4</th><td>0.0</td><td>1.0</td><td>0.0</td><td>0.0</td><td>1.0</td><td>1.0</td><td>0.0</td><td>0.0</td><td>1.0</td></tr><tr><th>5</th><td>1.0</td><td>0.0</td><td>0.0</td><td>0.0</td><td>0.0</td><td>0.0</td><td>1.0</td><td>1.0</td><td>0.0</td></tr></tbody></table>"
      ],
      "text/latex": [
       "\\begin{tabular}{r|cccccccccc}\n",
       "\t& x1 & x2 & x3 & x4 & x5 & x6 & x7 & x8 & x9 & \\\\\n",
       "\t\\hline\n",
       "\t& Float64 & Float64 & Float64 & Float64 & Float64 & Float64 & Float64 & Float64 & Float64 & \\\\\n",
       "\t\\hline\n",
       "\t1 & 0.0 & 0.0 & 0.0 & 1.0 & 0.0 & 0.0 & 0.0 & 0.0 & 0.0 & $\\dots$ \\\\\n",
       "\t2 & 0.0 & 0.0 & 0.0 & 0.0 & 0.0 & 0.0 & 0.0 & 0.0 & 0.0 & $\\dots$ \\\\\n",
       "\t3 & 0.0 & 0.0 & 1.0 & 0.0 & 0.0 & 0.0 & 0.0 & 0.0 & 0.0 & $\\dots$ \\\\\n",
       "\t4 & 0.0 & 1.0 & 0.0 & 0.0 & 1.0 & 1.0 & 0.0 & 0.0 & 1.0 & $\\dots$ \\\\\n",
       "\t5 & 1.0 & 0.0 & 0.0 & 0.0 & 0.0 & 0.0 & 1.0 & 1.0 & 0.0 & $\\dots$ \\\\\n",
       "\\end{tabular}\n"
      ],
      "text/plain": [
       "5×10310 DataFrame. Omitted printing of 10303 columns\n",
       "│ Row │ x1      │ x2      │ x3      │ x4      │ x5      │ x6      │ x7      │\n",
       "│     │ \u001b[90mFloat64\u001b[39m │ \u001b[90mFloat64\u001b[39m │ \u001b[90mFloat64\u001b[39m │ \u001b[90mFloat64\u001b[39m │ \u001b[90mFloat64\u001b[39m │ \u001b[90mFloat64\u001b[39m │ \u001b[90mFloat64\u001b[39m │\n",
       "├─────┼─────────┼─────────┼─────────┼─────────┼─────────┼─────────┼─────────┤\n",
       "│ 1   │ 0.0     │ 0.0     │ 0.0     │ 1.0     │ 0.0     │ 0.0     │ 0.0     │\n",
       "│ 2   │ 0.0     │ 0.0     │ 0.0     │ 0.0     │ 0.0     │ 0.0     │ 0.0     │\n",
       "│ 3   │ 0.0     │ 0.0     │ 1.0     │ 0.0     │ 0.0     │ 0.0     │ 0.0     │\n",
       "│ 4   │ 0.0     │ 1.0     │ 0.0     │ 0.0     │ 1.0     │ 1.0     │ 0.0     │\n",
       "│ 5   │ 1.0     │ 0.0     │ 0.0     │ 0.0     │ 0.0     │ 0.0     │ 1.0     │"
      ]
     },
     "execution_count": 42,
     "metadata": {},
     "output_type": "execute_result"
    }
   ],
   "source": [
    " GLRMdiabetes"
   ]
  },
  {
   "cell_type": "code",
   "execution_count": 43,
   "metadata": {},
   "outputs": [
    {
     "data": {
      "text/plain": [
       "\"/Users/kathy908000/github/health-care-research/data/GLRMk5.2.csv\""
      ]
     },
     "execution_count": 43,
     "metadata": {},
     "output_type": "execute_result"
    }
   ],
   "source": [
    "CSV.write(\"/Users/kathy908000/github/health-care-research/data/GLRMk5.2.csv\",  GLRMdiabetes)"
   ]
  },
  {
   "cell_type": "code",
   "execution_count": 44,
   "metadata": {},
   "outputs": [
    {
     "data": {
      "text/html": [
       "<table class=\"data-frame\"><thead><tr><th></th><th>x1</th><th>x2</th><th>x3</th><th>x4</th><th>x5</th><th>x6</th><th>x7</th><th>x8</th><th>x9</th></tr><tr><th></th><th>Float64</th><th>Float64</th><th>Float64</th><th>Float64</th><th>Float64</th><th>Float64</th><th>Float64</th><th>Float64</th><th>Float64</th></tr></thead><tbody><p>5 rows × 10,310 columns (omitted printing of 10301 columns)</p><tr><th>1</th><td>0.0</td><td>0.0</td><td>0.0</td><td>1.0</td><td>0.0</td><td>0.0</td><td>0.0</td><td>0.0</td><td>0.0</td></tr><tr><th>2</th><td>0.0</td><td>0.0</td><td>0.0</td><td>0.0</td><td>0.0</td><td>0.0</td><td>0.0</td><td>0.0</td><td>0.0</td></tr><tr><th>3</th><td>0.0</td><td>0.0</td><td>1.0</td><td>0.0</td><td>0.0</td><td>0.0</td><td>0.0</td><td>0.0</td><td>0.0</td></tr><tr><th>4</th><td>0.0</td><td>1.0</td><td>0.0</td><td>0.0</td><td>1.0</td><td>1.0</td><td>0.0</td><td>0.0</td><td>1.0</td></tr><tr><th>5</th><td>1.0</td><td>0.0</td><td>0.0</td><td>0.0</td><td>0.0</td><td>0.0</td><td>1.0</td><td>1.0</td><td>0.0</td></tr></tbody></table>"
      ],
      "text/latex": [
       "\\begin{tabular}{r|cccccccccc}\n",
       "\t& x1 & x2 & x3 & x4 & x5 & x6 & x7 & x8 & x9 & \\\\\n",
       "\t\\hline\n",
       "\t& Float64 & Float64 & Float64 & Float64 & Float64 & Float64 & Float64 & Float64 & Float64 & \\\\\n",
       "\t\\hline\n",
       "\t1 & 0.0 & 0.0 & 0.0 & 1.0 & 0.0 & 0.0 & 0.0 & 0.0 & 0.0 & $\\dots$ \\\\\n",
       "\t2 & 0.0 & 0.0 & 0.0 & 0.0 & 0.0 & 0.0 & 0.0 & 0.0 & 0.0 & $\\dots$ \\\\\n",
       "\t3 & 0.0 & 0.0 & 1.0 & 0.0 & 0.0 & 0.0 & 0.0 & 0.0 & 0.0 & $\\dots$ \\\\\n",
       "\t4 & 0.0 & 1.0 & 0.0 & 0.0 & 1.0 & 1.0 & 0.0 & 0.0 & 1.0 & $\\dots$ \\\\\n",
       "\t5 & 1.0 & 0.0 & 0.0 & 0.0 & 0.0 & 0.0 & 1.0 & 1.0 & 0.0 & $\\dots$ \\\\\n",
       "\\end{tabular}\n"
      ],
      "text/plain": [
       "5×10310 DataFrame. Omitted printing of 10303 columns\n",
       "│ Row │ x1      │ x2      │ x3      │ x4      │ x5      │ x6      │ x7      │\n",
       "│     │ \u001b[90mFloat64\u001b[39m │ \u001b[90mFloat64\u001b[39m │ \u001b[90mFloat64\u001b[39m │ \u001b[90mFloat64\u001b[39m │ \u001b[90mFloat64\u001b[39m │ \u001b[90mFloat64\u001b[39m │ \u001b[90mFloat64\u001b[39m │\n",
       "├─────┼─────────┼─────────┼─────────┼─────────┼─────────┼─────────┼─────────┤\n",
       "│ 1   │ 0.0     │ 0.0     │ 0.0     │ 1.0     │ 0.0     │ 0.0     │ 0.0     │\n",
       "│ 2   │ 0.0     │ 0.0     │ 0.0     │ 0.0     │ 0.0     │ 0.0     │ 0.0     │\n",
       "│ 3   │ 0.0     │ 0.0     │ 1.0     │ 0.0     │ 0.0     │ 0.0     │ 0.0     │\n",
       "│ 4   │ 0.0     │ 1.0     │ 0.0     │ 0.0     │ 1.0     │ 1.0     │ 0.0     │\n",
       "│ 5   │ 1.0     │ 0.0     │ 0.0     │ 0.0     │ 0.0     │ 0.0     │ 1.0     │"
      ]
     },
     "execution_count": 44,
     "metadata": {},
     "output_type": "execute_result"
    }
   ],
   "source": [
    "array = CSV.read(\"/Users/kathy908000/github/health-care-research/data/GLRMk5.2.csv\")\n"
   ]
  },
  {
   "cell_type": "markdown",
   "metadata": {},
   "source": [
    "# k-means k=20"
   ]
  },
  {
   "cell_type": "code",
   "execution_count": 45,
   "metadata": {},
   "outputs": [
    {
     "name": "stdout",
     "output_type": "stream",
     "text": [
      "Fitting GLRM\n",
      "Iteration 10: objective value = 1.4834753548099385e6\n",
      "Iteration 20: objective value = 1.2773722365974137e6\n",
      "Iteration 30: objective value = 1.216582151448076e6\n",
      "Iteration 40: objective value = 1.1945676695792752e6\n",
      "Iteration 50: objective value = 1.1827935111377784e6\n",
      "Iteration 60: objective value = 1.1789730353274522e6\n"
     ]
    },
    {
     "data": {
      "text/plain": [
       "([0.0 0.0 … 0.0 0.0; 0.0 0.0 … 0.0 0.0; … ; 0.0 0.0 … 0.0 0.0; 0.0 0.0 … 0.0 0.0], [5.281130250481696 1.3815028901705992 … 2.5383055089648012e-21 -2.0376473737383102e-21; 2.4175533852790525 1.445806353184091 … 0.01766598902191349 -0.07615238105669002; … ; 0.31060899451189544 -0.5436816973761186 … 1.245186519398337 1.8671077710567696; 1.1036947442387341 0.7200025235930065 … 0.47459280340515847 -0.635972258952603], ConvergenceHistory(\"ProxGradGLRM\", [Inf, 9.85663886848881e6, 5.485236858737126e6, 2.855068747965221e6, 2.1614384087271825e6, 1.873720719174829e6, 1.7261306278307233e6, 1.6358285960765325e6, 1.5724900483951955e6, 1.5235922744100401e6  …  1.181296676309454e6, 1.1806442306517614e6, 1.1800851005899482e6, 1.179782365300087e6, 1.1796283325702709e6, 1.179499124867198e6, 1.1792757308365547e6, 1.1790979074010618e6, 1.1789730353274522e6, 1.1788680446938481e6], Float64[], [0.0, 0.0, 0.0, 0.0, 0.0, 0.0, 0.0, 0.0, 0.0, 0.0  …  0.0, 0.0, 0.0, 0.0, 0.0, 0.0, 0.0, 0.0, 0.0, 0.0], [0.0, 0.0, 0.0, 0.0, 0.0, 0.0, 0.0, 0.0, 0.0, 0.0  …  0.0, 0.0, 0.0, 0.0, 0.0, 0.0, 0.0, 0.0, 0.0, 0.0], [0.0, 17.491312980651855, 53.59407305717468, 98.34885811805725, 124.61088109016418, 142.4676320552826, 159.63651204109192, 181.60010886192322, 198.72659397125244, 217.32635807991028  …  926.364470243454, 942.5873863697052, 959.7539772987366, 981.6289281845093, 999.7082440853119, 1018.769180059433, 1037.0430872440338, 1057.2828752994537, 1074.954832315445, 1092.0640234947205], [0.0, 0.0, 0.0, 0.0, 0.0, 0.0, 0.0, 0.0, 0.0, 0.0  …  0.0, 0.0, 0.0, 0.0, 0.0, 0.0, 0.0, 0.0, 0.0, 0.0], 0))"
      ]
     },
     "execution_count": 45,
     "metadata": {},
     "output_type": "execute_result"
    }
   ],
   "source": [
    "k = 20\n",
    "A= df3\n",
    "losses = QuadLoss() \n",
    "rx = UnitOneSparseConstraint() \n",
    "ry = ZeroReg()\n",
    "glrm2 = GLRM(A,losses,rx,ry,k)\n",
    "X2,Y2,ch2 = fit!(glrm2)\n"
   ]
  },
  {
   "cell_type": "code",
   "execution_count": 46,
   "metadata": {},
   "outputs": [
    {
     "data": {
      "text/plain": [
       "20×10310 Array{Float64,2}:\n",
       " 0.0  0.0  0.0  0.0  0.0  0.0  0.0  1.0  …  0.0  0.0  1.0  0.0  0.0  0.0  0.0\n",
       " 0.0  0.0  0.0  0.0  0.0  0.0  0.0  0.0     0.0  0.0  0.0  0.0  0.0  0.0  0.0\n",
       " 0.0  0.0  0.0  0.0  0.0  0.0  0.0  0.0     0.0  0.0  0.0  0.0  0.0  0.0  0.0\n",
       " 0.0  0.0  0.0  0.0  1.0  0.0  0.0  0.0     0.0  1.0  0.0  0.0  0.0  0.0  0.0\n",
       " 0.0  0.0  0.0  0.0  0.0  0.0  0.0  0.0     0.0  0.0  0.0  0.0  0.0  0.0  0.0\n",
       " 0.0  0.0  0.0  0.0  0.0  1.0  0.0  0.0  …  0.0  0.0  0.0  0.0  0.0  0.0  0.0\n",
       " 0.0  0.0  0.0  0.0  0.0  0.0  0.0  0.0     0.0  0.0  0.0  0.0  0.0  0.0  0.0\n",
       " 1.0  0.0  0.0  1.0  0.0  0.0  1.0  0.0     0.0  0.0  0.0  1.0  0.0  0.0  0.0\n",
       " 0.0  0.0  0.0  0.0  0.0  0.0  0.0  0.0     0.0  0.0  0.0  0.0  0.0  0.0  0.0\n",
       " 0.0  0.0  0.0  0.0  0.0  0.0  0.0  0.0     0.0  0.0  0.0  0.0  0.0  0.0  0.0\n",
       " 0.0  0.0  0.0  0.0  0.0  0.0  0.0  0.0  …  0.0  0.0  0.0  0.0  0.0  0.0  0.0\n",
       " 0.0  1.0  0.0  0.0  0.0  0.0  0.0  0.0     0.0  0.0  0.0  0.0  0.0  0.0  0.0\n",
       " 0.0  0.0  0.0  0.0  0.0  0.0  0.0  0.0     0.0  0.0  0.0  0.0  0.0  1.0  0.0\n",
       " 0.0  0.0  0.0  0.0  0.0  0.0  0.0  0.0     0.0  0.0  0.0  0.0  0.0  0.0  0.0\n",
       " 0.0  0.0  1.0  0.0  0.0  0.0  0.0  0.0     0.0  0.0  0.0  0.0  1.0  0.0  1.0\n",
       " 0.0  0.0  0.0  0.0  0.0  0.0  0.0  0.0  …  1.0  0.0  0.0  0.0  0.0  0.0  0.0\n",
       " 0.0  0.0  0.0  0.0  0.0  0.0  0.0  0.0     0.0  0.0  0.0  0.0  0.0  0.0  0.0\n",
       " 0.0  0.0  0.0  0.0  0.0  0.0  0.0  0.0     0.0  0.0  0.0  0.0  0.0  0.0  0.0\n",
       " 0.0  0.0  0.0  0.0  0.0  0.0  0.0  0.0     0.0  0.0  0.0  0.0  0.0  0.0  0.0\n",
       " 0.0  0.0  0.0  0.0  0.0  0.0  0.0  0.0     0.0  0.0  0.0  0.0  0.0  0.0  0.0"
      ]
     },
     "execution_count": 46,
     "metadata": {},
     "output_type": "execute_result"
    }
   ],
   "source": [
    "X2"
   ]
  },
  {
   "cell_type": "code",
   "execution_count": 47,
   "metadata": {
    "scrolled": false
   },
   "outputs": [
    {
     "name": "stdout",
     "output_type": "stream",
     "text": [
      "Computing cross validation error for each fold\n",
      "flattening observations\n",
      "computing CV folds\n",
      "\n",
      "forming train and test GLRM for fold 1\n",
      "training model on 7116330 samples and testing on 2368870\n",
      "fitting train GLRM for fold 1\n",
      "Fitting GLRM\n",
      "Iteration 10: objective value = 869290.2884039792\n",
      "computing train and test error for fold 1:\n",
      "\ttrain error: 0.12214965804221761\n",
      "\ttest error:  0.1286775666617301\n",
      "\n",
      "forming train and test GLRM for fold 2\n",
      "training model on 7113950 samples and testing on 2371250\n",
      "fitting train GLRM for fold 2\n",
      "Fitting GLRM\n",
      "Iteration 10: objective value = 875185.061603925\n",
      "computing train and test error for fold 2:\n",
      "\ttrain error: 0.12301910367370013\n",
      "\ttest error:  0.12460100676104605\n",
      "\n",
      "forming train and test GLRM for fold 3\n",
      "training model on 7113072 samples and testing on 2372128\n",
      "fitting train GLRM for fold 3\n",
      "Fitting GLRM\n",
      "Iteration 10: objective value = 878156.7359432717\n",
      "computing train and test error for fold 3:\n",
      "\ttrain error: 0.12345211783984468\n",
      "\ttest error:  0.12420391076036455\n",
      "\n",
      "forming train and test GLRM for fold 4\n",
      "training model on 7112248 samples and testing on 2372952\n",
      "fitting train GLRM for fold 4\n",
      "Fitting GLRM\n",
      "Iteration 10: objective value = 889118.7557658971\n",
      "computing train and test error for fold 4:\n",
      "\ttrain error: 0.12500754537238062\n",
      "\ttest error:  0.1198622063340713\n"
     ]
    },
    {
     "data": {
      "text/html": [
       "<table class=\"data-frame\"><thead><tr><th></th><th>train_error</th><th>test_error</th></tr><tr><th></th><th>Float64</th><th>Float64</th></tr></thead><tbody><p>4 rows × 2 columns</p><tr><th>1</th><td>0.12215</td><td>0.128678</td></tr><tr><th>2</th><td>0.123019</td><td>0.124601</td></tr><tr><th>3</th><td>0.123452</td><td>0.124204</td></tr><tr><th>4</th><td>0.125008</td><td>0.119862</td></tr></tbody></table>"
      ],
      "text/latex": [
       "\\begin{tabular}{r|cc}\n",
       "\t& train\\_error & test\\_error\\\\\n",
       "\t\\hline\n",
       "\t& Float64 & Float64\\\\\n",
       "\t\\hline\n",
       "\t1 & 0.12215 & 0.128678 \\\\\n",
       "\t2 & 0.123019 & 0.124601 \\\\\n",
       "\t3 & 0.123452 & 0.124204 \\\\\n",
       "\t4 & 0.125008 & 0.119862 \\\\\n",
       "\\end{tabular}\n"
      ],
      "text/plain": [
       "4×2 DataFrame\n",
       "│ Row │ train_error │ test_error │\n",
       "│     │ \u001b[90mFloat64\u001b[39m     │ \u001b[90mFloat64\u001b[39m    │\n",
       "├─────┼─────────────┼────────────┤\n",
       "│ 1   │ 0.12215     │ 0.128678   │\n",
       "│ 2   │ 0.123019    │ 0.124601   │\n",
       "│ 3   │ 0.123452    │ 0.124204   │\n",
       "│ 4   │ 0.125008    │ 0.119862   │"
      ]
     },
     "execution_count": 47,
     "metadata": {},
     "output_type": "execute_result"
    }
   ],
   "source": [
    "println(\"Computing cross validation error for each fold\")\n",
    "params = Params(1.0, max_iter=100, abs_tol=0.0, min_stepsize=.001)\n",
    "train_error, test_error, train_glrms, test_glrms = cross_validate(glrm2, nfolds=4, params=params)\n",
    "df = DataFrame(train_error = train_error, test_error = test_error)"
   ]
  },
  {
   "cell_type": "code",
   "execution_count": 48,
   "metadata": {},
   "outputs": [
    {
     "data": {
      "text/html": [
       "<table class=\"data-frame\"><thead><tr><th></th><th>x1</th><th>x2</th><th>x3</th><th>x4</th><th>x5</th><th>x6</th><th>x7</th><th>x8</th><th>x9</th></tr><tr><th></th><th>Float64</th><th>Float64</th><th>Float64</th><th>Float64</th><th>Float64</th><th>Float64</th><th>Float64</th><th>Float64</th><th>Float64</th></tr></thead><tbody><p>20 rows × 10,310 columns (omitted printing of 10301 columns)</p><tr><th>1</th><td>0.0</td><td>0.0</td><td>0.0</td><td>0.0</td><td>0.0</td><td>0.0</td><td>0.0</td><td>1.0</td><td>0.0</td></tr><tr><th>2</th><td>0.0</td><td>0.0</td><td>0.0</td><td>0.0</td><td>0.0</td><td>0.0</td><td>0.0</td><td>0.0</td><td>0.0</td></tr><tr><th>3</th><td>0.0</td><td>0.0</td><td>0.0</td><td>0.0</td><td>0.0</td><td>0.0</td><td>0.0</td><td>0.0</td><td>0.0</td></tr><tr><th>4</th><td>0.0</td><td>0.0</td><td>0.0</td><td>0.0</td><td>1.0</td><td>0.0</td><td>0.0</td><td>0.0</td><td>0.0</td></tr><tr><th>5</th><td>0.0</td><td>0.0</td><td>0.0</td><td>0.0</td><td>0.0</td><td>0.0</td><td>0.0</td><td>0.0</td><td>0.0</td></tr><tr><th>6</th><td>0.0</td><td>0.0</td><td>0.0</td><td>0.0</td><td>0.0</td><td>1.0</td><td>0.0</td><td>0.0</td><td>0.0</td></tr><tr><th>7</th><td>0.0</td><td>0.0</td><td>0.0</td><td>0.0</td><td>0.0</td><td>0.0</td><td>0.0</td><td>0.0</td><td>0.0</td></tr><tr><th>8</th><td>1.0</td><td>0.0</td><td>0.0</td><td>1.0</td><td>0.0</td><td>0.0</td><td>1.0</td><td>0.0</td><td>0.0</td></tr><tr><th>9</th><td>0.0</td><td>0.0</td><td>0.0</td><td>0.0</td><td>0.0</td><td>0.0</td><td>0.0</td><td>0.0</td><td>0.0</td></tr><tr><th>10</th><td>0.0</td><td>0.0</td><td>0.0</td><td>0.0</td><td>0.0</td><td>0.0</td><td>0.0</td><td>0.0</td><td>0.0</td></tr><tr><th>11</th><td>0.0</td><td>0.0</td><td>0.0</td><td>0.0</td><td>0.0</td><td>0.0</td><td>0.0</td><td>0.0</td><td>0.0</td></tr><tr><th>12</th><td>0.0</td><td>1.0</td><td>0.0</td><td>0.0</td><td>0.0</td><td>0.0</td><td>0.0</td><td>0.0</td><td>1.0</td></tr><tr><th>13</th><td>0.0</td><td>0.0</td><td>0.0</td><td>0.0</td><td>0.0</td><td>0.0</td><td>0.0</td><td>0.0</td><td>0.0</td></tr><tr><th>14</th><td>0.0</td><td>0.0</td><td>0.0</td><td>0.0</td><td>0.0</td><td>0.0</td><td>0.0</td><td>0.0</td><td>0.0</td></tr><tr><th>15</th><td>0.0</td><td>0.0</td><td>1.0</td><td>0.0</td><td>0.0</td><td>0.0</td><td>0.0</td><td>0.0</td><td>0.0</td></tr><tr><th>16</th><td>0.0</td><td>0.0</td><td>0.0</td><td>0.0</td><td>0.0</td><td>0.0</td><td>0.0</td><td>0.0</td><td>0.0</td></tr><tr><th>17</th><td>0.0</td><td>0.0</td><td>0.0</td><td>0.0</td><td>0.0</td><td>0.0</td><td>0.0</td><td>0.0</td><td>0.0</td></tr><tr><th>18</th><td>0.0</td><td>0.0</td><td>0.0</td><td>0.0</td><td>0.0</td><td>0.0</td><td>0.0</td><td>0.0</td><td>0.0</td></tr><tr><th>19</th><td>0.0</td><td>0.0</td><td>0.0</td><td>0.0</td><td>0.0</td><td>0.0</td><td>0.0</td><td>0.0</td><td>0.0</td></tr><tr><th>20</th><td>0.0</td><td>0.0</td><td>0.0</td><td>0.0</td><td>0.0</td><td>0.0</td><td>0.0</td><td>0.0</td><td>0.0</td></tr></tbody></table>"
      ],
      "text/latex": [
       "\\begin{tabular}{r|cccccccccc}\n",
       "\t& x1 & x2 & x3 & x4 & x5 & x6 & x7 & x8 & x9 & \\\\\n",
       "\t\\hline\n",
       "\t& Float64 & Float64 & Float64 & Float64 & Float64 & Float64 & Float64 & Float64 & Float64 & \\\\\n",
       "\t\\hline\n",
       "\t1 & 0.0 & 0.0 & 0.0 & 0.0 & 0.0 & 0.0 & 0.0 & 1.0 & 0.0 & $\\dots$ \\\\\n",
       "\t2 & 0.0 & 0.0 & 0.0 & 0.0 & 0.0 & 0.0 & 0.0 & 0.0 & 0.0 & $\\dots$ \\\\\n",
       "\t3 & 0.0 & 0.0 & 0.0 & 0.0 & 0.0 & 0.0 & 0.0 & 0.0 & 0.0 & $\\dots$ \\\\\n",
       "\t4 & 0.0 & 0.0 & 0.0 & 0.0 & 1.0 & 0.0 & 0.0 & 0.0 & 0.0 & $\\dots$ \\\\\n",
       "\t5 & 0.0 & 0.0 & 0.0 & 0.0 & 0.0 & 0.0 & 0.0 & 0.0 & 0.0 & $\\dots$ \\\\\n",
       "\t6 & 0.0 & 0.0 & 0.0 & 0.0 & 0.0 & 1.0 & 0.0 & 0.0 & 0.0 & $\\dots$ \\\\\n",
       "\t7 & 0.0 & 0.0 & 0.0 & 0.0 & 0.0 & 0.0 & 0.0 & 0.0 & 0.0 & $\\dots$ \\\\\n",
       "\t8 & 1.0 & 0.0 & 0.0 & 1.0 & 0.0 & 0.0 & 1.0 & 0.0 & 0.0 & $\\dots$ \\\\\n",
       "\t9 & 0.0 & 0.0 & 0.0 & 0.0 & 0.0 & 0.0 & 0.0 & 0.0 & 0.0 & $\\dots$ \\\\\n",
       "\t10 & 0.0 & 0.0 & 0.0 & 0.0 & 0.0 & 0.0 & 0.0 & 0.0 & 0.0 & $\\dots$ \\\\\n",
       "\t11 & 0.0 & 0.0 & 0.0 & 0.0 & 0.0 & 0.0 & 0.0 & 0.0 & 0.0 & $\\dots$ \\\\\n",
       "\t12 & 0.0 & 1.0 & 0.0 & 0.0 & 0.0 & 0.0 & 0.0 & 0.0 & 1.0 & $\\dots$ \\\\\n",
       "\t13 & 0.0 & 0.0 & 0.0 & 0.0 & 0.0 & 0.0 & 0.0 & 0.0 & 0.0 & $\\dots$ \\\\\n",
       "\t14 & 0.0 & 0.0 & 0.0 & 0.0 & 0.0 & 0.0 & 0.0 & 0.0 & 0.0 & $\\dots$ \\\\\n",
       "\t15 & 0.0 & 0.0 & 1.0 & 0.0 & 0.0 & 0.0 & 0.0 & 0.0 & 0.0 & $\\dots$ \\\\\n",
       "\t16 & 0.0 & 0.0 & 0.0 & 0.0 & 0.0 & 0.0 & 0.0 & 0.0 & 0.0 & $\\dots$ \\\\\n",
       "\t17 & 0.0 & 0.0 & 0.0 & 0.0 & 0.0 & 0.0 & 0.0 & 0.0 & 0.0 & $\\dots$ \\\\\n",
       "\t18 & 0.0 & 0.0 & 0.0 & 0.0 & 0.0 & 0.0 & 0.0 & 0.0 & 0.0 & $\\dots$ \\\\\n",
       "\t19 & 0.0 & 0.0 & 0.0 & 0.0 & 0.0 & 0.0 & 0.0 & 0.0 & 0.0 & $\\dots$ \\\\\n",
       "\t20 & 0.0 & 0.0 & 0.0 & 0.0 & 0.0 & 0.0 & 0.0 & 0.0 & 0.0 & $\\dots$ \\\\\n",
       "\\end{tabular}\n"
      ],
      "text/plain": [
       "20×10310 DataFrame. Omitted printing of 10303 columns\n",
       "│ Row │ x1      │ x2      │ x3      │ x4      │ x5      │ x6      │ x7      │\n",
       "│     │ \u001b[90mFloat64\u001b[39m │ \u001b[90mFloat64\u001b[39m │ \u001b[90mFloat64\u001b[39m │ \u001b[90mFloat64\u001b[39m │ \u001b[90mFloat64\u001b[39m │ \u001b[90mFloat64\u001b[39m │ \u001b[90mFloat64\u001b[39m │\n",
       "├─────┼─────────┼─────────┼─────────┼─────────┼─────────┼─────────┼─────────┤\n",
       "│ 1   │ 0.0     │ 0.0     │ 0.0     │ 0.0     │ 0.0     │ 0.0     │ 0.0     │\n",
       "│ 2   │ 0.0     │ 0.0     │ 0.0     │ 0.0     │ 0.0     │ 0.0     │ 0.0     │\n",
       "│ 3   │ 0.0     │ 0.0     │ 0.0     │ 0.0     │ 0.0     │ 0.0     │ 0.0     │\n",
       "│ 4   │ 0.0     │ 0.0     │ 0.0     │ 0.0     │ 1.0     │ 0.0     │ 0.0     │\n",
       "│ 5   │ 0.0     │ 0.0     │ 0.0     │ 0.0     │ 0.0     │ 0.0     │ 0.0     │\n",
       "│ 6   │ 0.0     │ 0.0     │ 0.0     │ 0.0     │ 0.0     │ 1.0     │ 0.0     │\n",
       "│ 7   │ 0.0     │ 0.0     │ 0.0     │ 0.0     │ 0.0     │ 0.0     │ 0.0     │\n",
       "│ 8   │ 1.0     │ 0.0     │ 0.0     │ 1.0     │ 0.0     │ 0.0     │ 1.0     │\n",
       "│ 9   │ 0.0     │ 0.0     │ 0.0     │ 0.0     │ 0.0     │ 0.0     │ 0.0     │\n",
       "│ 10  │ 0.0     │ 0.0     │ 0.0     │ 0.0     │ 0.0     │ 0.0     │ 0.0     │\n",
       "│ 11  │ 0.0     │ 0.0     │ 0.0     │ 0.0     │ 0.0     │ 0.0     │ 0.0     │\n",
       "│ 12  │ 0.0     │ 1.0     │ 0.0     │ 0.0     │ 0.0     │ 0.0     │ 0.0     │\n",
       "│ 13  │ 0.0     │ 0.0     │ 0.0     │ 0.0     │ 0.0     │ 0.0     │ 0.0     │\n",
       "│ 14  │ 0.0     │ 0.0     │ 0.0     │ 0.0     │ 0.0     │ 0.0     │ 0.0     │\n",
       "│ 15  │ 0.0     │ 0.0     │ 1.0     │ 0.0     │ 0.0     │ 0.0     │ 0.0     │\n",
       "│ 16  │ 0.0     │ 0.0     │ 0.0     │ 0.0     │ 0.0     │ 0.0     │ 0.0     │\n",
       "│ 17  │ 0.0     │ 0.0     │ 0.0     │ 0.0     │ 0.0     │ 0.0     │ 0.0     │\n",
       "│ 18  │ 0.0     │ 0.0     │ 0.0     │ 0.0     │ 0.0     │ 0.0     │ 0.0     │\n",
       "│ 19  │ 0.0     │ 0.0     │ 0.0     │ 0.0     │ 0.0     │ 0.0     │ 0.0     │\n",
       "│ 20  │ 0.0     │ 0.0     │ 0.0     │ 0.0     │ 0.0     │ 0.0     │ 0.0     │"
      ]
     },
     "execution_count": 48,
     "metadata": {},
     "output_type": "execute_result"
    }
   ],
   "source": [
    "GLRMk20 = convert(DataFrame, X2) \n",
    "\n"
   ]
  },
  {
   "cell_type": "code",
   "execution_count": 49,
   "metadata": {},
   "outputs": [
    {
     "data": {
      "text/plain": [
       "\"/Users/kathy908000/github/health-care-research/data/GLRMk20.2.csv\""
      ]
     },
     "execution_count": 49,
     "metadata": {},
     "output_type": "execute_result"
    }
   ],
   "source": [
    "CSV.write(\"/Users/kathy908000/github/health-care-research/data/GLRMk20.2.csv\",  GLRMk20)"
   ]
  },
  {
   "cell_type": "code",
   "execution_count": 50,
   "metadata": {},
   "outputs": [
    {
     "data": {
      "text/html": [
       "<table class=\"data-frame\"><thead><tr><th></th><th>x1</th><th>x2</th><th>x3</th><th>x4</th><th>x5</th><th>x6</th><th>x7</th><th>x8</th><th>x9</th></tr><tr><th></th><th>Float64</th><th>Float64</th><th>Float64</th><th>Float64</th><th>Float64</th><th>Float64</th><th>Float64</th><th>Float64</th><th>Float64</th></tr></thead><tbody><p>20 rows × 10,310 columns (omitted printing of 10301 columns)</p><tr><th>1</th><td>0.0</td><td>0.0</td><td>0.0</td><td>0.0</td><td>0.0</td><td>0.0</td><td>0.0</td><td>1.0</td><td>0.0</td></tr><tr><th>2</th><td>0.0</td><td>0.0</td><td>0.0</td><td>0.0</td><td>0.0</td><td>0.0</td><td>0.0</td><td>0.0</td><td>0.0</td></tr><tr><th>3</th><td>0.0</td><td>0.0</td><td>0.0</td><td>0.0</td><td>0.0</td><td>0.0</td><td>0.0</td><td>0.0</td><td>0.0</td></tr><tr><th>4</th><td>0.0</td><td>0.0</td><td>0.0</td><td>0.0</td><td>1.0</td><td>0.0</td><td>0.0</td><td>0.0</td><td>0.0</td></tr><tr><th>5</th><td>0.0</td><td>0.0</td><td>0.0</td><td>0.0</td><td>0.0</td><td>0.0</td><td>0.0</td><td>0.0</td><td>0.0</td></tr><tr><th>6</th><td>0.0</td><td>0.0</td><td>0.0</td><td>0.0</td><td>0.0</td><td>1.0</td><td>0.0</td><td>0.0</td><td>0.0</td></tr><tr><th>7</th><td>0.0</td><td>0.0</td><td>0.0</td><td>0.0</td><td>0.0</td><td>0.0</td><td>0.0</td><td>0.0</td><td>0.0</td></tr><tr><th>8</th><td>1.0</td><td>0.0</td><td>0.0</td><td>1.0</td><td>0.0</td><td>0.0</td><td>1.0</td><td>0.0</td><td>0.0</td></tr><tr><th>9</th><td>0.0</td><td>0.0</td><td>0.0</td><td>0.0</td><td>0.0</td><td>0.0</td><td>0.0</td><td>0.0</td><td>0.0</td></tr><tr><th>10</th><td>0.0</td><td>0.0</td><td>0.0</td><td>0.0</td><td>0.0</td><td>0.0</td><td>0.0</td><td>0.0</td><td>0.0</td></tr><tr><th>11</th><td>0.0</td><td>0.0</td><td>0.0</td><td>0.0</td><td>0.0</td><td>0.0</td><td>0.0</td><td>0.0</td><td>0.0</td></tr><tr><th>12</th><td>0.0</td><td>1.0</td><td>0.0</td><td>0.0</td><td>0.0</td><td>0.0</td><td>0.0</td><td>0.0</td><td>1.0</td></tr><tr><th>13</th><td>0.0</td><td>0.0</td><td>0.0</td><td>0.0</td><td>0.0</td><td>0.0</td><td>0.0</td><td>0.0</td><td>0.0</td></tr><tr><th>14</th><td>0.0</td><td>0.0</td><td>0.0</td><td>0.0</td><td>0.0</td><td>0.0</td><td>0.0</td><td>0.0</td><td>0.0</td></tr><tr><th>15</th><td>0.0</td><td>0.0</td><td>1.0</td><td>0.0</td><td>0.0</td><td>0.0</td><td>0.0</td><td>0.0</td><td>0.0</td></tr><tr><th>16</th><td>0.0</td><td>0.0</td><td>0.0</td><td>0.0</td><td>0.0</td><td>0.0</td><td>0.0</td><td>0.0</td><td>0.0</td></tr><tr><th>17</th><td>0.0</td><td>0.0</td><td>0.0</td><td>0.0</td><td>0.0</td><td>0.0</td><td>0.0</td><td>0.0</td><td>0.0</td></tr><tr><th>18</th><td>0.0</td><td>0.0</td><td>0.0</td><td>0.0</td><td>0.0</td><td>0.0</td><td>0.0</td><td>0.0</td><td>0.0</td></tr><tr><th>19</th><td>0.0</td><td>0.0</td><td>0.0</td><td>0.0</td><td>0.0</td><td>0.0</td><td>0.0</td><td>0.0</td><td>0.0</td></tr><tr><th>20</th><td>0.0</td><td>0.0</td><td>0.0</td><td>0.0</td><td>0.0</td><td>0.0</td><td>0.0</td><td>0.0</td><td>0.0</td></tr></tbody></table>"
      ],
      "text/latex": [
       "\\begin{tabular}{r|cccccccccc}\n",
       "\t& x1 & x2 & x3 & x4 & x5 & x6 & x7 & x8 & x9 & \\\\\n",
       "\t\\hline\n",
       "\t& Float64 & Float64 & Float64 & Float64 & Float64 & Float64 & Float64 & Float64 & Float64 & \\\\\n",
       "\t\\hline\n",
       "\t1 & 0.0 & 0.0 & 0.0 & 0.0 & 0.0 & 0.0 & 0.0 & 1.0 & 0.0 & $\\dots$ \\\\\n",
       "\t2 & 0.0 & 0.0 & 0.0 & 0.0 & 0.0 & 0.0 & 0.0 & 0.0 & 0.0 & $\\dots$ \\\\\n",
       "\t3 & 0.0 & 0.0 & 0.0 & 0.0 & 0.0 & 0.0 & 0.0 & 0.0 & 0.0 & $\\dots$ \\\\\n",
       "\t4 & 0.0 & 0.0 & 0.0 & 0.0 & 1.0 & 0.0 & 0.0 & 0.0 & 0.0 & $\\dots$ \\\\\n",
       "\t5 & 0.0 & 0.0 & 0.0 & 0.0 & 0.0 & 0.0 & 0.0 & 0.0 & 0.0 & $\\dots$ \\\\\n",
       "\t6 & 0.0 & 0.0 & 0.0 & 0.0 & 0.0 & 1.0 & 0.0 & 0.0 & 0.0 & $\\dots$ \\\\\n",
       "\t7 & 0.0 & 0.0 & 0.0 & 0.0 & 0.0 & 0.0 & 0.0 & 0.0 & 0.0 & $\\dots$ \\\\\n",
       "\t8 & 1.0 & 0.0 & 0.0 & 1.0 & 0.0 & 0.0 & 1.0 & 0.0 & 0.0 & $\\dots$ \\\\\n",
       "\t9 & 0.0 & 0.0 & 0.0 & 0.0 & 0.0 & 0.0 & 0.0 & 0.0 & 0.0 & $\\dots$ \\\\\n",
       "\t10 & 0.0 & 0.0 & 0.0 & 0.0 & 0.0 & 0.0 & 0.0 & 0.0 & 0.0 & $\\dots$ \\\\\n",
       "\t11 & 0.0 & 0.0 & 0.0 & 0.0 & 0.0 & 0.0 & 0.0 & 0.0 & 0.0 & $\\dots$ \\\\\n",
       "\t12 & 0.0 & 1.0 & 0.0 & 0.0 & 0.0 & 0.0 & 0.0 & 0.0 & 1.0 & $\\dots$ \\\\\n",
       "\t13 & 0.0 & 0.0 & 0.0 & 0.0 & 0.0 & 0.0 & 0.0 & 0.0 & 0.0 & $\\dots$ \\\\\n",
       "\t14 & 0.0 & 0.0 & 0.0 & 0.0 & 0.0 & 0.0 & 0.0 & 0.0 & 0.0 & $\\dots$ \\\\\n",
       "\t15 & 0.0 & 0.0 & 1.0 & 0.0 & 0.0 & 0.0 & 0.0 & 0.0 & 0.0 & $\\dots$ \\\\\n",
       "\t16 & 0.0 & 0.0 & 0.0 & 0.0 & 0.0 & 0.0 & 0.0 & 0.0 & 0.0 & $\\dots$ \\\\\n",
       "\t17 & 0.0 & 0.0 & 0.0 & 0.0 & 0.0 & 0.0 & 0.0 & 0.0 & 0.0 & $\\dots$ \\\\\n",
       "\t18 & 0.0 & 0.0 & 0.0 & 0.0 & 0.0 & 0.0 & 0.0 & 0.0 & 0.0 & $\\dots$ \\\\\n",
       "\t19 & 0.0 & 0.0 & 0.0 & 0.0 & 0.0 & 0.0 & 0.0 & 0.0 & 0.0 & $\\dots$ \\\\\n",
       "\t20 & 0.0 & 0.0 & 0.0 & 0.0 & 0.0 & 0.0 & 0.0 & 0.0 & 0.0 & $\\dots$ \\\\\n",
       "\\end{tabular}\n"
      ],
      "text/plain": [
       "20×10310 DataFrame. Omitted printing of 10303 columns\n",
       "│ Row │ x1      │ x2      │ x3      │ x4      │ x5      │ x6      │ x7      │\n",
       "│     │ \u001b[90mFloat64\u001b[39m │ \u001b[90mFloat64\u001b[39m │ \u001b[90mFloat64\u001b[39m │ \u001b[90mFloat64\u001b[39m │ \u001b[90mFloat64\u001b[39m │ \u001b[90mFloat64\u001b[39m │ \u001b[90mFloat64\u001b[39m │\n",
       "├─────┼─────────┼─────────┼─────────┼─────────┼─────────┼─────────┼─────────┤\n",
       "│ 1   │ 0.0     │ 0.0     │ 0.0     │ 0.0     │ 0.0     │ 0.0     │ 0.0     │\n",
       "│ 2   │ 0.0     │ 0.0     │ 0.0     │ 0.0     │ 0.0     │ 0.0     │ 0.0     │\n",
       "│ 3   │ 0.0     │ 0.0     │ 0.0     │ 0.0     │ 0.0     │ 0.0     │ 0.0     │\n",
       "│ 4   │ 0.0     │ 0.0     │ 0.0     │ 0.0     │ 1.0     │ 0.0     │ 0.0     │\n",
       "│ 5   │ 0.0     │ 0.0     │ 0.0     │ 0.0     │ 0.0     │ 0.0     │ 0.0     │\n",
       "│ 6   │ 0.0     │ 0.0     │ 0.0     │ 0.0     │ 0.0     │ 1.0     │ 0.0     │\n",
       "│ 7   │ 0.0     │ 0.0     │ 0.0     │ 0.0     │ 0.0     │ 0.0     │ 0.0     │\n",
       "│ 8   │ 1.0     │ 0.0     │ 0.0     │ 1.0     │ 0.0     │ 0.0     │ 1.0     │\n",
       "│ 9   │ 0.0     │ 0.0     │ 0.0     │ 0.0     │ 0.0     │ 0.0     │ 0.0     │\n",
       "│ 10  │ 0.0     │ 0.0     │ 0.0     │ 0.0     │ 0.0     │ 0.0     │ 0.0     │\n",
       "│ 11  │ 0.0     │ 0.0     │ 0.0     │ 0.0     │ 0.0     │ 0.0     │ 0.0     │\n",
       "│ 12  │ 0.0     │ 1.0     │ 0.0     │ 0.0     │ 0.0     │ 0.0     │ 0.0     │\n",
       "│ 13  │ 0.0     │ 0.0     │ 0.0     │ 0.0     │ 0.0     │ 0.0     │ 0.0     │\n",
       "│ 14  │ 0.0     │ 0.0     │ 0.0     │ 0.0     │ 0.0     │ 0.0     │ 0.0     │\n",
       "│ 15  │ 0.0     │ 0.0     │ 1.0     │ 0.0     │ 0.0     │ 0.0     │ 0.0     │\n",
       "│ 16  │ 0.0     │ 0.0     │ 0.0     │ 0.0     │ 0.0     │ 0.0     │ 0.0     │\n",
       "│ 17  │ 0.0     │ 0.0     │ 0.0     │ 0.0     │ 0.0     │ 0.0     │ 0.0     │\n",
       "│ 18  │ 0.0     │ 0.0     │ 0.0     │ 0.0     │ 0.0     │ 0.0     │ 0.0     │\n",
       "│ 19  │ 0.0     │ 0.0     │ 0.0     │ 0.0     │ 0.0     │ 0.0     │ 0.0     │\n",
       "│ 20  │ 0.0     │ 0.0     │ 0.0     │ 0.0     │ 0.0     │ 0.0     │ 0.0     │"
      ]
     },
     "execution_count": 50,
     "metadata": {},
     "output_type": "execute_result"
    }
   ],
   "source": [
    "array = CSV.read(\"/Users/kathy908000/github/health-care-research/data/GLRMk20.2.csv\")\n"
   ]
  },
  {
   "cell_type": "raw",
   "metadata": {
    "scrolled": false
   },
   "source": [
    "#k-means, k=10\n",
    "k = 10\n",
    "A= df3\n",
    "losses = QuadLoss() # minimize squared distance to cluster centroids\n",
    "rx = UnitOneSparseConstraint() # each row is assigned to exactly one cluster\n",
    "ry = ZeroReg() # no regularization on the cluster centroids\n",
    "glrm3 = GLRM(A,losses,rx,ry,k)\n",
    "X3,Y3,ch3 = fit!(glrm3)"
   ]
  },
  {
   "cell_type": "code",
   "execution_count": null,
   "metadata": {},
   "outputs": [],
   "source": [
    "X3"
   ]
  },
  {
   "cell_type": "code",
   "execution_count": null,
   "metadata": {},
   "outputs": [],
   "source": [
    "println(\"Computing cross validation error for each fold\")\n",
    "params = Params(1.0, max_iter=100, abs_tol=0.0, min_stepsize=.001)\n",
    "train_error, test_error, train_glrms, test_glrms = cross_validate(glrm3, nfolds=4, params=params)\n",
    "df = DataFrame(train_error = train_error, test_error = test_error)"
   ]
  },
  {
   "cell_type": "code",
   "execution_count": null,
   "metadata": {},
   "outputs": [],
   "source": [
    "GLRMk10 = convert(DataFrame, X3) "
   ]
  },
  {
   "cell_type": "code",
   "execution_count": null,
   "metadata": {},
   "outputs": [],
   "source": [
    "CSV.write(\"/Users/kathy908000/github/health-care-research/data/GLRMk10.2.csv\",  GLRMk10)"
   ]
  },
  {
   "cell_type": "markdown",
   "metadata": {},
   "source": [
    "# K-means k=20 With Different Loss Functions"
   ]
  },
  {
   "cell_type": "code",
   "execution_count": 59,
   "metadata": {},
   "outputs": [
    {
     "data": {
      "text/plain": [
       "ZeroReg()"
      ]
     },
     "execution_count": 59,
     "metadata": {},
     "output_type": "execute_result"
    }
   ],
   "source": [
    "#df3 10310x920 \n",
    "#Huber loss: numerical variable \n",
    "#Hinge loss: binary variable     \n",
    "#Ordinal hinge loss: Ordinal variable, ORDINAL_AGE\n",
    "loss1 = fill(HuberLoss(),2)\n",
    "loss2 = fill(HingeLoss(), 917)\n",
    "loss3 = fill(OrdinalHingeLoss(), 1)\n",
    "losses = [loss1; loss3; loss2]\n",
    "\n",
    "losses\n",
    "\n",
    "ry = ZeroReg()\n",
    "#rw1 =  fill(QuadReg(),2)\n",
    "#rw2 =  fill(OneReg(),920)\n",
    "#ry = [rw1; rw2]\n"
   ]
  },
  {
   "cell_type": "code",
   "execution_count": null,
   "metadata": {},
   "outputs": [],
   "source": [
    "#n=5\n",
    "#loss = Loss[QuadLoss(), QuadLoss(),  HingeLoss(),  HingeLoss(),  HingeLoss(),  HingeLoss()]\n",
    "#rw = Regularizer[QuadReg(), QuadReg(), OneReg(), OneReg(), OneReg(), OneReg()]\n",
    "#losses = fill(QuadLoss(),2)\n",
    "#losses = fill(HingeLoss(),n)\n"
   ]
  },
  {
   "cell_type": "code",
   "execution_count": 60,
   "metadata": {},
   "outputs": [
    {
     "data": {
      "text/plain": [
       "920-element Array{Loss,1}:\n",
       " HuberLoss(1.0, RealDomain(), 1.0)\n",
       " HuberLoss(1.0, RealDomain(), 1.0)\n",
       " OrdinalHingeLoss(1, 10, 1.0, OrdinalDomain(1, 10))\n",
       " WeightedHingeLoss(1.0, BoolDomain(), 1.0)\n",
       " WeightedHingeLoss(1.0, BoolDomain(), 1.0)\n",
       " WeightedHingeLoss(1.0, BoolDomain(), 1.0)\n",
       " WeightedHingeLoss(1.0, BoolDomain(), 1.0)\n",
       " WeightedHingeLoss(1.0, BoolDomain(), 1.0)\n",
       " WeightedHingeLoss(1.0, BoolDomain(), 1.0)\n",
       " WeightedHingeLoss(1.0, BoolDomain(), 1.0)\n",
       " WeightedHingeLoss(1.0, BoolDomain(), 1.0)\n",
       " WeightedHingeLoss(1.0, BoolDomain(), 1.0)\n",
       " WeightedHingeLoss(1.0, BoolDomain(), 1.0)\n",
       " ⋮\n",
       " WeightedHingeLoss(1.0, BoolDomain(), 1.0)\n",
       " WeightedHingeLoss(1.0, BoolDomain(), 1.0)\n",
       " WeightedHingeLoss(1.0, BoolDomain(), 1.0)\n",
       " WeightedHingeLoss(1.0, BoolDomain(), 1.0)\n",
       " WeightedHingeLoss(1.0, BoolDomain(), 1.0)\n",
       " WeightedHingeLoss(1.0, BoolDomain(), 1.0)\n",
       " WeightedHingeLoss(1.0, BoolDomain(), 1.0)\n",
       " WeightedHingeLoss(1.0, BoolDomain(), 1.0)\n",
       " WeightedHingeLoss(1.0, BoolDomain(), 1.0)\n",
       " WeightedHingeLoss(1.0, BoolDomain(), 1.0)\n",
       " WeightedHingeLoss(1.0, BoolDomain(), 1.0)\n",
       " WeightedHingeLoss(1.0, BoolDomain(), 1.0)"
      ]
     },
     "execution_count": 60,
     "metadata": {},
     "output_type": "execute_result"
    }
   ],
   "source": [
    "losses"
   ]
  },
  {
   "cell_type": "code",
   "execution_count": 61,
   "metadata": {},
   "outputs": [
    {
     "name": "stdout",
     "output_type": "stream",
     "text": [
      "Fitting GLRM\n",
      "Iteration 10: objective value = 6.124087228480848e6\n",
      "Iteration 20: objective value = 1.9384599089237396e6\n",
      "Iteration 30: objective value = 521180.0519772133\n",
      "Iteration 40: objective value = 462134.0279451428\n",
      "Iteration 50: objective value = 455694.4327450799\n",
      "Iteration 60: objective value = 453600.50309795915\n"
     ]
    },
    {
     "data": {
      "text/plain": [
       "([0.0 0.0 … 0.0 0.0; 0.0 0.0 … 0.0 0.0; … ; 0.0 0.0 … 0.0 1.0; 0.0 0.0 … 0.0 0.0], [2.9962057388305614 1.3045980460541418 … -1.7903182209509034 -1.0829668958378242; 2.8643656833313003 1.2368966828371777 … -1.0126564927399917 -1.0905406965953344; … ; 3.000813427280626 1.291952509608208 … -1.0282192687757972 -1.0200796309017321; 2.880419469766996 1.2989113621716921 … -1.0902477510240558 -1.0648226269870833], ConvergenceHistory(\"ProxGradGLRM\", [Inf, 1.01587580598746e7, 9.749472872574998e6, 9.327302887823394e6, 8.893511260004036e6, 8.448193279496599e6, 7.995253795587348e6, 7.534145213764344e6, 7.067128095667249e6, 6.596405323669322e6  …  454558.4157583009, 454308.67644613236, 454109.90261110757, 453979.35004994256, 453853.9858829966, 453708.100567977, 453600.50309795915, 453499.5178121819, 453398.2830680472, 453312.8831432157], Float64[], [0.0, 0.0, 0.0, 0.0, 0.0, 0.0, 0.0, 0.0, 0.0, 0.0  …  0.0, 0.0, 0.0, 0.0, 0.0, 0.0, 0.0, 0.0, 0.0, 0.0], [0.0, 0.0, 0.0, 0.0, 0.0, 0.0, 0.0, 0.0, 0.0, 0.0  …  0.0, 0.0, 0.0, 0.0, 0.0, 0.0, 0.0, 0.0, 0.0, 0.0], [0.0, 19.74461793899536, 88.64175176620483, 106.22703170776367, 123.40583968162537, 139.83987975120544, 162.35281372070312, 181.88438868522644, 200.08010458946228, 216.27502965927124  …  1041.2296471595764, 1061.5748801231384, 1080.9854102134705, 1098.5579912662506, 1116.6470353603363, 1134.5949053764343, 1150.5408504009247, 1166.3185982704163, 1187.0616602897644, 1202.9828181266785], [0.0, 0.0, 0.0, 0.0, 0.0, 0.0, 0.0, 0.0, 0.0, 0.0  …  0.0, 0.0, 0.0, 0.0, 0.0, 0.0, 0.0, 0.0, 0.0, 0.0], 0))"
      ]
     },
     "execution_count": 61,
     "metadata": {},
     "output_type": "execute_result"
    }
   ],
   "source": [
    "k = 20\n",
    "A= df3\n",
    "rx = UnitOneSparseConstraint()\n",
    "glrm6 = GLRM(A,losses,rx,ry,k)\n",
    "X6,Y6,ch6 = fit!(glrm6)"
   ]
  },
  {
   "cell_type": "code",
   "execution_count": 62,
   "metadata": {},
   "outputs": [
    {
     "data": {
      "text/plain": [
       "20×10310 Array{Float64,2}:\n",
       " 0.0  0.0  0.0  0.0  0.0  0.0  0.0  0.0  …  0.0  0.0  0.0  0.0  0.0  0.0  0.0\n",
       " 0.0  0.0  0.0  0.0  0.0  0.0  0.0  0.0     1.0  0.0  0.0  0.0  0.0  0.0  0.0\n",
       " 0.0  0.0  0.0  0.0  0.0  0.0  0.0  0.0     0.0  0.0  0.0  0.0  0.0  0.0  0.0\n",
       " 0.0  0.0  0.0  0.0  0.0  0.0  0.0  0.0     0.0  0.0  0.0  0.0  0.0  0.0  0.0\n",
       " 0.0  0.0  0.0  0.0  0.0  0.0  0.0  0.0     0.0  0.0  0.0  1.0  1.0  0.0  0.0\n",
       " 0.0  0.0  0.0  0.0  0.0  0.0  0.0  0.0  …  0.0  0.0  0.0  0.0  0.0  0.0  0.0\n",
       " 0.0  0.0  0.0  0.0  0.0  0.0  0.0  0.0     0.0  0.0  0.0  0.0  0.0  0.0  0.0\n",
       " 0.0  0.0  0.0  0.0  0.0  0.0  0.0  0.0     0.0  0.0  0.0  0.0  0.0  0.0  0.0\n",
       " 0.0  0.0  0.0  0.0  0.0  0.0  0.0  0.0     0.0  0.0  0.0  0.0  0.0  0.0  0.0\n",
       " 0.0  0.0  0.0  0.0  0.0  0.0  0.0  0.0     0.0  0.0  0.0  0.0  0.0  0.0  0.0\n",
       " 0.0  0.0  0.0  0.0  0.0  0.0  0.0  0.0  …  0.0  0.0  0.0  0.0  0.0  0.0  0.0\n",
       " 0.0  0.0  0.0  0.0  0.0  0.0  0.0  0.0     0.0  1.0  1.0  0.0  0.0  1.0  0.0\n",
       " 1.0  0.0  0.0  1.0  0.0  0.0  0.0  0.0     0.0  0.0  0.0  0.0  0.0  0.0  0.0\n",
       " 0.0  0.0  1.0  0.0  0.0  0.0  0.0  0.0     0.0  0.0  0.0  0.0  0.0  0.0  0.0\n",
       " 0.0  0.0  0.0  0.0  0.0  0.0  0.0  0.0     0.0  0.0  0.0  0.0  0.0  0.0  0.0\n",
       " 0.0  0.0  0.0  0.0  0.0  0.0  0.0  0.0  …  0.0  0.0  0.0  0.0  0.0  0.0  0.0\n",
       " 0.0  0.0  0.0  0.0  0.0  0.0  0.0  0.0     0.0  0.0  0.0  0.0  0.0  0.0  0.0\n",
       " 0.0  1.0  0.0  0.0  1.0  0.0  0.0  0.0     0.0  0.0  0.0  0.0  0.0  0.0  0.0\n",
       " 0.0  0.0  0.0  0.0  0.0  1.0  1.0  0.0     0.0  0.0  0.0  0.0  0.0  0.0  1.0\n",
       " 0.0  0.0  0.0  0.0  0.0  0.0  0.0  1.0     0.0  0.0  0.0  0.0  0.0  0.0  0.0"
      ]
     },
     "execution_count": 62,
     "metadata": {},
     "output_type": "execute_result"
    }
   ],
   "source": [
    "X6"
   ]
  },
  {
   "cell_type": "code",
   "execution_count": 63,
   "metadata": {},
   "outputs": [
    {
     "name": "stdout",
     "output_type": "stream",
     "text": [
      "Computing cross validation error for each fold\n",
      "flattening observations\n",
      "computing CV folds\n",
      "\n",
      "forming train and test GLRM for fold 1\n",
      "training model on 7114739 samples and testing on 2370461\n",
      "fitting train GLRM for fold 1\n",
      "Fitting GLRM\n",
      "Iteration 10: objective value = 339210.2456970123\n",
      "computing train and test error for fold 1:\n",
      "\ttrain error: 0.047673953168266815\n",
      "\ttest error:  0.04789290425099983\n",
      "\n",
      "forming train and test GLRM for fold 2\n",
      "training model on 7113208 samples and testing on 2371992\n",
      "fitting train GLRM for fold 2\n",
      "Fitting GLRM\n",
      "Iteration 10: objective value = 340114.7802697181\n",
      "computing train and test error for fold 2:\n",
      "\ttrain error: 0.04781067904765328\n",
      "\ttest error:  0.04748098573738663\n",
      "\n",
      "forming train and test GLRM for fold 3\n",
      "training model on 7116050 samples and testing on 2369150\n",
      "fitting train GLRM for fold 3\n",
      "Fitting GLRM\n",
      "Iteration 10: objective value = 340084.53477826755\n",
      "computing train and test error for fold 3:\n",
      "\ttrain error: 0.047787820622503724\n",
      "\ttest error:  0.04755477093346126\n",
      "\n",
      "forming train and test GLRM for fold 4\n",
      "training model on 7111603 samples and testing on 2373597\n",
      "fitting train GLRM for fold 4\n",
      "Fitting GLRM\n",
      "Iteration 10: objective value = 338780.7175790292\n",
      "computing train and test error for fold 4:\n",
      "\ttrain error: 0.04763419800675648\n",
      "\ttest error:  0.04801540609286229\n"
     ]
    },
    {
     "data": {
      "text/html": [
       "<table class=\"data-frame\"><thead><tr><th></th><th>train_error</th><th>test_error</th></tr><tr><th></th><th>Float64</th><th>Float64</th></tr></thead><tbody><p>4 rows × 2 columns</p><tr><th>1</th><td>0.047674</td><td>0.0478929</td></tr><tr><th>2</th><td>0.0478107</td><td>0.047481</td></tr><tr><th>3</th><td>0.0477878</td><td>0.0475548</td></tr><tr><th>4</th><td>0.0476342</td><td>0.0480154</td></tr></tbody></table>"
      ],
      "text/latex": [
       "\\begin{tabular}{r|cc}\n",
       "\t& train\\_error & test\\_error\\\\\n",
       "\t\\hline\n",
       "\t& Float64 & Float64\\\\\n",
       "\t\\hline\n",
       "\t1 & 0.047674 & 0.0478929 \\\\\n",
       "\t2 & 0.0478107 & 0.047481 \\\\\n",
       "\t3 & 0.0477878 & 0.0475548 \\\\\n",
       "\t4 & 0.0476342 & 0.0480154 \\\\\n",
       "\\end{tabular}\n"
      ],
      "text/plain": [
       "4×2 DataFrame\n",
       "│ Row │ train_error │ test_error │\n",
       "│     │ \u001b[90mFloat64\u001b[39m     │ \u001b[90mFloat64\u001b[39m    │\n",
       "├─────┼─────────────┼────────────┤\n",
       "│ 1   │ 0.047674    │ 0.0478929  │\n",
       "│ 2   │ 0.0478107   │ 0.047481   │\n",
       "│ 3   │ 0.0477878   │ 0.0475548  │\n",
       "│ 4   │ 0.0476342   │ 0.0480154  │"
      ]
     },
     "execution_count": 63,
     "metadata": {},
     "output_type": "execute_result"
    }
   ],
   "source": [
    "println(\"Computing cross validation error for each fold\")\n",
    "params = Params(1.0, max_iter=100, abs_tol=0.0, min_stepsize=.001)\n",
    "train_error, test_error, train_glrms, test_glrms = cross_validate(glrm6, nfolds=4, params=params)\n",
    "df = DataFrame(train_error = train_error, test_error = test_error)"
   ]
  },
  {
   "cell_type": "code",
   "execution_count": 64,
   "metadata": {},
   "outputs": [
    {
     "data": {
      "text/html": [
       "<table class=\"data-frame\"><thead><tr><th></th><th>x1</th><th>x2</th><th>x3</th><th>x4</th><th>x5</th><th>x6</th><th>x7</th><th>x8</th><th>x9</th></tr><tr><th></th><th>Float64</th><th>Float64</th><th>Float64</th><th>Float64</th><th>Float64</th><th>Float64</th><th>Float64</th><th>Float64</th><th>Float64</th></tr></thead><tbody><p>20 rows × 10,310 columns (omitted printing of 10301 columns)</p><tr><th>1</th><td>0.0</td><td>0.0</td><td>0.0</td><td>0.0</td><td>0.0</td><td>0.0</td><td>0.0</td><td>0.0</td><td>0.0</td></tr><tr><th>2</th><td>0.0</td><td>0.0</td><td>0.0</td><td>0.0</td><td>0.0</td><td>0.0</td><td>0.0</td><td>0.0</td><td>0.0</td></tr><tr><th>3</th><td>0.0</td><td>0.0</td><td>0.0</td><td>0.0</td><td>0.0</td><td>0.0</td><td>0.0</td><td>0.0</td><td>0.0</td></tr><tr><th>4</th><td>0.0</td><td>0.0</td><td>0.0</td><td>0.0</td><td>0.0</td><td>0.0</td><td>0.0</td><td>0.0</td><td>0.0</td></tr><tr><th>5</th><td>0.0</td><td>0.0</td><td>0.0</td><td>0.0</td><td>0.0</td><td>0.0</td><td>0.0</td><td>0.0</td><td>0.0</td></tr><tr><th>6</th><td>0.0</td><td>0.0</td><td>0.0</td><td>0.0</td><td>0.0</td><td>0.0</td><td>0.0</td><td>0.0</td><td>0.0</td></tr><tr><th>7</th><td>0.0</td><td>0.0</td><td>0.0</td><td>0.0</td><td>0.0</td><td>0.0</td><td>0.0</td><td>0.0</td><td>0.0</td></tr><tr><th>8</th><td>0.0</td><td>0.0</td><td>0.0</td><td>0.0</td><td>0.0</td><td>0.0</td><td>0.0</td><td>0.0</td><td>0.0</td></tr><tr><th>9</th><td>0.0</td><td>0.0</td><td>0.0</td><td>0.0</td><td>0.0</td><td>0.0</td><td>0.0</td><td>0.0</td><td>0.0</td></tr><tr><th>10</th><td>0.0</td><td>0.0</td><td>0.0</td><td>0.0</td><td>0.0</td><td>0.0</td><td>0.0</td><td>0.0</td><td>0.0</td></tr><tr><th>11</th><td>0.0</td><td>0.0</td><td>0.0</td><td>0.0</td><td>0.0</td><td>0.0</td><td>0.0</td><td>0.0</td><td>0.0</td></tr><tr><th>12</th><td>0.0</td><td>0.0</td><td>0.0</td><td>0.0</td><td>0.0</td><td>0.0</td><td>0.0</td><td>0.0</td><td>0.0</td></tr><tr><th>13</th><td>1.0</td><td>0.0</td><td>0.0</td><td>1.0</td><td>0.0</td><td>0.0</td><td>0.0</td><td>0.0</td><td>0.0</td></tr><tr><th>14</th><td>0.0</td><td>0.0</td><td>1.0</td><td>0.0</td><td>0.0</td><td>0.0</td><td>0.0</td><td>0.0</td><td>0.0</td></tr><tr><th>15</th><td>0.0</td><td>0.0</td><td>0.0</td><td>0.0</td><td>0.0</td><td>0.0</td><td>0.0</td><td>0.0</td><td>0.0</td></tr><tr><th>16</th><td>0.0</td><td>0.0</td><td>0.0</td><td>0.0</td><td>0.0</td><td>0.0</td><td>0.0</td><td>0.0</td><td>1.0</td></tr><tr><th>17</th><td>0.0</td><td>0.0</td><td>0.0</td><td>0.0</td><td>0.0</td><td>0.0</td><td>0.0</td><td>0.0</td><td>0.0</td></tr><tr><th>18</th><td>0.0</td><td>1.0</td><td>0.0</td><td>0.0</td><td>1.0</td><td>0.0</td><td>0.0</td><td>0.0</td><td>0.0</td></tr><tr><th>19</th><td>0.0</td><td>0.0</td><td>0.0</td><td>0.0</td><td>0.0</td><td>1.0</td><td>1.0</td><td>0.0</td><td>0.0</td></tr><tr><th>20</th><td>0.0</td><td>0.0</td><td>0.0</td><td>0.0</td><td>0.0</td><td>0.0</td><td>0.0</td><td>1.0</td><td>0.0</td></tr></tbody></table>"
      ],
      "text/latex": [
       "\\begin{tabular}{r|cccccccccc}\n",
       "\t& x1 & x2 & x3 & x4 & x5 & x6 & x7 & x8 & x9 & \\\\\n",
       "\t\\hline\n",
       "\t& Float64 & Float64 & Float64 & Float64 & Float64 & Float64 & Float64 & Float64 & Float64 & \\\\\n",
       "\t\\hline\n",
       "\t1 & 0.0 & 0.0 & 0.0 & 0.0 & 0.0 & 0.0 & 0.0 & 0.0 & 0.0 & $\\dots$ \\\\\n",
       "\t2 & 0.0 & 0.0 & 0.0 & 0.0 & 0.0 & 0.0 & 0.0 & 0.0 & 0.0 & $\\dots$ \\\\\n",
       "\t3 & 0.0 & 0.0 & 0.0 & 0.0 & 0.0 & 0.0 & 0.0 & 0.0 & 0.0 & $\\dots$ \\\\\n",
       "\t4 & 0.0 & 0.0 & 0.0 & 0.0 & 0.0 & 0.0 & 0.0 & 0.0 & 0.0 & $\\dots$ \\\\\n",
       "\t5 & 0.0 & 0.0 & 0.0 & 0.0 & 0.0 & 0.0 & 0.0 & 0.0 & 0.0 & $\\dots$ \\\\\n",
       "\t6 & 0.0 & 0.0 & 0.0 & 0.0 & 0.0 & 0.0 & 0.0 & 0.0 & 0.0 & $\\dots$ \\\\\n",
       "\t7 & 0.0 & 0.0 & 0.0 & 0.0 & 0.0 & 0.0 & 0.0 & 0.0 & 0.0 & $\\dots$ \\\\\n",
       "\t8 & 0.0 & 0.0 & 0.0 & 0.0 & 0.0 & 0.0 & 0.0 & 0.0 & 0.0 & $\\dots$ \\\\\n",
       "\t9 & 0.0 & 0.0 & 0.0 & 0.0 & 0.0 & 0.0 & 0.0 & 0.0 & 0.0 & $\\dots$ \\\\\n",
       "\t10 & 0.0 & 0.0 & 0.0 & 0.0 & 0.0 & 0.0 & 0.0 & 0.0 & 0.0 & $\\dots$ \\\\\n",
       "\t11 & 0.0 & 0.0 & 0.0 & 0.0 & 0.0 & 0.0 & 0.0 & 0.0 & 0.0 & $\\dots$ \\\\\n",
       "\t12 & 0.0 & 0.0 & 0.0 & 0.0 & 0.0 & 0.0 & 0.0 & 0.0 & 0.0 & $\\dots$ \\\\\n",
       "\t13 & 1.0 & 0.0 & 0.0 & 1.0 & 0.0 & 0.0 & 0.0 & 0.0 & 0.0 & $\\dots$ \\\\\n",
       "\t14 & 0.0 & 0.0 & 1.0 & 0.0 & 0.0 & 0.0 & 0.0 & 0.0 & 0.0 & $\\dots$ \\\\\n",
       "\t15 & 0.0 & 0.0 & 0.0 & 0.0 & 0.0 & 0.0 & 0.0 & 0.0 & 0.0 & $\\dots$ \\\\\n",
       "\t16 & 0.0 & 0.0 & 0.0 & 0.0 & 0.0 & 0.0 & 0.0 & 0.0 & 1.0 & $\\dots$ \\\\\n",
       "\t17 & 0.0 & 0.0 & 0.0 & 0.0 & 0.0 & 0.0 & 0.0 & 0.0 & 0.0 & $\\dots$ \\\\\n",
       "\t18 & 0.0 & 1.0 & 0.0 & 0.0 & 1.0 & 0.0 & 0.0 & 0.0 & 0.0 & $\\dots$ \\\\\n",
       "\t19 & 0.0 & 0.0 & 0.0 & 0.0 & 0.0 & 1.0 & 1.0 & 0.0 & 0.0 & $\\dots$ \\\\\n",
       "\t20 & 0.0 & 0.0 & 0.0 & 0.0 & 0.0 & 0.0 & 0.0 & 1.0 & 0.0 & $\\dots$ \\\\\n",
       "\\end{tabular}\n"
      ],
      "text/plain": [
       "20×10310 DataFrame. Omitted printing of 10303 columns\n",
       "│ Row │ x1      │ x2      │ x3      │ x4      │ x5      │ x6      │ x7      │\n",
       "│     │ \u001b[90mFloat64\u001b[39m │ \u001b[90mFloat64\u001b[39m │ \u001b[90mFloat64\u001b[39m │ \u001b[90mFloat64\u001b[39m │ \u001b[90mFloat64\u001b[39m │ \u001b[90mFloat64\u001b[39m │ \u001b[90mFloat64\u001b[39m │\n",
       "├─────┼─────────┼─────────┼─────────┼─────────┼─────────┼─────────┼─────────┤\n",
       "│ 1   │ 0.0     │ 0.0     │ 0.0     │ 0.0     │ 0.0     │ 0.0     │ 0.0     │\n",
       "│ 2   │ 0.0     │ 0.0     │ 0.0     │ 0.0     │ 0.0     │ 0.0     │ 0.0     │\n",
       "│ 3   │ 0.0     │ 0.0     │ 0.0     │ 0.0     │ 0.0     │ 0.0     │ 0.0     │\n",
       "│ 4   │ 0.0     │ 0.0     │ 0.0     │ 0.0     │ 0.0     │ 0.0     │ 0.0     │\n",
       "│ 5   │ 0.0     │ 0.0     │ 0.0     │ 0.0     │ 0.0     │ 0.0     │ 0.0     │\n",
       "│ 6   │ 0.0     │ 0.0     │ 0.0     │ 0.0     │ 0.0     │ 0.0     │ 0.0     │\n",
       "│ 7   │ 0.0     │ 0.0     │ 0.0     │ 0.0     │ 0.0     │ 0.0     │ 0.0     │\n",
       "│ 8   │ 0.0     │ 0.0     │ 0.0     │ 0.0     │ 0.0     │ 0.0     │ 0.0     │\n",
       "│ 9   │ 0.0     │ 0.0     │ 0.0     │ 0.0     │ 0.0     │ 0.0     │ 0.0     │\n",
       "│ 10  │ 0.0     │ 0.0     │ 0.0     │ 0.0     │ 0.0     │ 0.0     │ 0.0     │\n",
       "│ 11  │ 0.0     │ 0.0     │ 0.0     │ 0.0     │ 0.0     │ 0.0     │ 0.0     │\n",
       "│ 12  │ 0.0     │ 0.0     │ 0.0     │ 0.0     │ 0.0     │ 0.0     │ 0.0     │\n",
       "│ 13  │ 1.0     │ 0.0     │ 0.0     │ 1.0     │ 0.0     │ 0.0     │ 0.0     │\n",
       "│ 14  │ 0.0     │ 0.0     │ 1.0     │ 0.0     │ 0.0     │ 0.0     │ 0.0     │\n",
       "│ 15  │ 0.0     │ 0.0     │ 0.0     │ 0.0     │ 0.0     │ 0.0     │ 0.0     │\n",
       "│ 16  │ 0.0     │ 0.0     │ 0.0     │ 0.0     │ 0.0     │ 0.0     │ 0.0     │\n",
       "│ 17  │ 0.0     │ 0.0     │ 0.0     │ 0.0     │ 0.0     │ 0.0     │ 0.0     │\n",
       "│ 18  │ 0.0     │ 1.0     │ 0.0     │ 0.0     │ 1.0     │ 0.0     │ 0.0     │\n",
       "│ 19  │ 0.0     │ 0.0     │ 0.0     │ 0.0     │ 0.0     │ 1.0     │ 1.0     │\n",
       "│ 20  │ 0.0     │ 0.0     │ 0.0     │ 0.0     │ 0.0     │ 0.0     │ 0.0     │"
      ]
     },
     "execution_count": 64,
     "metadata": {},
     "output_type": "execute_result"
    }
   ],
   "source": [
    "hingek20 = convert(DataFrame, X6) "
   ]
  },
  {
   "cell_type": "code",
   "execution_count": 65,
   "metadata": {},
   "outputs": [
    {
     "data": {
      "text/plain": [
       "\"/Users/kathy908000/github/health-care-research/data/hingek20.2.csv\""
      ]
     },
     "execution_count": 65,
     "metadata": {},
     "output_type": "execute_result"
    }
   ],
   "source": [
    "CSV.write(\"/Users/kathy908000/github/health-care-research/data/hingek20.2.csv\",  hingek20)\n",
    "\n"
   ]
  },
  {
   "cell_type": "code",
   "execution_count": 66,
   "metadata": {},
   "outputs": [
    {
     "data": {
      "text/html": [
       "<table class=\"data-frame\"><thead><tr><th></th><th>x1</th><th>x2</th><th>x3</th><th>x4</th><th>x5</th><th>x6</th><th>x7</th><th>x8</th><th>x9</th></tr><tr><th></th><th>Float64</th><th>Float64</th><th>Float64</th><th>Float64</th><th>Float64</th><th>Float64</th><th>Float64</th><th>Float64</th><th>Float64</th></tr></thead><tbody><p>20 rows × 10,310 columns (omitted printing of 10301 columns)</p><tr><th>1</th><td>0.0</td><td>0.0</td><td>0.0</td><td>0.0</td><td>0.0</td><td>0.0</td><td>0.0</td><td>0.0</td><td>0.0</td></tr><tr><th>2</th><td>0.0</td><td>0.0</td><td>0.0</td><td>0.0</td><td>0.0</td><td>0.0</td><td>0.0</td><td>0.0</td><td>0.0</td></tr><tr><th>3</th><td>0.0</td><td>0.0</td><td>0.0</td><td>0.0</td><td>0.0</td><td>0.0</td><td>0.0</td><td>0.0</td><td>0.0</td></tr><tr><th>4</th><td>0.0</td><td>0.0</td><td>0.0</td><td>0.0</td><td>0.0</td><td>0.0</td><td>0.0</td><td>0.0</td><td>0.0</td></tr><tr><th>5</th><td>0.0</td><td>0.0</td><td>0.0</td><td>0.0</td><td>0.0</td><td>0.0</td><td>0.0</td><td>0.0</td><td>0.0</td></tr><tr><th>6</th><td>0.0</td><td>0.0</td><td>0.0</td><td>0.0</td><td>0.0</td><td>0.0</td><td>0.0</td><td>0.0</td><td>0.0</td></tr><tr><th>7</th><td>0.0</td><td>0.0</td><td>0.0</td><td>0.0</td><td>0.0</td><td>0.0</td><td>0.0</td><td>0.0</td><td>0.0</td></tr><tr><th>8</th><td>0.0</td><td>0.0</td><td>0.0</td><td>0.0</td><td>0.0</td><td>0.0</td><td>0.0</td><td>0.0</td><td>0.0</td></tr><tr><th>9</th><td>0.0</td><td>0.0</td><td>0.0</td><td>0.0</td><td>0.0</td><td>0.0</td><td>0.0</td><td>0.0</td><td>0.0</td></tr><tr><th>10</th><td>0.0</td><td>0.0</td><td>0.0</td><td>0.0</td><td>0.0</td><td>0.0</td><td>0.0</td><td>0.0</td><td>0.0</td></tr><tr><th>11</th><td>0.0</td><td>0.0</td><td>0.0</td><td>0.0</td><td>0.0</td><td>0.0</td><td>0.0</td><td>0.0</td><td>0.0</td></tr><tr><th>12</th><td>0.0</td><td>0.0</td><td>0.0</td><td>0.0</td><td>0.0</td><td>0.0</td><td>0.0</td><td>0.0</td><td>0.0</td></tr><tr><th>13</th><td>1.0</td><td>0.0</td><td>0.0</td><td>1.0</td><td>0.0</td><td>0.0</td><td>0.0</td><td>0.0</td><td>0.0</td></tr><tr><th>14</th><td>0.0</td><td>0.0</td><td>1.0</td><td>0.0</td><td>0.0</td><td>0.0</td><td>0.0</td><td>0.0</td><td>0.0</td></tr><tr><th>15</th><td>0.0</td><td>0.0</td><td>0.0</td><td>0.0</td><td>0.0</td><td>0.0</td><td>0.0</td><td>0.0</td><td>0.0</td></tr><tr><th>16</th><td>0.0</td><td>0.0</td><td>0.0</td><td>0.0</td><td>0.0</td><td>0.0</td><td>0.0</td><td>0.0</td><td>1.0</td></tr><tr><th>17</th><td>0.0</td><td>0.0</td><td>0.0</td><td>0.0</td><td>0.0</td><td>0.0</td><td>0.0</td><td>0.0</td><td>0.0</td></tr><tr><th>18</th><td>0.0</td><td>1.0</td><td>0.0</td><td>0.0</td><td>1.0</td><td>0.0</td><td>0.0</td><td>0.0</td><td>0.0</td></tr><tr><th>19</th><td>0.0</td><td>0.0</td><td>0.0</td><td>0.0</td><td>0.0</td><td>1.0</td><td>1.0</td><td>0.0</td><td>0.0</td></tr><tr><th>20</th><td>0.0</td><td>0.0</td><td>0.0</td><td>0.0</td><td>0.0</td><td>0.0</td><td>0.0</td><td>1.0</td><td>0.0</td></tr></tbody></table>"
      ],
      "text/latex": [
       "\\begin{tabular}{r|cccccccccc}\n",
       "\t& x1 & x2 & x3 & x4 & x5 & x6 & x7 & x8 & x9 & \\\\\n",
       "\t\\hline\n",
       "\t& Float64 & Float64 & Float64 & Float64 & Float64 & Float64 & Float64 & Float64 & Float64 & \\\\\n",
       "\t\\hline\n",
       "\t1 & 0.0 & 0.0 & 0.0 & 0.0 & 0.0 & 0.0 & 0.0 & 0.0 & 0.0 & $\\dots$ \\\\\n",
       "\t2 & 0.0 & 0.0 & 0.0 & 0.0 & 0.0 & 0.0 & 0.0 & 0.0 & 0.0 & $\\dots$ \\\\\n",
       "\t3 & 0.0 & 0.0 & 0.0 & 0.0 & 0.0 & 0.0 & 0.0 & 0.0 & 0.0 & $\\dots$ \\\\\n",
       "\t4 & 0.0 & 0.0 & 0.0 & 0.0 & 0.0 & 0.0 & 0.0 & 0.0 & 0.0 & $\\dots$ \\\\\n",
       "\t5 & 0.0 & 0.0 & 0.0 & 0.0 & 0.0 & 0.0 & 0.0 & 0.0 & 0.0 & $\\dots$ \\\\\n",
       "\t6 & 0.0 & 0.0 & 0.0 & 0.0 & 0.0 & 0.0 & 0.0 & 0.0 & 0.0 & $\\dots$ \\\\\n",
       "\t7 & 0.0 & 0.0 & 0.0 & 0.0 & 0.0 & 0.0 & 0.0 & 0.0 & 0.0 & $\\dots$ \\\\\n",
       "\t8 & 0.0 & 0.0 & 0.0 & 0.0 & 0.0 & 0.0 & 0.0 & 0.0 & 0.0 & $\\dots$ \\\\\n",
       "\t9 & 0.0 & 0.0 & 0.0 & 0.0 & 0.0 & 0.0 & 0.0 & 0.0 & 0.0 & $\\dots$ \\\\\n",
       "\t10 & 0.0 & 0.0 & 0.0 & 0.0 & 0.0 & 0.0 & 0.0 & 0.0 & 0.0 & $\\dots$ \\\\\n",
       "\t11 & 0.0 & 0.0 & 0.0 & 0.0 & 0.0 & 0.0 & 0.0 & 0.0 & 0.0 & $\\dots$ \\\\\n",
       "\t12 & 0.0 & 0.0 & 0.0 & 0.0 & 0.0 & 0.0 & 0.0 & 0.0 & 0.0 & $\\dots$ \\\\\n",
       "\t13 & 1.0 & 0.0 & 0.0 & 1.0 & 0.0 & 0.0 & 0.0 & 0.0 & 0.0 & $\\dots$ \\\\\n",
       "\t14 & 0.0 & 0.0 & 1.0 & 0.0 & 0.0 & 0.0 & 0.0 & 0.0 & 0.0 & $\\dots$ \\\\\n",
       "\t15 & 0.0 & 0.0 & 0.0 & 0.0 & 0.0 & 0.0 & 0.0 & 0.0 & 0.0 & $\\dots$ \\\\\n",
       "\t16 & 0.0 & 0.0 & 0.0 & 0.0 & 0.0 & 0.0 & 0.0 & 0.0 & 1.0 & $\\dots$ \\\\\n",
       "\t17 & 0.0 & 0.0 & 0.0 & 0.0 & 0.0 & 0.0 & 0.0 & 0.0 & 0.0 & $\\dots$ \\\\\n",
       "\t18 & 0.0 & 1.0 & 0.0 & 0.0 & 1.0 & 0.0 & 0.0 & 0.0 & 0.0 & $\\dots$ \\\\\n",
       "\t19 & 0.0 & 0.0 & 0.0 & 0.0 & 0.0 & 1.0 & 1.0 & 0.0 & 0.0 & $\\dots$ \\\\\n",
       "\t20 & 0.0 & 0.0 & 0.0 & 0.0 & 0.0 & 0.0 & 0.0 & 1.0 & 0.0 & $\\dots$ \\\\\n",
       "\\end{tabular}\n"
      ],
      "text/plain": [
       "20×10310 DataFrame. Omitted printing of 10303 columns\n",
       "│ Row │ x1      │ x2      │ x3      │ x4      │ x5      │ x6      │ x7      │\n",
       "│     │ \u001b[90mFloat64\u001b[39m │ \u001b[90mFloat64\u001b[39m │ \u001b[90mFloat64\u001b[39m │ \u001b[90mFloat64\u001b[39m │ \u001b[90mFloat64\u001b[39m │ \u001b[90mFloat64\u001b[39m │ \u001b[90mFloat64\u001b[39m │\n",
       "├─────┼─────────┼─────────┼─────────┼─────────┼─────────┼─────────┼─────────┤\n",
       "│ 1   │ 0.0     │ 0.0     │ 0.0     │ 0.0     │ 0.0     │ 0.0     │ 0.0     │\n",
       "│ 2   │ 0.0     │ 0.0     │ 0.0     │ 0.0     │ 0.0     │ 0.0     │ 0.0     │\n",
       "│ 3   │ 0.0     │ 0.0     │ 0.0     │ 0.0     │ 0.0     │ 0.0     │ 0.0     │\n",
       "│ 4   │ 0.0     │ 0.0     │ 0.0     │ 0.0     │ 0.0     │ 0.0     │ 0.0     │\n",
       "│ 5   │ 0.0     │ 0.0     │ 0.0     │ 0.0     │ 0.0     │ 0.0     │ 0.0     │\n",
       "│ 6   │ 0.0     │ 0.0     │ 0.0     │ 0.0     │ 0.0     │ 0.0     │ 0.0     │\n",
       "│ 7   │ 0.0     │ 0.0     │ 0.0     │ 0.0     │ 0.0     │ 0.0     │ 0.0     │\n",
       "│ 8   │ 0.0     │ 0.0     │ 0.0     │ 0.0     │ 0.0     │ 0.0     │ 0.0     │\n",
       "│ 9   │ 0.0     │ 0.0     │ 0.0     │ 0.0     │ 0.0     │ 0.0     │ 0.0     │\n",
       "│ 10  │ 0.0     │ 0.0     │ 0.0     │ 0.0     │ 0.0     │ 0.0     │ 0.0     │\n",
       "│ 11  │ 0.0     │ 0.0     │ 0.0     │ 0.0     │ 0.0     │ 0.0     │ 0.0     │\n",
       "│ 12  │ 0.0     │ 0.0     │ 0.0     │ 0.0     │ 0.0     │ 0.0     │ 0.0     │\n",
       "│ 13  │ 1.0     │ 0.0     │ 0.0     │ 1.0     │ 0.0     │ 0.0     │ 0.0     │\n",
       "│ 14  │ 0.0     │ 0.0     │ 1.0     │ 0.0     │ 0.0     │ 0.0     │ 0.0     │\n",
       "│ 15  │ 0.0     │ 0.0     │ 0.0     │ 0.0     │ 0.0     │ 0.0     │ 0.0     │\n",
       "│ 16  │ 0.0     │ 0.0     │ 0.0     │ 0.0     │ 0.0     │ 0.0     │ 0.0     │\n",
       "│ 17  │ 0.0     │ 0.0     │ 0.0     │ 0.0     │ 0.0     │ 0.0     │ 0.0     │\n",
       "│ 18  │ 0.0     │ 1.0     │ 0.0     │ 0.0     │ 1.0     │ 0.0     │ 0.0     │\n",
       "│ 19  │ 0.0     │ 0.0     │ 0.0     │ 0.0     │ 0.0     │ 1.0     │ 1.0     │\n",
       "│ 20  │ 0.0     │ 0.0     │ 0.0     │ 0.0     │ 0.0     │ 0.0     │ 0.0     │"
      ]
     },
     "execution_count": 66,
     "metadata": {},
     "output_type": "execute_result"
    }
   ],
   "source": [
    "CSV.read(\"/Users/kathy908000/github/health-care-research/data/hingek20.2.csv\")"
   ]
  },
  {
   "cell_type": "markdown",
   "metadata": {},
   "source": [
    "# K-means k=10 With Different Loss Functions"
   ]
  },
  {
   "cell_type": "code",
   "execution_count": 67,
   "metadata": {},
   "outputs": [
    {
     "data": {
      "text/plain": [
       "920-element Array{Loss,1}:\n",
       " HuberLoss(1.0, RealDomain(), 1.0)\n",
       " HuberLoss(1.0, RealDomain(), 1.0)\n",
       " OrdinalHingeLoss(1, 10, 1.0, OrdinalDomain(1, 10))\n",
       " WeightedHingeLoss(1.0, BoolDomain(), 1.0)\n",
       " WeightedHingeLoss(1.0, BoolDomain(), 1.0)\n",
       " WeightedHingeLoss(1.0, BoolDomain(), 1.0)\n",
       " WeightedHingeLoss(1.0, BoolDomain(), 1.0)\n",
       " WeightedHingeLoss(1.0, BoolDomain(), 1.0)\n",
       " WeightedHingeLoss(1.0, BoolDomain(), 1.0)\n",
       " WeightedHingeLoss(1.0, BoolDomain(), 1.0)\n",
       " WeightedHingeLoss(1.0, BoolDomain(), 1.0)\n",
       " WeightedHingeLoss(1.0, BoolDomain(), 1.0)\n",
       " WeightedHingeLoss(1.0, BoolDomain(), 1.0)\n",
       " ⋮\n",
       " WeightedHingeLoss(1.0, BoolDomain(), 1.0)\n",
       " WeightedHingeLoss(1.0, BoolDomain(), 1.0)\n",
       " WeightedHingeLoss(1.0, BoolDomain(), 1.0)\n",
       " WeightedHingeLoss(1.0, BoolDomain(), 1.0)\n",
       " WeightedHingeLoss(1.0, BoolDomain(), 1.0)\n",
       " WeightedHingeLoss(1.0, BoolDomain(), 1.0)\n",
       " WeightedHingeLoss(1.0, BoolDomain(), 1.0)\n",
       " WeightedHingeLoss(1.0, BoolDomain(), 1.0)\n",
       " WeightedHingeLoss(1.0, BoolDomain(), 1.0)\n",
       " WeightedHingeLoss(1.0, BoolDomain(), 1.0)\n",
       " WeightedHingeLoss(1.0, BoolDomain(), 1.0)\n",
       " WeightedHingeLoss(1.0, BoolDomain(), 1.0)"
      ]
     },
     "execution_count": 67,
     "metadata": {},
     "output_type": "execute_result"
    }
   ],
   "source": [
    "loss1 = fill(HuberLoss(),2)\n",
    "loss2 = fill(HingeLoss(), 917)\n",
    "loss3 = fill(OrdinalHingeLoss(), 1)\n",
    "losses = [loss1; loss3; loss2]\n",
    "\n",
    "losses\n",
    "\n",
    "\n"
   ]
  },
  {
   "cell_type": "code",
   "execution_count": 68,
   "metadata": {},
   "outputs": [
    {
     "name": "stdout",
     "output_type": "stream",
     "text": [
      "Fitting GLRM\n",
      "Iteration 10: objective value = 3.1581057799070994e6\n",
      "Iteration 20: objective value = 527423.9356348302\n",
      "Iteration 30: objective value = 463121.293011227\n",
      "Iteration 40: objective value = 457446.8995733147\n"
     ]
    },
    {
     "data": {
      "text/plain": [
       "([0.0 0.0 … 0.0 0.0; 0.0 0.0 … 0.0 0.0; … ; 0.0 0.0 … 0.0 0.0; 0.0 0.0 … 0.0 0.0], [3.112006430747307 1.3233043161219435 … -1.0249404911896456 -1.3842053505326781; 2.946960649042108 1.1968062505325245 … -1.1283065996030066 -1.1025317114995121; … ; 3.1017194585179073 1.3000021184185981 … -1.3926879294660746 -1.1413578768728354; 3.045054018098418 1.2965403241737405 … -1.0155741874405766 -1.0665087786222378], ConvergenceHistory(\"ProxGradGLRM\", [Inf, 9.77093769962786e6, 8.983816275350226e6, 8.189006734601862e6, 7.395486429750658e6, 6.614790556667008e6, 5.85251738926274e6, 5.116780431488364e6, 4.417825412886197e6, 3.7631852062424957e6  …  458048.834929186, 457701.14301371435, 457446.8995733147, 457148.03321152, 456920.82445856417, 456715.2529004728, 456461.74882508605, 456284.7361084785, 456164.70651005855, 456078.2925472424], Float64[], [0.0, 0.0, 0.0, 0.0, 0.0, 0.0, 0.0, 0.0, 0.0, 0.0  …  0.0, 0.0, 0.0, 0.0, 0.0, 0.0, 0.0, 0.0, 0.0, 0.0], [0.0, 0.0, 0.0, 0.0, 0.0, 0.0, 0.0, 0.0, 0.0, 0.0  …  0.0, 0.0, 0.0, 0.0, 0.0, 0.0, 0.0, 0.0, 0.0, 0.0], [0.0, 17.461469173431396, 63.47020721435547, 76.24606418609619, 89.08310627937317, 102.03601217269897, 115.45153522491455, 128.96515417099, 142.08969831466675, 155.505633354187  …  529.8017077445984, 542.4784307479858, 555.606214761734, 568.4519727230072, 580.6063406467438, 592.7850377559662, 605.5041196346283, 620.4821546077728, 634.5091276168823, 646.8674726486206], [0.0, 0.0, 0.0, 0.0, 0.0, 0.0, 0.0, 0.0, 0.0, 0.0  …  0.0, 0.0, 0.0, 0.0, 0.0, 0.0, 0.0, 0.0, 0.0, 0.0], 0))"
      ]
     },
     "execution_count": 68,
     "metadata": {},
     "output_type": "execute_result"
    }
   ],
   "source": [
    "ry = ZeroReg()\n",
    "k = 10\n",
    "A= df3\n",
    "rx = UnitOneSparseConstraint() # each row is assigned to exactly one cluster\n",
    "glrm7 = GLRM(A,losses,rx,ry,k)\n",
    "X7,Y7,ch7 = fit!(glrm7)\n",
    "\n"
   ]
  },
  {
   "cell_type": "code",
   "execution_count": 69,
   "metadata": {},
   "outputs": [
    {
     "data": {
      "text/plain": [
       "10×10310 Array{Float64,2}:\n",
       " 0.0  0.0  0.0  0.0  0.0  0.0  0.0  0.0  …  0.0  0.0  0.0  0.0  0.0  0.0  0.0\n",
       " 0.0  0.0  0.0  0.0  0.0  0.0  0.0  1.0     0.0  0.0  0.0  0.0  0.0  0.0  0.0\n",
       " 0.0  0.0  0.0  0.0  0.0  0.0  0.0  0.0     1.0  1.0  0.0  0.0  0.0  0.0  1.0\n",
       " 0.0  0.0  0.0  0.0  0.0  0.0  0.0  0.0     0.0  0.0  0.0  0.0  0.0  0.0  0.0\n",
       " 1.0  1.0  0.0  0.0  0.0  0.0  0.0  0.0     0.0  0.0  0.0  0.0  0.0  0.0  0.0\n",
       " 0.0  0.0  1.0  0.0  0.0  1.0  1.0  0.0  …  0.0  0.0  0.0  0.0  1.0  0.0  0.0\n",
       " 0.0  0.0  0.0  0.0  1.0  0.0  0.0  0.0     0.0  0.0  0.0  0.0  0.0  1.0  0.0\n",
       " 0.0  0.0  0.0  1.0  0.0  0.0  0.0  0.0     0.0  0.0  0.0  0.0  0.0  0.0  0.0\n",
       " 0.0  0.0  0.0  0.0  0.0  0.0  0.0  0.0     0.0  0.0  1.0  0.0  0.0  0.0  0.0\n",
       " 0.0  0.0  0.0  0.0  0.0  0.0  0.0  0.0     0.0  0.0  0.0  1.0  0.0  0.0  0.0"
      ]
     },
     "execution_count": 69,
     "metadata": {},
     "output_type": "execute_result"
    }
   ],
   "source": [
    "X7"
   ]
  },
  {
   "cell_type": "code",
   "execution_count": 70,
   "metadata": {},
   "outputs": [
    {
     "name": "stdout",
     "output_type": "stream",
     "text": [
      "Computing cross validation error for each fold\n",
      "flattening observations\n",
      "computing CV folds\n",
      "\n",
      "forming train and test GLRM for fold 1\n",
      "training model on 7112014 samples and testing on 2373186\n",
      "fitting train GLRM for fold 1\n",
      "Fitting GLRM\n",
      "Iteration 10: objective value = 340971.1921874536\n",
      "computing train and test error for fold 1:\n",
      "\ttrain error: 0.047938403576341104\n",
      "\ttest error:  0.0481701180104517\n",
      "\n",
      "forming train and test GLRM for fold 2\n",
      "training model on 7114267 samples and testing on 2370933\n",
      "fitting train GLRM for fold 2\n",
      "Fitting GLRM\n",
      "Iteration 10: objective value = 341023.6435791855\n",
      "computing train and test error for fold 2:\n",
      "\ttrain error: 0.047927251835270905\n",
      "\ttest error:  0.048192178499965176\n",
      "\n",
      "forming train and test GLRM for fold 3\n",
      "training model on 7114956 samples and testing on 2370244\n",
      "fitting train GLRM for fold 3\n",
      "Fitting GLRM\n",
      "Iteration 10: objective value = 341571.5247818172\n",
      "computing train and test error for fold 3:\n",
      "\ttrain error: 0.047998515703009205\n",
      "\ttest error:  0.04796403626261082\n",
      "\n",
      "forming train and test GLRM for fold 4\n",
      "training model on 7114363 samples and testing on 2370837\n",
      "fitting train GLRM for fold 4\n",
      "Fitting GLRM\n",
      "Iteration 10: objective value = 342251.00948754646\n",
      "computing train and test error for fold 4:\n",
      "\ttrain error: 0.04809273020077817\n",
      "\ttest error:  0.04766131867491157\n"
     ]
    },
    {
     "data": {
      "text/html": [
       "<table class=\"data-frame\"><thead><tr><th></th><th>train_error</th><th>test_error</th></tr><tr><th></th><th>Float64</th><th>Float64</th></tr></thead><tbody><p>4 rows × 2 columns</p><tr><th>1</th><td>0.0479384</td><td>0.0481701</td></tr><tr><th>2</th><td>0.0479273</td><td>0.0481922</td></tr><tr><th>3</th><td>0.0479985</td><td>0.047964</td></tr><tr><th>4</th><td>0.0480927</td><td>0.0476613</td></tr></tbody></table>"
      ],
      "text/latex": [
       "\\begin{tabular}{r|cc}\n",
       "\t& train\\_error & test\\_error\\\\\n",
       "\t\\hline\n",
       "\t& Float64 & Float64\\\\\n",
       "\t\\hline\n",
       "\t1 & 0.0479384 & 0.0481701 \\\\\n",
       "\t2 & 0.0479273 & 0.0481922 \\\\\n",
       "\t3 & 0.0479985 & 0.047964 \\\\\n",
       "\t4 & 0.0480927 & 0.0476613 \\\\\n",
       "\\end{tabular}\n"
      ],
      "text/plain": [
       "4×2 DataFrame\n",
       "│ Row │ train_error │ test_error │\n",
       "│     │ \u001b[90mFloat64\u001b[39m     │ \u001b[90mFloat64\u001b[39m    │\n",
       "├─────┼─────────────┼────────────┤\n",
       "│ 1   │ 0.0479384   │ 0.0481701  │\n",
       "│ 2   │ 0.0479273   │ 0.0481922  │\n",
       "│ 3   │ 0.0479985   │ 0.047964   │\n",
       "│ 4   │ 0.0480927   │ 0.0476613  │"
      ]
     },
     "execution_count": 70,
     "metadata": {},
     "output_type": "execute_result"
    }
   ],
   "source": [
    "println(\"Computing cross validation error for each fold\")\n",
    "params = Params(1.0, max_iter=100, abs_tol=0.0, min_stepsize=.001)\n",
    "train_error, test_error, train_glrms, test_glrms = cross_validate(glrm7, nfolds=4, params=params)\n",
    "df = DataFrame(train_error = train_error, test_error = test_error)"
   ]
  },
  {
   "cell_type": "code",
   "execution_count": 71,
   "metadata": {},
   "outputs": [
    {
     "data": {
      "text/html": [
       "<table class=\"data-frame\"><thead><tr><th></th><th>x1</th><th>x2</th><th>x3</th><th>x4</th><th>x5</th><th>x6</th><th>x7</th><th>x8</th><th>x9</th></tr><tr><th></th><th>Float64</th><th>Float64</th><th>Float64</th><th>Float64</th><th>Float64</th><th>Float64</th><th>Float64</th><th>Float64</th><th>Float64</th></tr></thead><tbody><p>10 rows × 10,310 columns (omitted printing of 10301 columns)</p><tr><th>1</th><td>0.0</td><td>0.0</td><td>0.0</td><td>0.0</td><td>0.0</td><td>0.0</td><td>0.0</td><td>0.0</td><td>0.0</td></tr><tr><th>2</th><td>0.0</td><td>0.0</td><td>0.0</td><td>0.0</td><td>0.0</td><td>0.0</td><td>0.0</td><td>1.0</td><td>0.0</td></tr><tr><th>3</th><td>0.0</td><td>0.0</td><td>0.0</td><td>0.0</td><td>0.0</td><td>0.0</td><td>0.0</td><td>0.0</td><td>0.0</td></tr><tr><th>4</th><td>0.0</td><td>0.0</td><td>0.0</td><td>0.0</td><td>0.0</td><td>0.0</td><td>0.0</td><td>0.0</td><td>0.0</td></tr><tr><th>5</th><td>1.0</td><td>1.0</td><td>0.0</td><td>0.0</td><td>0.0</td><td>0.0</td><td>0.0</td><td>0.0</td><td>0.0</td></tr><tr><th>6</th><td>0.0</td><td>0.0</td><td>1.0</td><td>0.0</td><td>0.0</td><td>1.0</td><td>1.0</td><td>0.0</td><td>0.0</td></tr><tr><th>7</th><td>0.0</td><td>0.0</td><td>0.0</td><td>0.0</td><td>1.0</td><td>0.0</td><td>0.0</td><td>0.0</td><td>0.0</td></tr><tr><th>8</th><td>0.0</td><td>0.0</td><td>0.0</td><td>1.0</td><td>0.0</td><td>0.0</td><td>0.0</td><td>0.0</td><td>0.0</td></tr><tr><th>9</th><td>0.0</td><td>0.0</td><td>0.0</td><td>0.0</td><td>0.0</td><td>0.0</td><td>0.0</td><td>0.0</td><td>0.0</td></tr><tr><th>10</th><td>0.0</td><td>0.0</td><td>0.0</td><td>0.0</td><td>0.0</td><td>0.0</td><td>0.0</td><td>0.0</td><td>1.0</td></tr></tbody></table>"
      ],
      "text/latex": [
       "\\begin{tabular}{r|cccccccccc}\n",
       "\t& x1 & x2 & x3 & x4 & x5 & x6 & x7 & x8 & x9 & \\\\\n",
       "\t\\hline\n",
       "\t& Float64 & Float64 & Float64 & Float64 & Float64 & Float64 & Float64 & Float64 & Float64 & \\\\\n",
       "\t\\hline\n",
       "\t1 & 0.0 & 0.0 & 0.0 & 0.0 & 0.0 & 0.0 & 0.0 & 0.0 & 0.0 & $\\dots$ \\\\\n",
       "\t2 & 0.0 & 0.0 & 0.0 & 0.0 & 0.0 & 0.0 & 0.0 & 1.0 & 0.0 & $\\dots$ \\\\\n",
       "\t3 & 0.0 & 0.0 & 0.0 & 0.0 & 0.0 & 0.0 & 0.0 & 0.0 & 0.0 & $\\dots$ \\\\\n",
       "\t4 & 0.0 & 0.0 & 0.0 & 0.0 & 0.0 & 0.0 & 0.0 & 0.0 & 0.0 & $\\dots$ \\\\\n",
       "\t5 & 1.0 & 1.0 & 0.0 & 0.0 & 0.0 & 0.0 & 0.0 & 0.0 & 0.0 & $\\dots$ \\\\\n",
       "\t6 & 0.0 & 0.0 & 1.0 & 0.0 & 0.0 & 1.0 & 1.0 & 0.0 & 0.0 & $\\dots$ \\\\\n",
       "\t7 & 0.0 & 0.0 & 0.0 & 0.0 & 1.0 & 0.0 & 0.0 & 0.0 & 0.0 & $\\dots$ \\\\\n",
       "\t8 & 0.0 & 0.0 & 0.0 & 1.0 & 0.0 & 0.0 & 0.0 & 0.0 & 0.0 & $\\dots$ \\\\\n",
       "\t9 & 0.0 & 0.0 & 0.0 & 0.0 & 0.0 & 0.0 & 0.0 & 0.0 & 0.0 & $\\dots$ \\\\\n",
       "\t10 & 0.0 & 0.0 & 0.0 & 0.0 & 0.0 & 0.0 & 0.0 & 0.0 & 1.0 & $\\dots$ \\\\\n",
       "\\end{tabular}\n"
      ],
      "text/plain": [
       "10×10310 DataFrame. Omitted printing of 10303 columns\n",
       "│ Row │ x1      │ x2      │ x3      │ x4      │ x5      │ x6      │ x7      │\n",
       "│     │ \u001b[90mFloat64\u001b[39m │ \u001b[90mFloat64\u001b[39m │ \u001b[90mFloat64\u001b[39m │ \u001b[90mFloat64\u001b[39m │ \u001b[90mFloat64\u001b[39m │ \u001b[90mFloat64\u001b[39m │ \u001b[90mFloat64\u001b[39m │\n",
       "├─────┼─────────┼─────────┼─────────┼─────────┼─────────┼─────────┼─────────┤\n",
       "│ 1   │ 0.0     │ 0.0     │ 0.0     │ 0.0     │ 0.0     │ 0.0     │ 0.0     │\n",
       "│ 2   │ 0.0     │ 0.0     │ 0.0     │ 0.0     │ 0.0     │ 0.0     │ 0.0     │\n",
       "│ 3   │ 0.0     │ 0.0     │ 0.0     │ 0.0     │ 0.0     │ 0.0     │ 0.0     │\n",
       "│ 4   │ 0.0     │ 0.0     │ 0.0     │ 0.0     │ 0.0     │ 0.0     │ 0.0     │\n",
       "│ 5   │ 1.0     │ 1.0     │ 0.0     │ 0.0     │ 0.0     │ 0.0     │ 0.0     │\n",
       "│ 6   │ 0.0     │ 0.0     │ 1.0     │ 0.0     │ 0.0     │ 1.0     │ 1.0     │\n",
       "│ 7   │ 0.0     │ 0.0     │ 0.0     │ 0.0     │ 1.0     │ 0.0     │ 0.0     │\n",
       "│ 8   │ 0.0     │ 0.0     │ 0.0     │ 1.0     │ 0.0     │ 0.0     │ 0.0     │\n",
       "│ 9   │ 0.0     │ 0.0     │ 0.0     │ 0.0     │ 0.0     │ 0.0     │ 0.0     │\n",
       "│ 10  │ 0.0     │ 0.0     │ 0.0     │ 0.0     │ 0.0     │ 0.0     │ 0.0     │"
      ]
     },
     "execution_count": 71,
     "metadata": {},
     "output_type": "execute_result"
    }
   ],
   "source": [
    "hingek10 = convert(DataFrame, X7) "
   ]
  },
  {
   "cell_type": "code",
   "execution_count": 72,
   "metadata": {},
   "outputs": [
    {
     "data": {
      "text/plain": [
       "\"/Users/kathy908000/github/health-care-research/data/hingek10.csv\""
      ]
     },
     "execution_count": 72,
     "metadata": {},
     "output_type": "execute_result"
    }
   ],
   "source": [
    "CSV.write(\"/Users/kathy908000/github/health-care-research/data/hingek10.csv\", hingek10)\n",
    "\n",
    "\n"
   ]
  },
  {
   "cell_type": "code",
   "execution_count": 73,
   "metadata": {},
   "outputs": [
    {
     "data": {
      "text/html": [
       "<table class=\"data-frame\"><thead><tr><th></th><th>x1</th><th>x2</th><th>x3</th><th>x4</th><th>x5</th><th>x6</th><th>x7</th><th>x8</th><th>x9</th></tr><tr><th></th><th>Float64</th><th>Float64</th><th>Float64</th><th>Float64</th><th>Float64</th><th>Float64</th><th>Float64</th><th>Float64</th><th>Float64</th></tr></thead><tbody><p>10 rows × 10,310 columns (omitted printing of 10301 columns)</p><tr><th>1</th><td>0.0</td><td>0.0</td><td>0.0</td><td>0.0</td><td>0.0</td><td>0.0</td><td>0.0</td><td>0.0</td><td>0.0</td></tr><tr><th>2</th><td>0.0</td><td>0.0</td><td>0.0</td><td>0.0</td><td>0.0</td><td>0.0</td><td>0.0</td><td>1.0</td><td>0.0</td></tr><tr><th>3</th><td>0.0</td><td>0.0</td><td>0.0</td><td>0.0</td><td>0.0</td><td>0.0</td><td>0.0</td><td>0.0</td><td>0.0</td></tr><tr><th>4</th><td>0.0</td><td>0.0</td><td>0.0</td><td>0.0</td><td>0.0</td><td>0.0</td><td>0.0</td><td>0.0</td><td>0.0</td></tr><tr><th>5</th><td>1.0</td><td>1.0</td><td>0.0</td><td>0.0</td><td>0.0</td><td>0.0</td><td>0.0</td><td>0.0</td><td>0.0</td></tr><tr><th>6</th><td>0.0</td><td>0.0</td><td>1.0</td><td>0.0</td><td>0.0</td><td>1.0</td><td>1.0</td><td>0.0</td><td>0.0</td></tr><tr><th>7</th><td>0.0</td><td>0.0</td><td>0.0</td><td>0.0</td><td>1.0</td><td>0.0</td><td>0.0</td><td>0.0</td><td>0.0</td></tr><tr><th>8</th><td>0.0</td><td>0.0</td><td>0.0</td><td>1.0</td><td>0.0</td><td>0.0</td><td>0.0</td><td>0.0</td><td>0.0</td></tr><tr><th>9</th><td>0.0</td><td>0.0</td><td>0.0</td><td>0.0</td><td>0.0</td><td>0.0</td><td>0.0</td><td>0.0</td><td>0.0</td></tr><tr><th>10</th><td>0.0</td><td>0.0</td><td>0.0</td><td>0.0</td><td>0.0</td><td>0.0</td><td>0.0</td><td>0.0</td><td>1.0</td></tr></tbody></table>"
      ],
      "text/latex": [
       "\\begin{tabular}{r|cccccccccc}\n",
       "\t& x1 & x2 & x3 & x4 & x5 & x6 & x7 & x8 & x9 & \\\\\n",
       "\t\\hline\n",
       "\t& Float64 & Float64 & Float64 & Float64 & Float64 & Float64 & Float64 & Float64 & Float64 & \\\\\n",
       "\t\\hline\n",
       "\t1 & 0.0 & 0.0 & 0.0 & 0.0 & 0.0 & 0.0 & 0.0 & 0.0 & 0.0 & $\\dots$ \\\\\n",
       "\t2 & 0.0 & 0.0 & 0.0 & 0.0 & 0.0 & 0.0 & 0.0 & 1.0 & 0.0 & $\\dots$ \\\\\n",
       "\t3 & 0.0 & 0.0 & 0.0 & 0.0 & 0.0 & 0.0 & 0.0 & 0.0 & 0.0 & $\\dots$ \\\\\n",
       "\t4 & 0.0 & 0.0 & 0.0 & 0.0 & 0.0 & 0.0 & 0.0 & 0.0 & 0.0 & $\\dots$ \\\\\n",
       "\t5 & 1.0 & 1.0 & 0.0 & 0.0 & 0.0 & 0.0 & 0.0 & 0.0 & 0.0 & $\\dots$ \\\\\n",
       "\t6 & 0.0 & 0.0 & 1.0 & 0.0 & 0.0 & 1.0 & 1.0 & 0.0 & 0.0 & $\\dots$ \\\\\n",
       "\t7 & 0.0 & 0.0 & 0.0 & 0.0 & 1.0 & 0.0 & 0.0 & 0.0 & 0.0 & $\\dots$ \\\\\n",
       "\t8 & 0.0 & 0.0 & 0.0 & 1.0 & 0.0 & 0.0 & 0.0 & 0.0 & 0.0 & $\\dots$ \\\\\n",
       "\t9 & 0.0 & 0.0 & 0.0 & 0.0 & 0.0 & 0.0 & 0.0 & 0.0 & 0.0 & $\\dots$ \\\\\n",
       "\t10 & 0.0 & 0.0 & 0.0 & 0.0 & 0.0 & 0.0 & 0.0 & 0.0 & 1.0 & $\\dots$ \\\\\n",
       "\\end{tabular}\n"
      ],
      "text/plain": [
       "10×10310 DataFrame. Omitted printing of 10303 columns\n",
       "│ Row │ x1      │ x2      │ x3      │ x4      │ x5      │ x6      │ x7      │\n",
       "│     │ \u001b[90mFloat64\u001b[39m │ \u001b[90mFloat64\u001b[39m │ \u001b[90mFloat64\u001b[39m │ \u001b[90mFloat64\u001b[39m │ \u001b[90mFloat64\u001b[39m │ \u001b[90mFloat64\u001b[39m │ \u001b[90mFloat64\u001b[39m │\n",
       "├─────┼─────────┼─────────┼─────────┼─────────┼─────────┼─────────┼─────────┤\n",
       "│ 1   │ 0.0     │ 0.0     │ 0.0     │ 0.0     │ 0.0     │ 0.0     │ 0.0     │\n",
       "│ 2   │ 0.0     │ 0.0     │ 0.0     │ 0.0     │ 0.0     │ 0.0     │ 0.0     │\n",
       "│ 3   │ 0.0     │ 0.0     │ 0.0     │ 0.0     │ 0.0     │ 0.0     │ 0.0     │\n",
       "│ 4   │ 0.0     │ 0.0     │ 0.0     │ 0.0     │ 0.0     │ 0.0     │ 0.0     │\n",
       "│ 5   │ 1.0     │ 1.0     │ 0.0     │ 0.0     │ 0.0     │ 0.0     │ 0.0     │\n",
       "│ 6   │ 0.0     │ 0.0     │ 1.0     │ 0.0     │ 0.0     │ 1.0     │ 1.0     │\n",
       "│ 7   │ 0.0     │ 0.0     │ 0.0     │ 0.0     │ 1.0     │ 0.0     │ 0.0     │\n",
       "│ 8   │ 0.0     │ 0.0     │ 0.0     │ 1.0     │ 0.0     │ 0.0     │ 0.0     │\n",
       "│ 9   │ 0.0     │ 0.0     │ 0.0     │ 0.0     │ 0.0     │ 0.0     │ 0.0     │\n",
       "│ 10  │ 0.0     │ 0.0     │ 0.0     │ 0.0     │ 0.0     │ 0.0     │ 0.0     │"
      ]
     },
     "execution_count": 73,
     "metadata": {},
     "output_type": "execute_result"
    }
   ],
   "source": [
    "CSV.read(\"/Users/kathy908000/github/health-care-research/data/hingek10.csv\")\n"
   ]
  },
  {
   "cell_type": "markdown",
   "metadata": {},
   "source": [
    "# NNMF"
   ]
  },
  {
   "cell_type": "code",
   "execution_count": 8,
   "metadata": {},
   "outputs": [
    {
     "name": "stdout",
     "output_type": "stream",
     "text": [
      "Fitting GLRM\n",
      "Iteration 10: objective value = 764537.0790768476\n",
      "Iteration 20: objective value = 189334.73924219978\n",
      "Iteration 30: objective value = 161362.85257062083\n",
      "Iteration 40: objective value = 157023.18324285527\n",
      "Iteration 50: objective value = 151069.50439275693\n",
      "Iteration 60: objective value = 145188.07084500446\n",
      "Iteration 70: objective value = 141302.76335271215\n",
      "Iteration 80: objective value = 139114.99790250554\n",
      "Iteration 90: objective value = 137963.30744522018\n",
      "Convergence history:[Inf, 8.130553586995648e7, 2.398761303180184e6, 2.1148184233406405e6, 2.0232038206393218e6, 1.8252981416761943e6, 1.6932783623200082e6, 1.437978115467547e6, 1.2151400185981703e6, 956005.9864030329, 764537.0790768476, 620886.7172769974, 530063.5752974483, 466363.65305628296, 412671.1453068042, 359283.87048848683, 307650.7349968916, 262058.0281492326, 227402.07294989645, 203927.00288718744, 189334.73924219978, 180378.50478425293, 174673.72917126463, 170740.8323234377, 167997.60647421083, 166046.3546136129, 164621.75685415327, 163529.2332954866, 162661.1368957251, 161960.12877117083, 161362.85257062083, 160854.73306966797, 160396.83364265697, 159982.62053613618, 159586.84412799068, 159201.8383224868, 158810.93700287535, 158400.69456063665, 157959.7037231417, 157472.04989482538, 157023.18324285527, 156563.17713802983, 156083.95072206957, 155577.1324719729, 155035.85445182424, 154455.84095392757, 153834.75289148584, 153182.63067273787, 152494.98600683076, 151788.54036580186, 151069.50439275693, 150347.25140722474, 149632.36274963012, 148950.69192185078, 148294.75574038943, 147661.62345621575, 147079.64690000648, 146520.65132804847, 146048.6237407977, 145640.13099568215, 145188.07084500446, 144757.98095704635, 144378.03315153066, 143968.7752082212, 143606.52748027653, 143192.19209121628, 142860.6169571874, 142447.0429281798, 142066.6602262235, 141647.03235115221, 141302.76335271215, 140930.5556106124, 140642.68383901916, 140347.71485754356, 140098.88154246355, 139867.09549063316, 139699.11861219053, 139528.88127888774, 139397.2180525947, 139241.5931784428, 139114.99790250554, 138973.714601994, 138857.59756593427, 138726.48001152, 138616.42421221273, 138486.620055713, 138380.4334556064, 138266.02204297754, 138167.5362182238, 138058.77677924768, 137963.30744522018, 137866.7049280426, 137770.54153546388, 137670.98045784823, 137574.97649389558, 137476.22055398693, 137381.7000427251]\n"
     ]
    }
   ],
   "source": [
    "# minimize_{X>=0, Y>=0} ||A - XY||^2\n",
    "\n",
    "k = 10\n",
    "A = df3\n",
    "loss = QuadLoss()\n",
    "r = NonNegConstraint()\n",
    "glrm = GLRM(A,loss,r,r,k)\n",
    "X,Y,ch = fit!(glrm)\n",
    "println(\"Convergence history:\",ch.objective)\n",
    "    "
   ]
  },
  {
   "cell_type": "code",
   "execution_count": 9,
   "metadata": {},
   "outputs": [
    {
     "data": {
      "text/plain": [
       "10×10310 Array{Float64,2}:\n",
       " 0.00746376  0.0158258    0.0         …  0.0819388   0.0478082    0.0\n",
       " 0.0159935   0.00320387   0.00810761     0.00432487  0.0          0.0\n",
       " 0.0         0.0221281    0.0            0.00324694  0.0          0.0117319\n",
       " 0.0         0.0          0.0            0.0125264   0.00883234   0.0\n",
       " 0.0         0.0          0.0            0.0         0.000113913  0.0\n",
       " 0.0906721   0.139666     0.082231    …  0.0913632   0.105025     0.0234399\n",
       " 0.0         0.000331621  0.0            0.0         0.0          0.0\n",
       " 0.119204    0.012094     0.0331585      0.0290805   0.0276679    0.0311856\n",
       " 0.128364    0.184366     0.295133       0.148516    0.317999     0.270158\n",
       " 0.0         0.0          0.0            0.0259988   0.0178199    0.0172448"
      ]
     },
     "execution_count": 9,
     "metadata": {},
     "output_type": "execute_result"
    }
   ],
   "source": [
    "X"
   ]
  },
  {
   "cell_type": "code",
   "execution_count": 10,
   "metadata": {},
   "outputs": [
    {
     "name": "stdout",
     "output_type": "stream",
     "text": [
      "Computing cross validation error for each fold\n",
      "flattening observations\n",
      "computing CV folds\n",
      "\n",
      "forming train and test GLRM for fold 1\n",
      "training model on 7587682 samples and testing on 1897518\n",
      "fitting train GLRM for fold 1\n",
      "Fitting GLRM\n",
      "Iteration 10: objective value = 108646.87673280195\n",
      "Iteration 20: objective value = 108233.82956817739\n",
      "Iteration 30: objective value = 107878.62086500217\n",
      "Iteration 40: objective value = 107478.83032595043\n",
      "Iteration 50: objective value = 106965.49226451431\n",
      "Iteration 60: objective value = 106329.57067913972\n",
      "Iteration 70: objective value = 105681.31173824564\n",
      "Iteration 80: objective value = 105125.48956562344\n",
      "Iteration 90: objective value = 104489.58431235782\n",
      "Iteration 100: objective value = 103539.33470941114\n",
      "computing train and test error for fold 1:\n",
      "\ttrain error: 0.01364571350109242\n",
      "\ttest error:  0.03605815738829553\n",
      "\n",
      "forming train and test GLRM for fold 2\n",
      "training model on 7587945 samples and testing on 1897255\n",
      "fitting train GLRM for fold 2\n",
      "Fitting GLRM\n",
      "Iteration 10: objective value = 108561.43348353573\n",
      "Iteration 20: objective value = 108147.98431345486\n",
      "Iteration 30: objective value = 107785.61821047057\n",
      "Iteration 40: objective value = 107378.07128670959\n",
      "Iteration 50: objective value = 106858.22218424961\n",
      "Iteration 60: objective value = 106212.25695256719\n",
      "Iteration 70: objective value = 105562.77597834576\n",
      "Iteration 80: objective value = 105026.39841988424\n",
      "Iteration 90: objective value = 104406.93563557009\n",
      "Iteration 100: objective value = 103496.78834830946\n",
      "computing train and test error for fold 2:\n",
      "\ttrain error: 0.013639633438077047\n",
      "\ttest error:  0.03781680108143324\n",
      "\n",
      "forming train and test GLRM for fold 3\n",
      "training model on 7588981 samples and testing on 1896219\n",
      "fitting train GLRM for fold 3\n",
      "Fitting GLRM\n",
      "Iteration 10: objective value = 108578.99348862258\n",
      "Iteration 20: objective value = 108175.11439534252\n",
      "Iteration 30: objective value = 107820.92660752726\n",
      "Iteration 40: objective value = 107418.36815762849\n",
      "Iteration 50: objective value = 106903.22592033587\n",
      "Iteration 60: objective value = 106257.45580721209\n",
      "Iteration 70: objective value = 105607.7924882627\n",
      "Iteration 80: objective value = 105065.58232312526\n",
      "Iteration 90: objective value = 104450.03166279942\n",
      "Iteration 100: objective value = 103535.21117919227\n",
      "computing train and test error for fold 3:\n",
      "\ttrain error: 0.013642834417317312\n",
      "\ttest error:  0.033869261817241085\n",
      "\n",
      "forming train and test GLRM for fold 4\n",
      "training model on 7588612 samples and testing on 1896588\n",
      "fitting train GLRM for fold 4\n",
      "Fitting GLRM\n",
      "Iteration 10: objective value = 108519.12782171185\n",
      "Iteration 20: objective value = 108097.31078845107\n",
      "Iteration 30: objective value = 107724.35250965202\n",
      "Iteration 40: objective value = 107300.19847784998\n",
      "Iteration 50: objective value = 106756.67567703486\n",
      "Iteration 60: objective value = 106081.99206613317\n",
      "Iteration 70: objective value = 105411.47350629319\n",
      "Iteration 80: objective value = 104855.44626328781\n",
      "Iteration 90: objective value = 104194.8438926028\n",
      "Iteration 100: objective value = 103205.36088860813\n",
      "computing train and test error for fold 4:\n",
      "\ttrain error: 0.013600031321746222\n",
      "\ttest error:  0.036789949246316594\n",
      "\n",
      "forming train and test GLRM for fold 5\n",
      "training model on 7587580 samples and testing on 1897620\n",
      "fitting train GLRM for fold 5\n",
      "Fitting GLRM\n",
      "Iteration 10: objective value = 108720.07496293925\n",
      "Iteration 20: objective value = 108258.76268275468\n",
      "Iteration 30: objective value = 107855.4823431078\n",
      "Iteration 40: objective value = 107412.36761034686\n",
      "Iteration 50: objective value = 106872.54575680585\n",
      "Iteration 60: objective value = 106227.0279717503\n",
      "Iteration 70: objective value = 105571.91301449272\n",
      "Iteration 80: objective value = 105008.59982551419\n",
      "Iteration 90: objective value = 104355.61996300358\n",
      "Iteration 100: objective value = 103419.4655912952\n",
      "computing train and test error for fold 5:\n",
      "\ttrain error: 0.013630098870952283\n",
      "\ttest error:  0.05852172109430766\n"
     ]
    },
    {
     "data": {
      "text/html": [
       "<table class=\"data-frame\"><thead><tr><th></th><th>train_error</th><th>test_error</th></tr><tr><th></th><th>Float64</th><th>Float64</th></tr></thead><tbody><p>5 rows × 2 columns</p><tr><th>1</th><td>0.0136457</td><td>0.0360582</td></tr><tr><th>2</th><td>0.0136396</td><td>0.0378168</td></tr><tr><th>3</th><td>0.0136428</td><td>0.0338693</td></tr><tr><th>4</th><td>0.0136</td><td>0.0367899</td></tr><tr><th>5</th><td>0.0136301</td><td>0.0585217</td></tr></tbody></table>"
      ],
      "text/latex": [
       "\\begin{tabular}{r|cc}\n",
       "\t& train\\_error & test\\_error\\\\\n",
       "\t\\hline\n",
       "\t& Float64 & Float64\\\\\n",
       "\t\\hline\n",
       "\t1 & 0.0136457 & 0.0360582 \\\\\n",
       "\t2 & 0.0136396 & 0.0378168 \\\\\n",
       "\t3 & 0.0136428 & 0.0338693 \\\\\n",
       "\t4 & 0.0136 & 0.0367899 \\\\\n",
       "\t5 & 0.0136301 & 0.0585217 \\\\\n",
       "\\end{tabular}\n"
      ],
      "text/plain": [
       "5×2 DataFrame\n",
       "│ Row │ train_error │ test_error │\n",
       "│     │ \u001b[90mFloat64\u001b[39m     │ \u001b[90mFloat64\u001b[39m    │\n",
       "├─────┼─────────────┼────────────┤\n",
       "│ 1   │ 0.0136457   │ 0.0360582  │\n",
       "│ 2   │ 0.0136396   │ 0.0378168  │\n",
       "│ 3   │ 0.0136428   │ 0.0338693  │\n",
       "│ 4   │ 0.0136      │ 0.0367899  │\n",
       "│ 5   │ 0.0136301   │ 0.0585217  │"
      ]
     },
     "execution_count": 10,
     "metadata": {},
     "output_type": "execute_result"
    }
   ],
   "source": [
    "println(\"Computing cross validation error for each fold\")\n",
    "params = Params(1.0, max_iter=100, abs_tol=0.0, min_stepsize=.001)\n",
    "#max_iter=70\n",
    "train_error, test_error, train_glrms, test_glrms = cross_validate(glrm, nfolds=5, params=params)\n",
    "df = DataFrame(train_error = train_error, test_error = test_error)"
   ]
  }
 ],
 "metadata": {
  "kernelspec": {
   "display_name": "Julia 1.4.2",
   "language": "julia",
   "name": "julia-1.4"
  },
  "language_info": {
   "file_extension": ".jl",
   "mimetype": "application/julia",
   "name": "julia",
   "version": "1.4.2"
  }
 },
 "nbformat": 4,
 "nbformat_minor": 2
}
